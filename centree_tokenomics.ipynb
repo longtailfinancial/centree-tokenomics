{
 "cells": [
  {
   "cell_type": "code",
   "execution_count": 1,
   "metadata": {},
   "outputs": [
    {
     "name": "stderr",
     "output_type": "stream",
     "text": [
      "/Library/Frameworks/Python.framework/Versions/3.8/lib/python3.8/site-packages/requests/__init__.py:89: RequestsDependencyWarning: urllib3 (1.26.5) or chardet (3.0.4) doesn't match a supported version!\n",
      "  warnings.warn(\"urllib3 ({}) or chardet ({}) doesn't match a supported \"\n"
     ]
    }
   ],
   "source": [
    "import param as pm\n",
    "import panel as pn"
   ]
  },
  {
   "cell_type": "code",
   "execution_count": 2,
   "metadata": {},
   "outputs": [],
   "source": [
    "class Wallet(pm.Parameterized):\n",
    "    total_fund = pm.Number(0, bounds=(0, None), doc=\"wallet amount in USD\")\n",
    "    total_ctr = pm.Number(0, bounds=(0, None), doc=\"Amount of CTR tokens in wallet\")\n",
    "    \n",
    "    def __init__(self, **params):\n",
    "        super().__init__(**params)\n",
    "    \n",
    "    def add_funds(self, amount):\n",
    "        self.total_fund += amount\n",
    "        \n",
    "    def add_ctr(self, ctr):\n",
    "        self.total_ctr += ctr\n",
    "        \n",
    "    def return_funds(self):\n",
    "        return self.total_fund\n",
    "    \n",
    "    def return_ctr(self):\n",
    "        return self.total_ctr"
   ]
  },
  {
   "cell_type": "code",
   "execution_count": 3,
   "metadata": {},
   "outputs": [],
   "source": [
    "class OldGrowthForestUnit(pm.Parameterized):\n",
    "    \"\"\"OGFU\"\"\"\n",
    "    ogfu_name = pm.String('', doc=\"Name of particular OGFU\")\n",
    "    tree_century_count = pm.Number(32000, bounds=(0,1e6), doc=\"TCC\")\n",
    "    cost_for_protection = pm.Number(320000, bounds=(0, 1e6), doc=\"Cost for Protection\")\n",
    "    token_multiplier = pm.Number(1, bounds=(0, 10), doc=\"TM\")\n",
    "    staked_funds = pm.Number(0, bounds=(0, None), doc=\"The amount staked in a respective OGFU in CTR\")\n",
    "    staked_amount = pm.Number(0, bounds=(0, None), doc=\"The amount released after an OGFU is fully staked\")\n",
    "    approved = pm.Boolean(False, doc=\"Boolean that determines whether OGFU has been approved by Centree fund\")\n",
    "    full_stake = pm.Boolean(False, doc=\"Boolean that determines when the OGFU is fully staked\")\n",
    "    full_stake_amount = pm.Number(50000, bounds=(0, None), doc=\"The required amount for an OGFU to become fully staked\")\n",
    "    \n",
    "    def __init__(self, **params):\n",
    "        super().__init__(**params)\n",
    "    \n",
    "    def check_full_stake(self, centree):\n",
    "        # Assume OGFU is fully staked at 50000 CTR\n",
    "        if (self.staked_funds >= self.full_stake_amount):\n",
    "            self.full_stake = True\n",
    "            # Calculate the amount released by Centree fund once the OGFU is fully staked\n",
    "            released_amount = self.full_stake_amount * (1/centree.cash_to_ctr)\n",
    "            self.staked_amount = released_amount\n",
    "            centree.centree_general_fund -= released_amount\n",
    "            \n",
    "            # Surplus over the required amount for full stake is returned to the wallet\n",
    "            returned_amount = self.staked_funds - self.full_stake_amount\n",
    "            return centree, returned_amount\n",
    "        else: \n",
    "            self.full_stake = False\n",
    "            # No surplus, since the staked funds aren't above the required amount for full stake\n",
    "            returned_amount = 0\n",
    "            return centree, returned_amount\n",
    "\n",
    "    def name_ogfu(self, name):\n",
    "        \"\"\"Name\"\"\"\n",
    "        self.ogfu_name = name\n",
    "    \n",
    "    def get_protection_cost_per_century(self):\n",
    "        \"\"\"PCC\"\"\"\n",
    "        return self.cost_for_protection / self.tree_century_count\n",
    "    \n",
    "    def get_ctr_tokens_issued(self):\n",
    "        \"\"\"CTR Tokens Issued\"\"\"\n",
    "        return self.tree_century_count * self.token_multiplier\n",
    "    \n",
    "    def stake(self, wallet: Wallet, ctr, centree):\n",
    "        \"\"\"Community members vote to protect a particular OGFU by “staking” their CTR against particular\n",
    "        Tree Centuries in that OGFU. OGFUs can only be staked against when their PCC is lower than \n",
    "        FundEquity/TotalCTRIssued. Minimum stake is 100CTR\"\"\"\n",
    "        pcc = self.get_protection_cost_per_century()\n",
    "        if (ctr > 100) and (pcc < centree.get_total_ctr_issued()) and (self.approved):\n",
    "            # Remove the funded amount from user's wallet & add it to OGFU staked amount\n",
    "            wallet.add_ctr(-ctr)\n",
    "            self.staked_funds += ctr\n",
    "            centree, returned_amount = self.check_full_stake(centree)\n",
    "            # If there's a surplus over required full stake amount, return it to wallet\n",
    "            wallet.add_ctr(returned_amount)\n",
    "            \n",
    "        return wallet, centree\n",
    "        \n",
    "    def generate_revenue(self):\n",
    "        \"\"\"A funded OGFU will periodically generate revenue for later distribution\"\"\"\n",
    "        pass"
   ]
  },
  {
   "cell_type": "code",
   "execution_count": 4,
   "metadata": {},
   "outputs": [],
   "source": [
    "class Centree(pm.Parameterized):\n",
    "    \"\"\"Centree\"\"\"\n",
    "    approved_protection_cost_per_century = pm.Number(500, bounds=(0, 10000), doc=\"APCC\")\n",
    "    centree_general_fund = pm.Number(0, bounds=(0, None), doc=\"CGF\")\n",
    "    total_ctr = pm.Number(0, bounds=(0, None), doc=\"Total CTR generated by Fund\")\n",
    "    cash_to_ctr = pm.Number(10, bounds=(0, None), doc=\"Convergence rate of USD to CTR Tokens\")\n",
    "    # Dictionary to keep track of OGFUs\n",
    "    ogfu_dict = {}\n",
    "    \n",
    "    def __init__(self, **params):\n",
    "        super().__init__(**params)\n",
    "    \n",
    "    def get_total_ctr_issued(self):\n",
    "        \"\"\"Returns total CTR issued in Centree General Fund\"\"\"\n",
    "        return self.total_ctr\n",
    "    \n",
    "    def generate(self, ctr_generated):\n",
    "        \"\"\"Creates CTR to add to the existing pool of CTR\"\"\"\n",
    "        self.total_ctr += ctr_generated\n",
    "    \n",
    "    def convert_funds_to_ctr(self, funds):\n",
    "        \"\"\"Functions that returns CTR equivalent to funds provided\"\"\"\n",
    "        # Assume 1$ => 10 CTR\n",
    "        ctr = funds * self.cash_to_ctr\n",
    "        # Remove CTR from total CTR generated by centree general fund\n",
    "        if (self.total_ctr < ctr):\n",
    "            ctr_diff = (ctr - self.total_ctr)/10\n",
    "            total_ctr_purchased = self.total_ctr\n",
    "            self.total_ctr = 0\n",
    "            return total_ctr_purchased, ctr_diff\n",
    "        self.total_ctr -= ctr\n",
    "        ctr_diff = 0\n",
    "    \n",
    "        return ctr, ctr_diff\n",
    "    \n",
    "    def approve(self, ogfu):\n",
    "        \"\"\"When an OGFU is approved by Centree for protection, its TCC & PCC are assessed \n",
    "        & CC*TM new CTR tokens are issued\"\"\"\n",
    "        # Approve OGFU & generate CTR based on OFGU's TCC\n",
    "        ogfu.approved = True\n",
    "        ctr_generated = ogfu.get_ctr_tokens_issued()\n",
    "        self.generate(ctr_generated)\n",
    "        self.ogfu_dict[ogfu.ogfu_name] = ogfu\n",
    "        \n",
    "        return ogfu\n",
    "    \n",
    "    def buy(self, wallet, funds):\n",
    "        \"\"\"A wallet can exchange funds for CTR\"\"\"\n",
    "        # Take funds from the wallet's funds & add CTR tokens in return\n",
    "        self.centree_general_fund += funds\n",
    "        wallet.add_funds(-funds)\n",
    "        ctr_generated, ctr_diff = self.convert_funds_to_ctr(funds)\n",
    "        wallet.add_ctr(ctr_generated)\n",
    "        wallet.add_funds(ctr_diff)\n",
    "        \n",
    "        return wallet"
   ]
  },
  {
   "cell_type": "code",
   "execution_count": 37,
   "metadata": {},
   "outputs": [],
   "source": [
    "def wallet():\n",
    "    \n",
    "    wallet = Wallet()\n",
    "    wallet.add_funds(50000)\n",
    "    \n",
    "    return wallet"
   ]
  },
  {
   "cell_type": "code",
   "execution_count": 39,
   "metadata": {},
   "outputs": [],
   "source": [
    "def centree():\n",
    "    \n",
    "    centree_fund = Centree()\n",
    "    \n",
    "    return centree_fund"
   ]
  },
  {
   "cell_type": "code",
   "execution_count": 40,
   "metadata": {},
   "outputs": [],
   "source": [
    "def ogfu_1():\n",
    "    \n",
    "    ogfu1 = OldGrowthForestUnit()\n",
    "    ogfu1.name_ogfu('OGFU 1')\n",
    "    \n",
    "    return ogfu1"
   ]
  },
  {
   "cell_type": "code",
   "execution_count": 41,
   "metadata": {},
   "outputs": [],
   "source": [
    "def ogfu_2():\n",
    "    \n",
    "    ogfu2 = OldGrowthForestUnit()\n",
    "    ogfu2.name_ogfu('OGFU 2')\n",
    "    \n",
    "    return ogfu2"
   ]
  },
  {
   "cell_type": "code",
   "execution_count": 44,
   "metadata": {},
   "outputs": [
    {
     "data": {
      "text/plain": [
       "OldGrowthForestUnit(approved=False, cost_for_protection=320000, full_stake=False, name='OldGrowthForestUnit00105', ogfu_name='OGFU 2', staked_amount=0, staked_funds=0, token_multiplier=1, tree_century_count=32000)"
      ]
     },
     "execution_count": 44,
     "metadata": {},
     "output_type": "execute_result"
    }
   ],
   "source": [
    "ogfu_2()"
   ]
  },
  {
   "cell_type": "code",
   "execution_count": 49,
   "metadata": {},
   "outputs": [],
   "source": [
    "def test_approval(ogfu_1, ogfu_2, centree):\n",
    "    # Initially, both OGFUs are not approved yet for Centree protection\n",
    "    assert ogfu_1.approved == False\n",
    "    assert ogfu_2.approved == False\n",
    "    \n",
    "    # We manually approve both OGFUs\n",
    "    ogfu_1 = centree.approve(ogfu1)\n",
    "    ogfu_2 = centree.approve(ogfu2)\n",
    "    \n",
    "    # Then check whether they have now been approved\n",
    "    assert ogfu_1.approved == True\n",
    "    assert ogfu_2.approved == True"
   ]
  },
  {
   "cell_type": "code",
   "execution_count": 46,
   "metadata": {},
   "outputs": [],
   "source": [
    "def test_buy(wallet, ogfu_1, ogfu_2, centree):\n",
    "    # We first approve both OGFUs in order to generate CTR tokens in Centree fund\n",
    "    ogfu1 = centree.approve(ogfu1)\n",
    "    ogfu2 = centree.approve(ogfu2)\n",
    "    \n",
    "    # Check the amount of CTR generated, each OGFU generates 32000 CTR\n",
    "    assert centree.get_total_ctr_issued() == 64000\n",
    "    \n",
    "    # User wallet purchases 1000$ worth of CTR\n",
    "    wallet = centree.buy(wallet, 2000)\n",
    "    \n",
    "    # Check that user receives correct amount of CTR (fixed exchange rate 1$ => 10CTR)\n",
    "    assert wallet.return_ctr() == 20000\n",
    "    \n",
    "    # Check that the correct amount was deducted from Centree CTR reserve (64000-20000=44000)\n",
    "    assert centree.total_ctr() == 44000"
   ]
  },
  {
   "cell_type": "code",
   "execution_count": 47,
   "metadata": {},
   "outputs": [],
   "source": [
    "def test_stake(wallet, ogfu1, centree):\n",
    "    # Ensure that Centree fund's CTR collection is not empty\n",
    "    centree.generate(100000)\n",
    "    \n",
    "    # Wallet purchases CTR\n",
    "    wallet = centree.buy(wallet, 5000)\n",
    "    assert wallet.return_ctr() == 50000\n",
    "    \n",
    "    # Stake 5000CTR into OGFU 1\n",
    "    total_ctr_fund = centree.get_total_ctr_issued()\n",
    "    wallet = ogfu1.stake(wallet, 5000, total_ctr_fund)\n",
    "    \n",
    "    # Check whether the staking mechanism was successful\n",
    "    assert ofgu1.staked_funds == 5000"
   ]
  },
  {
   "cell_type": "code",
   "execution_count": null,
   "metadata": {},
   "outputs": [],
   "source": []
  },
  {
   "cell_type": "code",
   "execution_count": null,
   "metadata": {},
   "outputs": [],
   "source": []
  }
 ],
 "metadata": {
  "kernelspec": {
   "display_name": "Python 3",
   "language": "python",
   "name": "python3"
  },
  "language_info": {
   "codemirror_mode": {
    "name": "ipython",
    "version": 3
   },
   "file_extension": ".py",
   "mimetype": "text/x-python",
   "name": "python",
   "nbconvert_exporter": "python",
   "pygments_lexer": "ipython3",
   "version": "3.8.3"
  }
 },
 "nbformat": 4,
 "nbformat_minor": 5
}
