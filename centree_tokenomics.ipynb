{
 "cells": [
  {
   "cell_type": "code",
   "execution_count": 6,
   "id": "4d55b53d-b42a-43bd-a7c3-3711ca492369",
   "metadata": {},
   "outputs": [],
   "source": [
    "import param as pm\n",
    "import panel as pn"
   ]
  },
  {
   "cell_type": "code",
   "execution_count": 7,
   "id": "48229aab-141d-4a00-9d81-5812795fb0cf",
   "metadata": {},
   "outputs": [],
   "source": [
    "class OldGrowthForestUnit(pm.Parameterized):\n",
    "    \"\"\"OGFU\"\"\"\n",
    "    tree_century_count = pm.Number(32000, bounds=(0,1e6), doc=\"TCC\")\n",
    "    cost_for_protection = pm.Number(320000, bounds=(0, 1e6), doc=\"Cost for Protection\")\n",
    "    token_multiplier = pm.Number(1, bounds=(0, 10), doc=\"TM\")\n",
    "    \n",
    "    def get_protection_cost_per_century(self):\n",
    "        \"\"\"PCC\"\"\"\n",
    "        return self.cost_for_protection / self.tree_century_count\n",
    "    \n",
    "    def get_ctr_tokens_issued(self):\n",
    "        \"\"\"CTR Tokens Issued\"\"\"\n",
    "        return self.tree_century_count * self.token_multiplier"
   ]
  },
  {
   "cell_type": "code",
   "execution_count": 8,
   "id": "810bdd0e-6325-4274-bb6d-8c60fcaa7ebd",
   "metadata": {},
   "outputs": [],
   "source": [
    "class Centree(pm.Parameterized):\n",
    "    \"\"\"Centree\"\"\"\n",
    "    approved_protection_cost_per_century = pm.Number(500, bounds=(0, 10000), doc=\"APCC\")\n",
    "    centree_general_fund = pm.Number(0, bounds=(0, None), doc=\"CGF\")\n",
    "    "
   ]
  },
  {
   "cell_type": "code",
   "execution_count": 9,
   "id": "d2543493-2741-4aaa-af4d-bf6f102cc9c9",
   "metadata": {},
   "outputs": [],
   "source": [
    "ogfu = OldGrowthForestUnit()"
   ]
  },
  {
   "cell_type": "code",
   "execution_count": 10,
   "id": "24eb083c-ab77-478b-8715-d197012798f5",
   "metadata": {},
   "outputs": [
    {
     "data": {
      "text/plain": [
       "10.0"
      ]
     },
     "execution_count": 10,
     "metadata": {},
     "output_type": "execute_result"
    }
   ],
   "source": [
    "ogfu.get_protection_cost_per_century()"
   ]
  },
  {
   "cell_type": "code",
   "execution_count": null,
   "id": "18a8ee1e-d94c-43f0-bf2b-8baa9f520fd8",
   "metadata": {},
   "outputs": [],
   "source": []
  }
 ],
 "metadata": {
  "kernelspec": {
   "display_name": "Python 3 (ipykernel)",
   "language": "python",
   "name": "python3"
  },
  "language_info": {
   "codemirror_mode": {
    "name": "ipython",
    "version": 3
   },
   "file_extension": ".py",
   "mimetype": "text/x-python",
   "name": "python",
   "nbconvert_exporter": "python",
   "pygments_lexer": "ipython3",
   "version": "3.8.5"
  }
 },
 "nbformat": 4,
 "nbformat_minor": 5
}
