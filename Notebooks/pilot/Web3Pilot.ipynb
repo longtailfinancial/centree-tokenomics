{
 "cells": [
  {
   "cell_type": "code",
   "execution_count": 13,
   "id": "8d242b80-b23d-48da-8d71-722125945c20",
   "metadata": {},
   "outputs": [],
   "source": [
    "%run ForestPipeline.ipynb"
   ]
  },
  {
   "cell_type": "code",
   "execution_count": 14,
   "id": "f27ce61c-d042-4c55-a16a-bd1424046de8",
   "metadata": {},
   "outputs": [],
   "source": [
    "import param as pm\n",
    "import panel as pn\n",
    "import pandas as pd\n",
    "import datetime as dt\n",
    "import numpy as np\n",
    "import hvplot.pandas\n",
    "pn.extension()"
   ]
  },
  {
   "cell_type": "markdown",
   "id": "8e5a1bc8-520c-4789-b14d-7c99696a5c15",
   "metadata": {},
   "source": [
    "Revenue Share Per Acre"
   ]
  },
  {
   "cell_type": "code",
   "execution_count": 15,
   "id": "a00b4fbc-6033-4ca2-8b42-e8518bf947ae",
   "metadata": {},
   "outputs": [
    {
     "data": {
      "text/plain": [
       "30.32629227868413"
      ]
     },
     "execution_count": 15,
     "metadata": {},
     "output_type": "execute_result"
    }
   ],
   "source": [
    "f1.centree_commission_per_hectare()"
   ]
  },
  {
   "cell_type": "markdown",
   "id": "93348821-122d-4243-85e1-37d52b198a5d",
   "metadata": {},
   "source": [
    "Minting Fee per Acre"
   ]
  },
  {
   "cell_type": "code",
   "execution_count": 16,
   "id": "7ad3b50a-f4cc-4f42-ab44-00dad20c1432",
   "metadata": {},
   "outputs": [
    {
     "data": {
      "text/plain": [
       "19.83963046269056"
      ]
     },
     "execution_count": 16,
     "metadata": {},
     "output_type": "execute_result"
    }
   ],
   "source": [
    "f1.centree_mint_fee_per_hectare()"
   ]
  },
  {
   "cell_type": "markdown",
   "id": "3d1416ed-b369-42c5-8c0e-3617ba664a31",
   "metadata": {},
   "source": [
    "Administration Fee Per Acre Per Month"
   ]
  },
  {
   "cell_type": "code",
   "execution_count": 17,
   "id": "c60b97d2-5c40-4b57-aa53-e1338aa71013",
   "metadata": {},
   "outputs": [
    {
     "data": {
      "text/plain": [
       "0.3558794979899372"
      ]
     },
     "execution_count": 17,
     "metadata": {},
     "output_type": "execute_result"
    }
   ],
   "source": [
    "c1.compute()['Centree (Admin/Commission)'].iloc[0] / f1.forested_area_hectares / 12"
   ]
  },
  {
   "cell_type": "markdown",
   "id": "487c02d3-bcd3-4ff4-a0e4-2532baae4bb2",
   "metadata": {},
   "source": [
    "Forested Area Hectares"
   ]
  },
  {
   "cell_type": "code",
   "execution_count": 18,
   "id": "beff2574-0641-4567-afd4-02c58ae6e958",
   "metadata": {
    "tags": []
   },
   "outputs": [
    {
     "data": {
      "text/plain": [
       "7478"
      ]
     },
     "execution_count": 18,
     "metadata": {},
     "output_type": "execute_result"
    }
   ],
   "source": [
    "f1.forested_area_hectares"
   ]
  },
  {
   "cell_type": "markdown",
   "id": "58b9bef7-a2d2-4051-a77b-ac339aaf10e7",
   "metadata": {},
   "source": [
    "Centree Commission per Hectare"
   ]
  },
  {
   "cell_type": "code",
   "execution_count": 19,
   "id": "8d63ce96-062a-4340-b64b-9d1a95dd629b",
   "metadata": {
    "tags": []
   },
   "outputs": [
    {
     "data": {
      "text/plain": [
       "30.32629227868413"
      ]
     },
     "execution_count": 19,
     "metadata": {},
     "output_type": "execute_result"
    }
   ],
   "source": [
    "f1.centree_commission_per_hectare()"
   ]
  },
  {
   "cell_type": "markdown",
   "id": "323d8e12-9a72-479b-94b7-c41369388ba1",
   "metadata": {},
   "source": [
    "Centree Mint Fee per Hectare"
   ]
  },
  {
   "cell_type": "code",
   "execution_count": 20,
   "id": "9adc7dd5-747e-40c2-925e-25dbcfd0d21f",
   "metadata": {
    "tags": []
   },
   "outputs": [
    {
     "data": {
      "text/plain": [
       "19.83963046269056"
      ]
     },
     "execution_count": 20,
     "metadata": {},
     "output_type": "execute_result"
    }
   ],
   "source": [
    "f1.centree_mint_fee_per_hectare()"
   ]
  },
  {
   "cell_type": "code",
   "execution_count": 21,
   "id": "b4e70fab-d45d-45f2-96e3-30e85aa9c158",
   "metadata": {},
   "outputs": [],
   "source": [
    "class Web3Pilot(pm.Parameterized):\n",
    "    \n",
    "    def __init__(self, forest_pipeline: list, **params):\n",
    "        super(Web3Pilot, self).__init__(**params)\n",
    "        self.forest_pipeline = forest_pipeline\n",
    "        \n",
    "    def cumulative_revenue(self, periods=24, freq='M'):\n",
    "        df = pd.DataFrame(index=pd.date_range(dt.datetime.now(), periods=periods, freq=freq))\n",
    "        df['hectares_protected'] = 0\n",
    "        df['Revenue Share'] = 0\n",
    "        df['Minting Fee'] = 0\n",
    "        df['On-going'] = 0\n",
    "        for project in self.forest_pipeline.projects:\n",
    "            df.at[df.index[project.month], 'hectares_protected'] += project.forest.forested_area_hectares\n",
    "            df.at[df.index[project.month], 'Revenue Share'] += project.forest.forested_area_hectares * project.forest.centree_commission_per_hectare()\n",
    "            df.at[df.index[project.month], 'Minting Fee'] += project.forest.forested_area_hectares * project.forest.centree_mint_fee_per_hectare()\n",
    "        df['hectares_protected_cumul'] = df['hectares_protected'].cumsum()\n",
    "        for forest in self.forest_pipeline.projects:\n",
    "            df.loc[df.index[project.month]:, 'On-going'] += project.forest.forested_area_hectares * project.carbon.compute()['Centree (Admin/Commission)'].iloc[0] / project.forest.forested_area_hectares / 12\n",
    "        df['Total Revenue - Cash'] = df['Revenue Share'] + df['Minting Fee'] + df['On-going']\n",
    "        df['Cumulative Revenue - Cash'] = df['Total Revenue - Cash'].cumsum()\n",
    "        df.index.name = 'Date'\n",
    "        return df\n",
    "    \n",
    "    def view_cumulative_revenue_table(self):\n",
    "        return self.cumulative_revenue().reset_index().hvplot.table(width=800)\n",
    "    \n",
    "    def view_cumulative_revenue_chart(self):\n",
    "        return self.cumulative_revenue().hvplot(y='Cumulative Revenue - Cash', title='Web3 Pilot Cumulative Revenue')"
   ]
  },
  {
   "cell_type": "code",
   "execution_count": 22,
   "id": "a8335097-8928-416c-9df6-ea269a2e0ab5",
   "metadata": {
    "tags": []
   },
   "outputs": [],
   "source": [
    "w = Web3Pilot(forest_pipeline)"
   ]
  },
  {
   "cell_type": "code",
   "execution_count": 23,
   "id": "9f00385c-b308-4314-9811-dcefca461458",
   "metadata": {
    "tags": []
   },
   "outputs": [
    {
     "data": {
      "application/vnd.holoviews_exec.v0+json": "",
      "text/html": [
       "<div id='1251'>\n",
       "  <div class=\"bk-root\" id=\"ef873d1c-4555-42c0-8ab8-0854b16c4200\" data-root-id=\"1251\"></div>\n",
       "</div>\n",
       "<script type=\"application/javascript\">(function(root) {\n",
       "  function embed_document(root) {\n",
       "    var docs_json = {\"d5c8e130-0d8a-47a8-b3cc-89265bda9dc7\":{\"defs\":[{\"extends\":null,\"module\":null,\"name\":\"ReactiveHTML1\",\"overrides\":[],\"properties\":[]},{\"extends\":null,\"module\":null,\"name\":\"FlexBox1\",\"overrides\":[],\"properties\":[{\"default\":\"flex-start\",\"kind\":null,\"name\":\"align_content\"},{\"default\":\"flex-start\",\"kind\":null,\"name\":\"align_items\"},{\"default\":\"row\",\"kind\":null,\"name\":\"flex_direction\"},{\"default\":\"wrap\",\"kind\":null,\"name\":\"flex_wrap\"},{\"default\":\"flex-start\",\"kind\":null,\"name\":\"justify_content\"}]},{\"extends\":null,\"module\":null,\"name\":\"GridStack1\",\"overrides\":[],\"properties\":[{\"default\":\"warn\",\"kind\":null,\"name\":\"mode\"},{\"default\":null,\"kind\":null,\"name\":\"ncols\"},{\"default\":null,\"kind\":null,\"name\":\"nrows\"},{\"default\":true,\"kind\":null,\"name\":\"allow_resize\"},{\"default\":true,\"kind\":null,\"name\":\"allow_drag\"},{\"default\":[],\"kind\":null,\"name\":\"state\"}]},{\"extends\":null,\"module\":null,\"name\":\"click1\",\"overrides\":[],\"properties\":[{\"default\":\"\",\"kind\":null,\"name\":\"terminal_output\"},{\"default\":\"\",\"kind\":null,\"name\":\"debug_name\"},{\"default\":0,\"kind\":null,\"name\":\"clears\"}]},{\"extends\":null,\"module\":null,\"name\":\"NotificationAreaBase1\",\"overrides\":[],\"properties\":[{\"default\":\"bottom-right\",\"kind\":null,\"name\":\"position\"},{\"default\":0,\"kind\":null,\"name\":\"_clear\"}]},{\"extends\":null,\"module\":null,\"name\":\"NotificationArea1\",\"overrides\":[],\"properties\":[{\"default\":[],\"kind\":null,\"name\":\"notifications\"},{\"default\":\"bottom-right\",\"kind\":null,\"name\":\"position\"},{\"default\":0,\"kind\":null,\"name\":\"_clear\"},{\"default\":[{\"background\":\"#ffc107\",\"icon\":{\"className\":\"fas fa-exclamation-triangle\",\"color\":\"white\",\"tagName\":\"i\"},\"type\":\"warning\"},{\"background\":\"#007bff\",\"icon\":{\"className\":\"fas fa-info-circle\",\"color\":\"white\",\"tagName\":\"i\"},\"type\":\"info\"}],\"kind\":null,\"name\":\"types\"}]},{\"extends\":null,\"module\":null,\"name\":\"Notification\",\"overrides\":[],\"properties\":[{\"default\":null,\"kind\":null,\"name\":\"background\"},{\"default\":3000,\"kind\":null,\"name\":\"duration\"},{\"default\":null,\"kind\":null,\"name\":\"icon\"},{\"default\":\"\",\"kind\":null,\"name\":\"message\"},{\"default\":null,\"kind\":null,\"name\":\"notification_type\"},{\"default\":false,\"kind\":null,\"name\":\"_destroyed\"}]},{\"extends\":null,\"module\":null,\"name\":\"TemplateActions1\",\"overrides\":[],\"properties\":[{\"default\":0,\"kind\":null,\"name\":\"open_modal\"},{\"default\":0,\"kind\":null,\"name\":\"close_modal\"}]},{\"extends\":null,\"module\":null,\"name\":\"MaterialTemplateActions1\",\"overrides\":[],\"properties\":[{\"default\":0,\"kind\":null,\"name\":\"open_modal\"},{\"default\":0,\"kind\":null,\"name\":\"close_modal\"}]}],\"roots\":{\"references\":[{\"attributes\":{\"line_color\":\"#30a2da\",\"line_width\":2,\"x\":{\"field\":\"Date\"},\"y\":{\"field\":\"Cumulative Revenue - Cash\"}},\"id\":\"1293\",\"type\":\"Line\"},{\"attributes\":{\"mantissas\":[1,2,5],\"max_interval\":500.0,\"num_minor_ticks\":0},\"id\":\"1314\",\"type\":\"AdaptiveTicker\"},{\"attributes\":{\"base\":60,\"mantissas\":[1,2,5,10,15,20,30],\"max_interval\":1800000.0,\"min_interval\":1000.0,\"num_minor_ticks\":0},\"id\":\"1315\",\"type\":\"AdaptiveTicker\"},{\"attributes\":{\"end\":1743458790599.937,\"reset_end\":1743458790599.937,\"reset_start\":1682892390599.937,\"start\":1682892390599.937,\"tags\":[[[\"Date\",\"Date\",null]]]},\"id\":\"1252\",\"type\":\"Range1d\"},{\"attributes\":{\"months\":[0,1,2,3,4,5,6,7,8,9,10,11]},\"id\":\"1321\",\"type\":\"MonthsTicker\"},{\"attributes\":{\"children\":[{\"id\":\"1255\"}],\"height\":300,\"margin\":[0,0,0,0],\"name\":\"Row07845\",\"sizing_mode\":\"fixed\",\"tags\":[\"embedded\"],\"width\":700},\"id\":\"1251\",\"type\":\"Row\"},{\"attributes\":{\"active_drag\":{\"id\":\"1273\"},\"active_scroll\":{\"id\":\"1274\"},\"tools\":[{\"id\":\"1254\"},{\"id\":\"1272\"},{\"id\":\"1273\"},{\"id\":\"1274\"},{\"id\":\"1275\"},{\"id\":\"1276\"}]},\"id\":\"1278\",\"type\":\"Toolbar\"},{\"attributes\":{},\"id\":\"1286\",\"type\":\"Selection\"},{\"attributes\":{\"days\":[1,8,15,22]},\"id\":\"1319\",\"type\":\"DaysTicker\"},{\"attributes\":{},\"id\":\"1325\",\"type\":\"YearsTicker\"},{\"attributes\":{},\"id\":\"1296\",\"type\":\"AllLabels\"},{\"attributes\":{\"base\":24,\"mantissas\":[1,2,4,6,8,12],\"max_interval\":43200000.0,\"min_interval\":3600000.0,\"num_minor_ticks\":0},\"id\":\"1316\",\"type\":\"AdaptiveTicker\"},{\"attributes\":{\"days\":[1,2,3,4,5,6,7,8,9,10,11,12,13,14,15,16,17,18,19,20,21,22,23,24,25,26,27,28,29,30,31]},\"id\":\"1317\",\"type\":\"DaysTicker\"},{\"attributes\":{},\"id\":\"1298\",\"type\":\"BasicTickFormatter\"},{\"attributes\":{\"days\":[1,4,7,10,13,16,19,22,25,28]},\"id\":\"1318\",\"type\":\"DaysTicker\"},{\"attributes\":{\"days\":[1,15]},\"id\":\"1320\",\"type\":\"DaysTicker\"},{\"attributes\":{\"source\":{\"id\":\"1285\"}},\"id\":\"1292\",\"type\":\"CDSView\"},{\"attributes\":{\"num_minor_ticks\":5,\"tickers\":[{\"id\":\"1314\"},{\"id\":\"1315\"},{\"id\":\"1316\"},{\"id\":\"1317\"},{\"id\":\"1318\"},{\"id\":\"1319\"},{\"id\":\"1320\"},{\"id\":\"1321\"},{\"id\":\"1322\"},{\"id\":\"1323\"},{\"id\":\"1324\"},{\"id\":\"1325\"}]},\"id\":\"1265\",\"type\":\"DatetimeTicker\"},{\"attributes\":{\"end\":1306894.6588871256,\"reset_end\":1306894.6588871256,\"reset_start\":-118808.60535337507,\"start\":-118808.60535337507,\"tags\":[[[\"Cumulative Revenue - Cash\",\"Cumulative Revenue - Cash\",null]]]},\"id\":\"1253\",\"type\":\"Range1d\"},{\"attributes\":{},\"id\":\"1295\",\"type\":\"DatetimeTickFormatter\"},{\"attributes\":{\"months\":[0,6]},\"id\":\"1324\",\"type\":\"MonthsTicker\"},{\"attributes\":{\"months\":[0,2,4,6,8,10]},\"id\":\"1322\",\"type\":\"MonthsTicker\"},{\"attributes\":{\"data\":{\"Cumulative Revenue - Cash\":{\"__ndarray__\":\"AAAAAAAAAAAAAAAAAAAAAAAAAAAAAAAAAAAAAAAAAAAAAAAAAAAAAAAAAAAAAAAAAAAAAAAAAAAAAAAAAAAAAJQJvxST5RZBlAm/FJPlFkGUCb8Uk+UWQZQJvxST5RZBlAm/FJPlFkGUCb8Uk+UWQZQJvxST5RZBbOLkRSUeMUGI0t5efz4xQaTC2HfZXjFBwLLSkDN/MUHcosypjZ8xQfiSxsLnvzFBFIPA20HgMUEwc7r0mwAyQUxjtA32IDJB\",\"dtype\":\"float64\",\"order\":\"little\",\"shape\":[24]},\"Cumulative_Revenue_hyphen_minus_Cash\":{\"__ndarray__\":\"AAAAAAAAAAAAAAAAAAAAAAAAAAAAAAAAAAAAAAAAAAAAAAAAAAAAAAAAAAAAAAAAAAAAAAAAAAAAAAAAAAAAAJQJvxST5RZBlAm/FJPlFkGUCb8Uk+UWQZQJvxST5RZBlAm/FJPlFkGUCb8Uk+UWQZQJvxST5RZBbOLkRSUeMUGI0t5efz4xQaTC2HfZXjFBwLLSkDN/MUHcosypjZ8xQfiSxsLnvzFBFIPA20HgMUEwc7r0mwAyQUxjtA32IDJB\",\"dtype\":\"float64\",\"order\":\"little\",\"shape\":[24]},\"Date\":{\"__ndarray__\":\"/n4MQEN9eEL+fkySPYd4Qv5+zH7lkHhC/n4M0d+aeEL+fkwj2qR4Qv5+zA+CrnhC/n4MYny4eEL+foxOJMJ4Qv5+zKAezHhC/n4M8xjWeEL+fsx5bt94Qv5+DMxo6XhC/n6MuBDzeEL+fswKC/14Qv5+TPeyBnlC/n6MSa0QeUL+fsybpxp5Qv5+TIhPJHlC/n6M2kkueUL+fgzH8Td5Qv5+TBnsQXlC/n6Ma+ZLeUL+foyM6VR5Qv5+zN7jXnlC\",\"dtype\":\"float64\",\"order\":\"little\",\"shape\":[24]}},\"selected\":{\"id\":\"1286\"},\"selection_policy\":{\"id\":\"1311\"}},\"id\":\"1285\",\"type\":\"ColumnDataSource\"},{\"attributes\":{},\"id\":\"1269\",\"type\":\"BasicTicker\"},{\"attributes\":{\"months\":[0,4,8]},\"id\":\"1323\",\"type\":\"MonthsTicker\"},{\"attributes\":{\"axis_label\":\"Cumulative Revenue - Cash\",\"coordinates\":null,\"formatter\":{\"id\":\"1298\"},\"group\":null,\"major_label_policy\":{\"id\":\"1299\"},\"ticker\":{\"id\":\"1269\"}},\"id\":\"1268\",\"type\":\"LinearAxis\"},{\"attributes\":{},\"id\":\"1311\",\"type\":\"UnionRenderers\"},{\"attributes\":{\"axis_label\":\"Date\",\"coordinates\":null,\"formatter\":{\"id\":\"1295\"},\"group\":null,\"major_label_policy\":{\"id\":\"1296\"},\"ticker\":{\"id\":\"1265\"}},\"id\":\"1264\",\"type\":\"DatetimeAxis\"},{\"attributes\":{\"line_alpha\":0.2,\"line_color\":\"#30a2da\",\"line_width\":2,\"x\":{\"field\":\"Date\"},\"y\":{\"field\":\"Cumulative Revenue - Cash\"}},\"id\":\"1290\",\"type\":\"Line\"},{\"attributes\":{\"overlay\":{\"id\":\"1277\"}},\"id\":\"1275\",\"type\":\"BoxZoomTool\"},{\"attributes\":{\"axis\":{\"id\":\"1264\"},\"coordinates\":null,\"grid_line_color\":null,\"group\":null,\"ticker\":null},\"id\":\"1267\",\"type\":\"Grid\"},{\"attributes\":{\"line_alpha\":0.1,\"line_color\":\"#30a2da\",\"line_width\":2,\"x\":{\"field\":\"Date\"},\"y\":{\"field\":\"Cumulative Revenue - Cash\"}},\"id\":\"1289\",\"type\":\"Line\"},{\"attributes\":{\"coordinates\":null,\"group\":null,\"text\":\"Web3 Pilot Cumulative Revenue\",\"text_color\":\"black\",\"text_font_size\":\"12pt\"},\"id\":\"1256\",\"type\":\"Title\"},{\"attributes\":{},\"id\":\"1260\",\"type\":\"LinearScale\"},{\"attributes\":{\"below\":[{\"id\":\"1264\"}],\"center\":[{\"id\":\"1267\"},{\"id\":\"1271\"}],\"height\":300,\"left\":[{\"id\":\"1268\"}],\"margin\":[5,5,5,5],\"min_border_bottom\":10,\"min_border_left\":10,\"min_border_right\":10,\"min_border_top\":10,\"renderers\":[{\"id\":\"1291\"}],\"sizing_mode\":\"fixed\",\"title\":{\"id\":\"1256\"},\"toolbar\":{\"id\":\"1278\"},\"width\":700,\"x_range\":{\"id\":\"1252\"},\"x_scale\":{\"id\":\"1260\"},\"y_range\":{\"id\":\"1253\"},\"y_scale\":{\"id\":\"1262\"}},\"id\":\"1255\",\"subtype\":\"Figure\",\"type\":\"Plot\"},{\"attributes\":{},\"id\":\"1262\",\"type\":\"LinearScale\"},{\"attributes\":{\"axis\":{\"id\":\"1268\"},\"coordinates\":null,\"dimension\":1,\"grid_line_color\":null,\"group\":null,\"ticker\":null},\"id\":\"1271\",\"type\":\"Grid\"},{\"attributes\":{\"callback\":null,\"formatters\":{\"@{Date}\":\"datetime\"},\"renderers\":[{\"id\":\"1291\"}],\"tags\":[\"hv_created\"],\"tooltips\":[[\"Date\",\"@{Date}{%F %T}\"],[\"Cumulative Revenue - Cash\",\"@{Cumulative_Revenue_hyphen_minus_Cash}\"]]},\"id\":\"1254\",\"type\":\"HoverTool\"},{\"attributes\":{\"bottom_units\":\"screen\",\"coordinates\":null,\"fill_alpha\":0.5,\"fill_color\":\"lightgrey\",\"group\":null,\"left_units\":\"screen\",\"level\":\"overlay\",\"line_alpha\":1.0,\"line_color\":\"black\",\"line_dash\":[4,4],\"line_width\":2,\"right_units\":\"screen\",\"syncable\":false,\"top_units\":\"screen\"},\"id\":\"1277\",\"type\":\"BoxAnnotation\"},{\"attributes\":{},\"id\":\"1272\",\"type\":\"SaveTool\"},{\"attributes\":{},\"id\":\"1299\",\"type\":\"AllLabels\"},{\"attributes\":{},\"id\":\"1273\",\"type\":\"PanTool\"},{\"attributes\":{},\"id\":\"1276\",\"type\":\"ResetTool\"},{\"attributes\":{},\"id\":\"1274\",\"type\":\"WheelZoomTool\"},{\"attributes\":{\"line_color\":\"#30a2da\",\"line_width\":2,\"x\":{\"field\":\"Date\"},\"y\":{\"field\":\"Cumulative Revenue - Cash\"}},\"id\":\"1288\",\"type\":\"Line\"},{\"attributes\":{\"coordinates\":null,\"data_source\":{\"id\":\"1285\"},\"glyph\":{\"id\":\"1288\"},\"group\":null,\"hover_glyph\":null,\"muted_glyph\":{\"id\":\"1290\"},\"nonselection_glyph\":{\"id\":\"1289\"},\"selection_glyph\":{\"id\":\"1293\"},\"view\":{\"id\":\"1292\"}},\"id\":\"1291\",\"type\":\"GlyphRenderer\"}],\"root_ids\":[\"1251\"]},\"title\":\"Bokeh Application\",\"version\":\"2.4.3\"}};\n",
       "    var render_items = [{\"docid\":\"d5c8e130-0d8a-47a8-b3cc-89265bda9dc7\",\"root_ids\":[\"1251\"],\"roots\":{\"1251\":\"ef873d1c-4555-42c0-8ab8-0854b16c4200\"}}];\n",
       "    root.Bokeh.embed.embed_items_notebook(docs_json, render_items);\n",
       "    for (const render_item of render_items) {\n",
       "      for (const root_id of render_item.root_ids) {\n",
       "\tconst id_el = document.getElementById(root_id)\n",
       "\tif (id_el.children.length && (id_el.children[0].className === 'bk-root')) {\n",
       "\t  const root_el = id_el.children[0]\n",
       "\t  root_el.id = root_el.id + '-rendered'\n",
       "\t}\n",
       "      }\n",
       "    }\n",
       "  }\n",
       "  if (root.Bokeh !== undefined && root.Bokeh.Panel !== undefined) {\n",
       "    embed_document(root);\n",
       "  } else {\n",
       "    var attempts = 0;\n",
       "    var timer = setInterval(function(root) {\n",
       "      if (root.Bokeh !== undefined && root.Bokeh.Panel !== undefined) {\n",
       "        clearInterval(timer);\n",
       "        embed_document(root);\n",
       "      } else if (document.readyState == \"complete\") {\n",
       "        attempts++;\n",
       "        if (attempts > 200) {\n",
       "          clearInterval(timer);\n",
       "          console.log(\"Bokeh: ERROR: Unable to run BokehJS code because BokehJS library is missing\");\n",
       "        }\n",
       "      }\n",
       "    }, 25, root)\n",
       "  }\n",
       "})(window);</script>"
      ],
      "text/plain": [
       ":Curve   [Date]   (Cumulative Revenue - Cash)"
      ]
     },
     "execution_count": 23,
     "metadata": {
      "application/vnd.holoviews_exec.v0+json": {
       "id": "1251"
      }
     },
     "output_type": "execute_result"
    }
   ],
   "source": [
    "w.view_cumulative_revenue_chart()"
   ]
  },
  {
   "cell_type": "code",
   "execution_count": 24,
   "id": "e97d8d1d-7e35-46e2-a276-47d7a595390a",
   "metadata": {
    "tags": []
   },
   "outputs": [
    {
     "data": {
      "application/vnd.holoviews_exec.v0+json": "",
      "text/html": [
       "<div id='1437'>\n",
       "  <div class=\"bk-root\" id=\"b9fd1680-c7af-4f88-a2ba-7dd10f7e1731\" data-root-id=\"1437\"></div>\n",
       "</div>\n",
       "<script type=\"application/javascript\">(function(root) {\n",
       "  function embed_document(root) {\n",
       "    var docs_json = {\"06d02194-c81e-4890-8daa-4b59aa284b1c\":{\"defs\":[{\"extends\":null,\"module\":null,\"name\":\"ReactiveHTML1\",\"overrides\":[],\"properties\":[]},{\"extends\":null,\"module\":null,\"name\":\"FlexBox1\",\"overrides\":[],\"properties\":[{\"default\":\"flex-start\",\"kind\":null,\"name\":\"align_content\"},{\"default\":\"flex-start\",\"kind\":null,\"name\":\"align_items\"},{\"default\":\"row\",\"kind\":null,\"name\":\"flex_direction\"},{\"default\":\"wrap\",\"kind\":null,\"name\":\"flex_wrap\"},{\"default\":\"flex-start\",\"kind\":null,\"name\":\"justify_content\"}]},{\"extends\":null,\"module\":null,\"name\":\"GridStack1\",\"overrides\":[],\"properties\":[{\"default\":\"warn\",\"kind\":null,\"name\":\"mode\"},{\"default\":null,\"kind\":null,\"name\":\"ncols\"},{\"default\":null,\"kind\":null,\"name\":\"nrows\"},{\"default\":true,\"kind\":null,\"name\":\"allow_resize\"},{\"default\":true,\"kind\":null,\"name\":\"allow_drag\"},{\"default\":[],\"kind\":null,\"name\":\"state\"}]},{\"extends\":null,\"module\":null,\"name\":\"click1\",\"overrides\":[],\"properties\":[{\"default\":\"\",\"kind\":null,\"name\":\"terminal_output\"},{\"default\":\"\",\"kind\":null,\"name\":\"debug_name\"},{\"default\":0,\"kind\":null,\"name\":\"clears\"}]},{\"extends\":null,\"module\":null,\"name\":\"NotificationAreaBase1\",\"overrides\":[],\"properties\":[{\"default\":\"bottom-right\",\"kind\":null,\"name\":\"position\"},{\"default\":0,\"kind\":null,\"name\":\"_clear\"}]},{\"extends\":null,\"module\":null,\"name\":\"NotificationArea1\",\"overrides\":[],\"properties\":[{\"default\":[],\"kind\":null,\"name\":\"notifications\"},{\"default\":\"bottom-right\",\"kind\":null,\"name\":\"position\"},{\"default\":0,\"kind\":null,\"name\":\"_clear\"},{\"default\":[{\"background\":\"#ffc107\",\"icon\":{\"className\":\"fas fa-exclamation-triangle\",\"color\":\"white\",\"tagName\":\"i\"},\"type\":\"warning\"},{\"background\":\"#007bff\",\"icon\":{\"className\":\"fas fa-info-circle\",\"color\":\"white\",\"tagName\":\"i\"},\"type\":\"info\"}],\"kind\":null,\"name\":\"types\"}]},{\"extends\":null,\"module\":null,\"name\":\"Notification\",\"overrides\":[],\"properties\":[{\"default\":null,\"kind\":null,\"name\":\"background\"},{\"default\":3000,\"kind\":null,\"name\":\"duration\"},{\"default\":null,\"kind\":null,\"name\":\"icon\"},{\"default\":\"\",\"kind\":null,\"name\":\"message\"},{\"default\":null,\"kind\":null,\"name\":\"notification_type\"},{\"default\":false,\"kind\":null,\"name\":\"_destroyed\"}]},{\"extends\":null,\"module\":null,\"name\":\"TemplateActions1\",\"overrides\":[],\"properties\":[{\"default\":0,\"kind\":null,\"name\":\"open_modal\"},{\"default\":0,\"kind\":null,\"name\":\"close_modal\"}]},{\"extends\":null,\"module\":null,\"name\":\"MaterialTemplateActions1\",\"overrides\":[],\"properties\":[{\"default\":0,\"kind\":null,\"name\":\"open_modal\"},{\"default\":0,\"kind\":null,\"name\":\"close_modal\"}]}],\"roots\":{\"references\":[{\"attributes\":{\"editor\":{\"id\":\"1451\"},\"field\":\"Revenue_Share\",\"formatter\":{\"id\":\"1450\"},\"title\":\"Revenue Share\"},\"id\":\"1452\",\"type\":\"TableColumn\"},{\"attributes\":{\"editor\":{\"id\":\"1446\"},\"field\":\"hectares_protected\",\"formatter\":{\"id\":\"1445\"},\"title\":\"hectares_protected\"},\"id\":\"1447\",\"type\":\"TableColumn\"},{\"attributes\":{},\"id\":\"1451\",\"type\":\"NumberEditor\"},{\"attributes\":{},\"id\":\"1439\",\"type\":\"Selection\"},{\"attributes\":{\"data\":{\"Cumulative_Revenue_hyphen_minus_Cash\":{\"__ndarray__\":\"AAAAAAAAAAAAAAAAAAAAAAAAAAAAAAAAAAAAAAAAAAAAAAAAAAAAAAAAAAAAAAAAAAAAAAAAAAAAAAAAAAAAAJQJvxST5RZBlAm/FJPlFkGUCb8Uk+UWQZQJvxST5RZBlAm/FJPlFkGUCb8Uk+UWQZQJvxST5RZBbOLkRSUeMUGI0t5efz4xQaTC2HfZXjFBwLLSkDN/MUHcosypjZ8xQfiSxsLnvzFBFIPA20HgMUEwc7r0mwAyQUxjtA32IDJB\",\"dtype\":\"float64\",\"order\":\"little\",\"shape\":[24]},\"Date\":{\"__ndarray__\":\"mt8qQEN9eEKa32qSPYd4Qprf6n7lkHhCmt8q0d+aeEKa32oj2qR4Qprf6g+CrnhCmt8qYny4eEKa36pOJMJ4Qprf6qAezHhCmt8q8xjWeEKa3+p5bt94QprfKsxo6XhCmt+quBDzeEKa3+oKC/14QprfaveyBnlCmt+qSa0QeUKa3+qbpxp5QprfaohPJHlCmt+q2kkueUKa3yrH8Td5QprfahnsQXlCmt+qa+ZLeUKa36qM6VR5Qprf6t7jXnlC\",\"dtype\":\"float64\",\"order\":\"little\",\"shape\":[24]},\"Minting_Fee\":{\"__ndarray__\":\"AAAAAAAAAAAAAAAAAAAAAAAAAAAAAAAAAAAAAAAAAAAAAAAAAAAAAAAAAAAAAAAAAAAAAAAAAAAAAAAAAAAAAAJNhA1GHAJBAAAAAAAAAAAAAAAAAAAAAAAAAAAAAAAAAAAAAAAAAAAAAAAAAAAAAAAAAAAAAAAADQIrh+TSEUEAAAAAAAAAAAAAAAAAAAAAAAAAAAAAAAAAAAAAAAAAAAAAAAAAAAAAAAAAAAAAAAAAAAAAAAAAAAAAAAAAAAAA\",\"dtype\":\"float64\",\"order\":\"little\",\"shape\":[24]},\"On_hyphen_minus_going\":{\"__ndarray__\":\"AAAAAAAAAAAAAAAAAAAAAAAAAAAAAAAAAAAAAAAAAAAAAAAAAAAAAAAAAAAAAAAAAAAAAAAAAAAAAAAAAAAAAAAAAAAAAAAAAAAAAAAAAAAAAAAAAAAAAAAAAAAAAAAAAAAAAAAAAAAAAAAAAAAAAAAAAAAAAAAAww34fAwtwEDDDfh8DC3AQMMN+HwMLcBAww34fAwtwEDDDfh8DC3AQMMN+HwMLcBAww34fAwtwEDDDfh8DC3AQMMN+HwMLcBA\",\"dtype\":\"float64\",\"order\":\"little\",\"shape\":[24]},\"Revenue_Share\":{\"__ndarray__\":\"AAAAAAAAAAAAAAAAAAAAAAAAAAAAAAAAAAAAAAAAAAAAAAAAAAAAAAAAAAAAAAAAAAAAAAAAAAAAAAAAAAAAACfG+RvgrgtBAAAAAAAAAAAAAAAAAAAAAAAAAAAAAAAAAAAAAAAAAAAAAAAAAAAAAAAAAAAAAAAAoL3BF7U+G0EAAAAAAAAAAAAAAAAAAAAAAAAAAAAAAAAAAAAAAAAAAAAAAAAAAAAAAAAAAAAAAAAAAAAAAAAAAAAAAAAAAAAA\",\"dtype\":\"float64\",\"order\":\"little\",\"shape\":[24]},\"Total_Revenue_hyphen_minus_Cash\":{\"__ndarray__\":\"AAAAAAAAAAAAAAAAAAAAAAAAAAAAAAAAAAAAAAAAAAAAAAAAAAAAAAAAAAAAAAAAAAAAAAAAAAAAAAAAAAAAAJQJvxST5RZBAAAAAAAAAAAAAAAAAAAAAAAAAAAAAAAAAAAAAAAAAAAAAAAAAAAAAAAAAAAAAAAADUBqAYHJJkHDDfh8DC3AQMMN+HwMLcBAww34fAwtwEDDDfh8DC3AQMMN+HwMLcBAww34fAwtwEDDDfh8DC3AQMMN+HwMLcBA\",\"dtype\":\"float64\",\"order\":\"little\",\"shape\":[24]},\"hectares_protected\":[0,0,0,0,0,0,0,0,7478,0,0,0,0,0,0,15371,0,0,0,0,0,0,0,0],\"hectares_protected_cumul\":[0,0,0,0,0,0,0,0,7478,7478,7478,7478,7478,7478,7478,22849,22849,22849,22849,22849,22849,22849,22849,22849]},\"selected\":{\"id\":\"1439\"},\"selection_policy\":{\"id\":\"1483\"}},\"id\":\"1438\",\"type\":\"ColumnDataSource\"},{\"attributes\":{\"editor\":{\"id\":\"1456\"},\"field\":\"Minting_Fee\",\"formatter\":{\"id\":\"1455\"},\"title\":\"Minting Fee\"},\"id\":\"1457\",\"type\":\"TableColumn\"},{\"attributes\":{},\"id\":\"1461\",\"type\":\"NumberEditor\"},{\"attributes\":{\"format\":\"0,0.0[00000]\"},\"id\":\"1455\",\"type\":\"NumberFormatter\"},{\"attributes\":{\"format\":\"%Y-%m-%d %H:%M:%S\"},\"id\":\"1440\",\"type\":\"DateFormatter\"},{\"attributes\":{\"editor\":{\"id\":\"1461\"},\"field\":\"On_hyphen_minus_going\",\"formatter\":{\"id\":\"1460\"},\"title\":\"On-going\"},\"id\":\"1462\",\"type\":\"TableColumn\"},{\"attributes\":{},\"id\":\"1466\",\"type\":\"IntEditor\"},{\"attributes\":{\"format\":\"0,0.0[00000]\"},\"id\":\"1460\",\"type\":\"NumberFormatter\"},{\"attributes\":{},\"id\":\"1476\",\"type\":\"NumberEditor\"},{\"attributes\":{},\"id\":\"1465\",\"type\":\"NumberFormatter\"},{\"attributes\":{},\"id\":\"1483\",\"type\":\"UnionRenderers\"},{\"attributes\":{\"editor\":{\"id\":\"1471\"},\"field\":\"Total_Revenue_hyphen_minus_Cash\",\"formatter\":{\"id\":\"1470\"},\"title\":\"Total Revenue - Cash\"},\"id\":\"1472\",\"type\":\"TableColumn\"},{\"attributes\":{\"format\":\"0,0.0[00000]\"},\"id\":\"1470\",\"type\":\"NumberFormatter\"},{\"attributes\":{\"editor\":{\"id\":\"1466\"},\"field\":\"hectares_protected_cumul\",\"formatter\":{\"id\":\"1465\"},\"title\":\"hectares_protected_cumul\"},\"id\":\"1467\",\"type\":\"TableColumn\"},{\"attributes\":{},\"id\":\"1446\",\"type\":\"IntEditor\"},{\"attributes\":{},\"id\":\"1471\",\"type\":\"NumberEditor\"},{\"attributes\":{\"source\":{\"id\":\"1438\"}},\"id\":\"1482\",\"type\":\"CDSView\"},{\"attributes\":{},\"id\":\"1441\",\"type\":\"DateEditor\"},{\"attributes\":{\"columns\":[{\"id\":\"1442\"},{\"id\":\"1447\"},{\"id\":\"1452\"},{\"id\":\"1457\"},{\"id\":\"1462\"},{\"id\":\"1467\"},{\"id\":\"1472\"},{\"id\":\"1477\"}],\"height\":300,\"reorderable\":false,\"source\":{\"id\":\"1438\"},\"view\":{\"id\":\"1482\"},\"width\":800},\"id\":\"1480\",\"type\":\"DataTable\"},{\"attributes\":{\"format\":\"0,0.0[00000]\"},\"id\":\"1475\",\"type\":\"NumberFormatter\"},{\"attributes\":{},\"id\":\"1445\",\"type\":\"NumberFormatter\"},{\"attributes\":{\"editor\":{\"id\":\"1476\"},\"field\":\"Cumulative_Revenue_hyphen_minus_Cash\",\"formatter\":{\"id\":\"1475\"},\"title\":\"Cumulative Revenue - Cash\"},\"id\":\"1477\",\"type\":\"TableColumn\"},{\"attributes\":{\"format\":\"0,0.0[00000]\"},\"id\":\"1450\",\"type\":\"NumberFormatter\"},{\"attributes\":{},\"id\":\"1456\",\"type\":\"NumberEditor\"},{\"attributes\":{\"children\":[{\"id\":\"1480\"}],\"height\":300,\"margin\":[0,0,0,0],\"min_height\":300,\"min_width\":800,\"name\":\"Row07922\",\"tags\":[\"embedded\"],\"width\":800},\"id\":\"1437\",\"type\":\"Row\"},{\"attributes\":{\"editor\":{\"id\":\"1441\"},\"field\":\"Date\",\"formatter\":{\"id\":\"1440\"},\"title\":\"Date\"},\"id\":\"1442\",\"type\":\"TableColumn\"}],\"root_ids\":[\"1437\"]},\"title\":\"Bokeh Application\",\"version\":\"2.4.3\"}};\n",
       "    var render_items = [{\"docid\":\"06d02194-c81e-4890-8daa-4b59aa284b1c\",\"root_ids\":[\"1437\"],\"roots\":{\"1437\":\"b9fd1680-c7af-4f88-a2ba-7dd10f7e1731\"}}];\n",
       "    root.Bokeh.embed.embed_items_notebook(docs_json, render_items);\n",
       "    for (const render_item of render_items) {\n",
       "      for (const root_id of render_item.root_ids) {\n",
       "\tconst id_el = document.getElementById(root_id)\n",
       "\tif (id_el.children.length && (id_el.children[0].className === 'bk-root')) {\n",
       "\t  const root_el = id_el.children[0]\n",
       "\t  root_el.id = root_el.id + '-rendered'\n",
       "\t}\n",
       "      }\n",
       "    }\n",
       "  }\n",
       "  if (root.Bokeh !== undefined && root.Bokeh.Panel !== undefined) {\n",
       "    embed_document(root);\n",
       "  } else {\n",
       "    var attempts = 0;\n",
       "    var timer = setInterval(function(root) {\n",
       "      if (root.Bokeh !== undefined && root.Bokeh.Panel !== undefined) {\n",
       "        clearInterval(timer);\n",
       "        embed_document(root);\n",
       "      } else if (document.readyState == \"complete\") {\n",
       "        attempts++;\n",
       "        if (attempts > 200) {\n",
       "          clearInterval(timer);\n",
       "          console.log(\"Bokeh: ERROR: Unable to run BokehJS code because BokehJS library is missing\");\n",
       "        }\n",
       "      }\n",
       "    }, 25, root)\n",
       "  }\n",
       "})(window);</script>"
      ],
      "text/plain": [
       ":Table   [Date,hectares_protected,Revenue Share,Minting Fee,On-going,hectares_protected_cumul,Total Revenue - Cash,Cumulative Revenue - Cash]"
      ]
     },
     "execution_count": 24,
     "metadata": {
      "application/vnd.holoviews_exec.v0+json": {
       "id": "1437"
      }
     },
     "output_type": "execute_result"
    }
   ],
   "source": [
    "w.view_cumulative_revenue_table()"
   ]
  },
  {
   "cell_type": "code",
   "execution_count": null,
   "id": "988d5510-24bb-4171-8a52-dc15fcdc3ca0",
   "metadata": {},
   "outputs": [],
   "source": []
  },
  {
   "cell_type": "code",
   "execution_count": null,
   "id": "824d77d9-0311-42be-9c27-c2094483fb7d",
   "metadata": {},
   "outputs": [],
   "source": []
  }
 ],
 "metadata": {
  "kernelspec": {
   "display_name": "Python 3 (ipykernel)",
   "language": "python",
   "name": "python3"
  },
  "language_info": {
   "codemirror_mode": {
    "name": "ipython",
    "version": 3
   },
   "file_extension": ".py",
   "mimetype": "text/x-python",
   "name": "python",
   "nbconvert_exporter": "python",
   "pygments_lexer": "ipython3",
   "version": "3.10.6"
  }
 },
 "nbformat": 4,
 "nbformat_minor": 5
}
