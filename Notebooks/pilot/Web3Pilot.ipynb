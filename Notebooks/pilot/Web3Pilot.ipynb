{
 "cells": [
  {
   "cell_type": "code",
   "execution_count": 13,
   "id": "8d242b80-b23d-48da-8d71-722125945c20",
   "metadata": {},
   "outputs": [],
   "source": [
    "%run ForestPipeline.ipynb"
   ]
  },
  {
   "cell_type": "code",
   "execution_count": 14,
   "id": "f27ce61c-d042-4c55-a16a-bd1424046de8",
   "metadata": {},
   "outputs": [],
   "source": [
    "import param as pm\n",
    "import panel as pn\n",
    "import pandas as pd\n",
    "import datetime as dt\n",
    "import numpy as np\n",
    "import hvplot.pandas\n",
    "pn.extension()"
   ]
  },
  {
   "cell_type": "markdown",
   "id": "8e5a1bc8-520c-4789-b14d-7c99696a5c15",
   "metadata": {},
   "source": [
    "Revenue Share Per Acre"
   ]
  },
  {
   "cell_type": "code",
   "execution_count": 15,
   "id": "a00b4fbc-6033-4ca2-8b42-e8518bf947ae",
   "metadata": {},
   "outputs": [
    {
     "data": {
      "text/plain": [
       "30.32629227868413"
      ]
     },
     "execution_count": 15,
     "metadata": {},
     "output_type": "execute_result"
    }
   ],
   "source": [
    "f1.centree_commission_per_hectare()"
   ]
  },
  {
   "cell_type": "markdown",
   "id": "93348821-122d-4243-85e1-37d52b198a5d",
   "metadata": {},
   "source": [
    "Minting Fee per Acre"
   ]
  },
  {
   "cell_type": "code",
   "execution_count": 16,
   "id": "7ad3b50a-f4cc-4f42-ab44-00dad20c1432",
   "metadata": {},
   "outputs": [
    {
     "data": {
      "text/plain": [
       "19.83963046269056"
      ]
     },
     "execution_count": 16,
     "metadata": {},
     "output_type": "execute_result"
    }
   ],
   "source": [
    "f1.centree_mint_fee_per_hectare()"
   ]
  },
  {
   "cell_type": "markdown",
   "id": "3d1416ed-b369-42c5-8c0e-3617ba664a31",
   "metadata": {},
   "source": [
    "Administration Fee Per Acre Per Month"
   ]
  },
  {
   "cell_type": "code",
   "execution_count": 17,
   "id": "c60b97d2-5c40-4b57-aa53-e1338aa71013",
   "metadata": {},
   "outputs": [
    {
     "data": {
      "text/plain": [
       "0.3558794979899372"
      ]
     },
     "execution_count": 17,
     "metadata": {},
     "output_type": "execute_result"
    }
   ],
   "source": [
    "c1.compute()['Centree (Admin/Commission)'].iloc[0] / f1.forested_area_hectares / 12"
   ]
  },
  {
   "cell_type": "markdown",
   "id": "487c02d3-bcd3-4ff4-a0e4-2532baae4bb2",
   "metadata": {},
   "source": [
    "Forested Area Hectares"
   ]
  },
  {
   "cell_type": "code",
   "execution_count": 18,
   "id": "beff2574-0641-4567-afd4-02c58ae6e958",
   "metadata": {
    "tags": []
   },
   "outputs": [
    {
     "data": {
      "text/plain": [
       "7478"
      ]
     },
     "execution_count": 18,
     "metadata": {},
     "output_type": "execute_result"
    }
   ],
   "source": [
    "f1.forested_area_hectares"
   ]
  },
  {
   "cell_type": "markdown",
   "id": "58b9bef7-a2d2-4051-a77b-ac339aaf10e7",
   "metadata": {},
   "source": [
    "Centree Commission per Hectare"
   ]
  },
  {
   "cell_type": "code",
   "execution_count": 19,
   "id": "8d63ce96-062a-4340-b64b-9d1a95dd629b",
   "metadata": {
    "tags": []
   },
   "outputs": [
    {
     "data": {
      "text/plain": [
       "30.32629227868413"
      ]
     },
     "execution_count": 19,
     "metadata": {},
     "output_type": "execute_result"
    }
   ],
   "source": [
    "f1.centree_commission_per_hectare()"
   ]
  },
  {
   "cell_type": "markdown",
   "id": "323d8e12-9a72-479b-94b7-c41369388ba1",
   "metadata": {},
   "source": [
    "Centree Mint Fee per Hectare"
   ]
  },
  {
   "cell_type": "code",
   "execution_count": 20,
   "id": "9adc7dd5-747e-40c2-925e-25dbcfd0d21f",
   "metadata": {
    "tags": []
   },
   "outputs": [
    {
     "data": {
      "text/plain": [
       "19.83963046269056"
      ]
     },
     "execution_count": 20,
     "metadata": {},
     "output_type": "execute_result"
    }
   ],
   "source": [
    "f1.centree_mint_fee_per_hectare()"
   ]
  },
  {
   "cell_type": "code",
   "execution_count": 25,
   "id": "b4e70fab-d45d-45f2-96e3-30e85aa9c158",
   "metadata": {},
   "outputs": [],
   "source": [
    "class Web3Pilot(pm.Parameterized):\n",
    "    \n",
    "    def __init__(self, forest_pipeline: list, **params):\n",
    "        super(Web3Pilot, self).__init__(**params)\n",
    "        self.forest_pipeline = forest_pipeline\n",
    "        \n",
    "    def cumulative_revenue(self, periods=24, freq='M'):\n",
    "        df = pd.DataFrame(index=pd.date_range(dt.datetime.now(), periods=periods, freq=freq))\n",
    "        df['hectares_protected'] = 0\n",
    "        df['Revenue Share'] = 0\n",
    "        df['Minting Fee'] = 0\n",
    "        df['On-going'] = 0\n",
    "        for project in self.forest_pipeline.projects:\n",
    "            df.at[df.index[project.month], 'hectares_protected'] += project.forest.forested_area_hectares\n",
    "            df.at[df.index[project.month], 'Revenue Share'] += project.forest.forested_area_hectares * project.forest.centree_commission_per_hectare()\n",
    "            df.at[df.index[project.month], 'Minting Fee'] += project.forest.forested_area_hectares * project.forest.centree_mint_fee_per_hectare()\n",
    "        df['hectares_protected_cumul'] = df['hectares_protected'].cumsum()\n",
    "        for forest in self.forest_pipeline.projects:\n",
    "            df.loc[df.index[project.month]:, 'On-going'] += project.forest.forested_area_hectares * project.carbon.compute()['Centree (Admin/Commission)'].iloc[0] / project.forest.forested_area_hectares / 12\n",
    "        df['Total Revenue - Cash'] = df['Revenue Share'] + df['Minting Fee'] + df['On-going']\n",
    "        df['Cumulative Revenue - Cash'] = df['Total Revenue - Cash'].cumsum()\n",
    "        df.index.name = 'Date'\n",
    "        return df\n",
    "    \n",
    "    def view_cumulative_revenue_table(self):\n",
    "        return self.cumulative_revenue().reset_index().hvplot.table(height=800,width=800)\n",
    "    \n",
    "    def view_cumulative_revenue_chart(self):\n",
    "        return self.cumulative_revenue().hvplot(y='Cumulative Revenue - Cash', title='Web3 Pilot Cumulative Revenue')"
   ]
  },
  {
   "cell_type": "code",
   "execution_count": 26,
   "id": "a8335097-8928-416c-9df6-ea269a2e0ab5",
   "metadata": {
    "tags": []
   },
   "outputs": [],
   "source": [
    "w = Web3Pilot(forest_pipeline)"
   ]
  },
  {
   "cell_type": "code",
   "execution_count": 27,
   "id": "9f00385c-b308-4314-9811-dcefca461458",
   "metadata": {
    "tags": []
   },
   "outputs": [
    {
     "data": {
      "application/vnd.holoviews_exec.v0+json": "",
      "text/html": [
       "<div id='1496'>\n",
       "  <div class=\"bk-root\" id=\"767a8bf1-aad8-44c3-8cb5-3e35061e4b4c\" data-root-id=\"1496\"></div>\n",
       "</div>\n",
       "<script type=\"application/javascript\">(function(root) {\n",
       "  function embed_document(root) {\n",
       "    var docs_json = {\"e357b0ca-100e-4d90-9235-5c039dfb3485\":{\"defs\":[{\"extends\":null,\"module\":null,\"name\":\"ReactiveHTML1\",\"overrides\":[],\"properties\":[]},{\"extends\":null,\"module\":null,\"name\":\"FlexBox1\",\"overrides\":[],\"properties\":[{\"default\":\"flex-start\",\"kind\":null,\"name\":\"align_content\"},{\"default\":\"flex-start\",\"kind\":null,\"name\":\"align_items\"},{\"default\":\"row\",\"kind\":null,\"name\":\"flex_direction\"},{\"default\":\"wrap\",\"kind\":null,\"name\":\"flex_wrap\"},{\"default\":\"flex-start\",\"kind\":null,\"name\":\"justify_content\"}]},{\"extends\":null,\"module\":null,\"name\":\"GridStack1\",\"overrides\":[],\"properties\":[{\"default\":\"warn\",\"kind\":null,\"name\":\"mode\"},{\"default\":null,\"kind\":null,\"name\":\"ncols\"},{\"default\":null,\"kind\":null,\"name\":\"nrows\"},{\"default\":true,\"kind\":null,\"name\":\"allow_resize\"},{\"default\":true,\"kind\":null,\"name\":\"allow_drag\"},{\"default\":[],\"kind\":null,\"name\":\"state\"}]},{\"extends\":null,\"module\":null,\"name\":\"click1\",\"overrides\":[],\"properties\":[{\"default\":\"\",\"kind\":null,\"name\":\"terminal_output\"},{\"default\":\"\",\"kind\":null,\"name\":\"debug_name\"},{\"default\":0,\"kind\":null,\"name\":\"clears\"}]},{\"extends\":null,\"module\":null,\"name\":\"NotificationAreaBase1\",\"overrides\":[],\"properties\":[{\"default\":\"bottom-right\",\"kind\":null,\"name\":\"position\"},{\"default\":0,\"kind\":null,\"name\":\"_clear\"}]},{\"extends\":null,\"module\":null,\"name\":\"NotificationArea1\",\"overrides\":[],\"properties\":[{\"default\":[],\"kind\":null,\"name\":\"notifications\"},{\"default\":\"bottom-right\",\"kind\":null,\"name\":\"position\"},{\"default\":0,\"kind\":null,\"name\":\"_clear\"},{\"default\":[{\"background\":\"#ffc107\",\"icon\":{\"className\":\"fas fa-exclamation-triangle\",\"color\":\"white\",\"tagName\":\"i\"},\"type\":\"warning\"},{\"background\":\"#007bff\",\"icon\":{\"className\":\"fas fa-info-circle\",\"color\":\"white\",\"tagName\":\"i\"},\"type\":\"info\"}],\"kind\":null,\"name\":\"types\"}]},{\"extends\":null,\"module\":null,\"name\":\"Notification\",\"overrides\":[],\"properties\":[{\"default\":null,\"kind\":null,\"name\":\"background\"},{\"default\":3000,\"kind\":null,\"name\":\"duration\"},{\"default\":null,\"kind\":null,\"name\":\"icon\"},{\"default\":\"\",\"kind\":null,\"name\":\"message\"},{\"default\":null,\"kind\":null,\"name\":\"notification_type\"},{\"default\":false,\"kind\":null,\"name\":\"_destroyed\"}]},{\"extends\":null,\"module\":null,\"name\":\"TemplateActions1\",\"overrides\":[],\"properties\":[{\"default\":0,\"kind\":null,\"name\":\"open_modal\"},{\"default\":0,\"kind\":null,\"name\":\"close_modal\"}]},{\"extends\":null,\"module\":null,\"name\":\"MaterialTemplateActions1\",\"overrides\":[],\"properties\":[{\"default\":0,\"kind\":null,\"name\":\"open_modal\"},{\"default\":0,\"kind\":null,\"name\":\"close_modal\"}]}],\"roots\":{\"references\":[{\"attributes\":{\"coordinates\":null,\"group\":null,\"text\":\"Web3 Pilot Cumulative Revenue\",\"text_color\":\"black\",\"text_font_size\":\"12pt\"},\"id\":\"1501\",\"type\":\"Title\"},{\"attributes\":{\"axis\":{\"id\":\"1509\"},\"coordinates\":null,\"grid_line_color\":null,\"group\":null,\"ticker\":null},\"id\":\"1512\",\"type\":\"Grid\"},{\"attributes\":{\"base\":24,\"mantissas\":[1,2,4,6,8,12],\"max_interval\":43200000.0,\"min_interval\":3600000.0,\"num_minor_ticks\":0},\"id\":\"1561\",\"type\":\"AdaptiveTicker\"},{\"attributes\":{\"below\":[{\"id\":\"1509\"}],\"center\":[{\"id\":\"1512\"},{\"id\":\"1516\"}],\"height\":300,\"left\":[{\"id\":\"1513\"}],\"margin\":[5,5,5,5],\"min_border_bottom\":10,\"min_border_left\":10,\"min_border_right\":10,\"min_border_top\":10,\"renderers\":[{\"id\":\"1536\"}],\"sizing_mode\":\"fixed\",\"title\":{\"id\":\"1501\"},\"toolbar\":{\"id\":\"1523\"},\"width\":700,\"x_range\":{\"id\":\"1497\"},\"x_scale\":{\"id\":\"1505\"},\"y_range\":{\"id\":\"1498\"},\"y_scale\":{\"id\":\"1507\"}},\"id\":\"1500\",\"subtype\":\"Figure\",\"type\":\"Plot\"},{\"attributes\":{},\"id\":\"1505\",\"type\":\"LinearScale\"},{\"attributes\":{\"children\":[{\"id\":\"1500\"}],\"height\":300,\"margin\":[0,0,0,0],\"name\":\"Row08033\",\"sizing_mode\":\"fixed\",\"tags\":[\"embedded\"],\"width\":700},\"id\":\"1496\",\"type\":\"Row\"},{\"attributes\":{},\"id\":\"1544\",\"type\":\"AllLabels\"},{\"attributes\":{\"line_alpha\":0.1,\"line_color\":\"#30a2da\",\"line_width\":2,\"x\":{\"field\":\"Date\"},\"y\":{\"field\":\"Cumulative Revenue - Cash\"}},\"id\":\"1534\",\"type\":\"Line\"},{\"attributes\":{\"months\":[0,1,2,3,4,5,6,7,8,9,10,11]},\"id\":\"1566\",\"type\":\"MonthsTicker\"},{\"attributes\":{\"source\":{\"id\":\"1530\"}},\"id\":\"1537\",\"type\":\"CDSView\"},{\"attributes\":{\"days\":[1,8,15,22]},\"id\":\"1564\",\"type\":\"DaysTicker\"},{\"attributes\":{\"bottom_units\":\"screen\",\"coordinates\":null,\"fill_alpha\":0.5,\"fill_color\":\"lightgrey\",\"group\":null,\"left_units\":\"screen\",\"level\":\"overlay\",\"line_alpha\":1.0,\"line_color\":\"black\",\"line_dash\":[4,4],\"line_width\":2,\"right_units\":\"screen\",\"syncable\":false,\"top_units\":\"screen\"},\"id\":\"1522\",\"type\":\"BoxAnnotation\"},{\"attributes\":{\"days\":[1,4,7,10,13,16,19,22,25,28]},\"id\":\"1563\",\"type\":\"DaysTicker\"},{\"attributes\":{\"months\":[0,4,8]},\"id\":\"1568\",\"type\":\"MonthsTicker\"},{\"attributes\":{\"end\":1306894.6588871256,\"reset_end\":1306894.6588871256,\"reset_start\":-118808.60535337507,\"start\":-118808.60535337507,\"tags\":[[[\"Cumulative Revenue - Cash\",\"Cumulative Revenue - Cash\",null]]]},\"id\":\"1498\",\"type\":\"Range1d\"},{\"attributes\":{},\"id\":\"1518\",\"type\":\"PanTool\"},{\"attributes\":{\"days\":[1,2,3,4,5,6,7,8,9,10,11,12,13,14,15,16,17,18,19,20,21,22,23,24,25,26,27,28,29,30,31]},\"id\":\"1562\",\"type\":\"DaysTicker\"},{\"attributes\":{},\"id\":\"1521\",\"type\":\"ResetTool\"},{\"attributes\":{\"months\":[0,2,4,6,8,10]},\"id\":\"1567\",\"type\":\"MonthsTicker\"},{\"attributes\":{\"overlay\":{\"id\":\"1522\"}},\"id\":\"1520\",\"type\":\"BoxZoomTool\"},{\"attributes\":{},\"id\":\"1540\",\"type\":\"DatetimeTickFormatter\"},{\"attributes\":{},\"id\":\"1517\",\"type\":\"SaveTool\"},{\"attributes\":{\"callback\":null,\"formatters\":{\"@{Date}\":\"datetime\"},\"renderers\":[{\"id\":\"1536\"}],\"tags\":[\"hv_created\"],\"tooltips\":[[\"Date\",\"@{Date}{%F %T}\"],[\"Cumulative Revenue - Cash\",\"@{Cumulative_Revenue_hyphen_minus_Cash}\"]]},\"id\":\"1499\",\"type\":\"HoverTool\"},{\"attributes\":{\"days\":[1,15]},\"id\":\"1565\",\"type\":\"DaysTicker\"},{\"attributes\":{\"line_color\":\"#30a2da\",\"line_width\":2,\"x\":{\"field\":\"Date\"},\"y\":{\"field\":\"Cumulative Revenue - Cash\"}},\"id\":\"1538\",\"type\":\"Line\"},{\"attributes\":{},\"id\":\"1519\",\"type\":\"WheelZoomTool\"},{\"attributes\":{\"months\":[0,6]},\"id\":\"1569\",\"type\":\"MonthsTicker\"},{\"attributes\":{},\"id\":\"1507\",\"type\":\"LinearScale\"},{\"attributes\":{\"axis\":{\"id\":\"1513\"},\"coordinates\":null,\"dimension\":1,\"grid_line_color\":null,\"group\":null,\"ticker\":null},\"id\":\"1516\",\"type\":\"Grid\"},{\"attributes\":{},\"id\":\"1514\",\"type\":\"BasicTicker\"},{\"attributes\":{\"base\":60,\"mantissas\":[1,2,5,10,15,20,30],\"max_interval\":1800000.0,\"min_interval\":1000.0,\"num_minor_ticks\":0},\"id\":\"1560\",\"type\":\"AdaptiveTicker\"},{\"attributes\":{\"end\":1743460007251.999,\"reset_end\":1743460007251.999,\"reset_start\":1682893607251.999,\"start\":1682893607251.999,\"tags\":[[[\"Date\",\"Date\",null]]]},\"id\":\"1497\",\"type\":\"Range1d\"},{\"attributes\":{\"coordinates\":null,\"data_source\":{\"id\":\"1530\"},\"glyph\":{\"id\":\"1533\"},\"group\":null,\"hover_glyph\":null,\"muted_glyph\":{\"id\":\"1535\"},\"nonselection_glyph\":{\"id\":\"1534\"},\"selection_glyph\":{\"id\":\"1538\"},\"view\":{\"id\":\"1537\"}},\"id\":\"1536\",\"type\":\"GlyphRenderer\"},{\"attributes\":{\"axis_label\":\"Cumulative Revenue - Cash\",\"coordinates\":null,\"formatter\":{\"id\":\"1543\"},\"group\":null,\"major_label_policy\":{\"id\":\"1544\"},\"ticker\":{\"id\":\"1514\"}},\"id\":\"1513\",\"type\":\"LinearAxis\"},{\"attributes\":{\"mantissas\":[1,2,5],\"max_interval\":500.0,\"num_minor_ticks\":0},\"id\":\"1559\",\"type\":\"AdaptiveTicker\"},{\"attributes\":{\"axis_label\":\"Date\",\"coordinates\":null,\"formatter\":{\"id\":\"1540\"},\"group\":null,\"major_label_policy\":{\"id\":\"1541\"},\"ticker\":{\"id\":\"1510\"}},\"id\":\"1509\",\"type\":\"DatetimeAxis\"},{\"attributes\":{},\"id\":\"1570\",\"type\":\"YearsTicker\"},{\"attributes\":{},\"id\":\"1543\",\"type\":\"BasicTickFormatter\"},{\"attributes\":{\"num_minor_ticks\":5,\"tickers\":[{\"id\":\"1559\"},{\"id\":\"1560\"},{\"id\":\"1561\"},{\"id\":\"1562\"},{\"id\":\"1563\"},{\"id\":\"1564\"},{\"id\":\"1565\"},{\"id\":\"1566\"},{\"id\":\"1567\"},{\"id\":\"1568\"},{\"id\":\"1569\"},{\"id\":\"1570\"}]},\"id\":\"1510\",\"type\":\"DatetimeTicker\"},{\"attributes\":{\"line_color\":\"#30a2da\",\"line_width\":2,\"x\":{\"field\":\"Date\"},\"y\":{\"field\":\"Cumulative Revenue - Cash\"}},\"id\":\"1533\",\"type\":\"Line\"},{\"attributes\":{\"data\":{\"Cumulative Revenue - Cash\":{\"__ndarray__\":\"AAAAAAAAAAAAAAAAAAAAAAAAAAAAAAAAAAAAAAAAAAAAAAAAAAAAAAAAAAAAAAAAAAAAAAAAAAAAAAAAAAAAAJQJvxST5RZBlAm/FJPlFkGUCb8Uk+UWQZQJvxST5RZBlAm/FJPlFkGUCb8Uk+UWQZQJvxST5RZBbOLkRSUeMUGI0t5efz4xQaTC2HfZXjFBwLLSkDN/MUHcosypjZ8xQfiSxsLnvzFBFIPA20HgMUEwc7r0mwAyQUxjtA32IDJB\",\"dtype\":\"float64\",\"order\":\"little\",\"shape\":[24]},\"Cumulative_Revenue_hyphen_minus_Cash\":{\"__ndarray__\":\"AAAAAAAAAAAAAAAAAAAAAAAAAAAAAAAAAAAAAAAAAAAAAAAAAAAAAAAAAAAAAAAAAAAAAAAAAAAAAAAAAAAAAJQJvxST5RZBlAm/FJPlFkGUCb8Uk+UWQZQJvxST5RZBlAm/FJPlFkGUCb8Uk+UWQZQJvxST5RZBbOLkRSUeMUGI0t5efz4xQaTC2HfZXjFBwLLSkDN/MUHcosypjZ8xQfiSxsLnvzFBFIPA20HgMUEwc7r0mwAyQUxjtA32IDJB\",\"dtype\":\"float64\",\"order\":\"little\",\"shape\":[24]},\"Date\":{\"__ndarray__\":\"/D8VaUR9eEL8P1W7Pod4Qvw/1afmkHhC/D8V+uCaeEL8P1VM26R4Qvw/1TiDrnhC/D8Vi324eEL8P5V3JcJ4Qvw/1ckfzHhC/D8VHBrWeEL8P9Wib994Qvw/FfVp6XhC/D+V4RHzeEL8P9UzDP14Qvw/VSC0BnlC/D+Vcq4QeUL8P9XEqBp5Qvw/VbFQJHlC/D+VA0sueUL8PxXw8jd5Qvw/VULtQXlC/D+VlOdLeUL8P5W16lR5Qvw/1QflXnlC\",\"dtype\":\"float64\",\"order\":\"little\",\"shape\":[24]}},\"selected\":{\"id\":\"1531\"},\"selection_policy\":{\"id\":\"1556\"}},\"id\":\"1530\",\"type\":\"ColumnDataSource\"},{\"attributes\":{},\"id\":\"1556\",\"type\":\"UnionRenderers\"},{\"attributes\":{\"line_alpha\":0.2,\"line_color\":\"#30a2da\",\"line_width\":2,\"x\":{\"field\":\"Date\"},\"y\":{\"field\":\"Cumulative Revenue - Cash\"}},\"id\":\"1535\",\"type\":\"Line\"},{\"attributes\":{},\"id\":\"1531\",\"type\":\"Selection\"},{\"attributes\":{},\"id\":\"1541\",\"type\":\"AllLabels\"},{\"attributes\":{\"active_drag\":{\"id\":\"1518\"},\"active_scroll\":{\"id\":\"1519\"},\"tools\":[{\"id\":\"1499\"},{\"id\":\"1517\"},{\"id\":\"1518\"},{\"id\":\"1519\"},{\"id\":\"1520\"},{\"id\":\"1521\"}]},\"id\":\"1523\",\"type\":\"Toolbar\"}],\"root_ids\":[\"1496\"]},\"title\":\"Bokeh Application\",\"version\":\"2.4.3\"}};\n",
       "    var render_items = [{\"docid\":\"e357b0ca-100e-4d90-9235-5c039dfb3485\",\"root_ids\":[\"1496\"],\"roots\":{\"1496\":\"767a8bf1-aad8-44c3-8cb5-3e35061e4b4c\"}}];\n",
       "    root.Bokeh.embed.embed_items_notebook(docs_json, render_items);\n",
       "    for (const render_item of render_items) {\n",
       "      for (const root_id of render_item.root_ids) {\n",
       "\tconst id_el = document.getElementById(root_id)\n",
       "\tif (id_el.children.length && (id_el.children[0].className === 'bk-root')) {\n",
       "\t  const root_el = id_el.children[0]\n",
       "\t  root_el.id = root_el.id + '-rendered'\n",
       "\t}\n",
       "      }\n",
       "    }\n",
       "  }\n",
       "  if (root.Bokeh !== undefined && root.Bokeh.Panel !== undefined) {\n",
       "    embed_document(root);\n",
       "  } else {\n",
       "    var attempts = 0;\n",
       "    var timer = setInterval(function(root) {\n",
       "      if (root.Bokeh !== undefined && root.Bokeh.Panel !== undefined) {\n",
       "        clearInterval(timer);\n",
       "        embed_document(root);\n",
       "      } else if (document.readyState == \"complete\") {\n",
       "        attempts++;\n",
       "        if (attempts > 200) {\n",
       "          clearInterval(timer);\n",
       "          console.log(\"Bokeh: ERROR: Unable to run BokehJS code because BokehJS library is missing\");\n",
       "        }\n",
       "      }\n",
       "    }, 25, root)\n",
       "  }\n",
       "})(window);</script>"
      ],
      "text/plain": [
       ":Curve   [Date]   (Cumulative Revenue - Cash)"
      ]
     },
     "execution_count": 27,
     "metadata": {
      "application/vnd.holoviews_exec.v0+json": {
       "id": "1496"
      }
     },
     "output_type": "execute_result"
    }
   ],
   "source": [
    "w.view_cumulative_revenue_chart()"
   ]
  },
  {
   "cell_type": "code",
   "execution_count": 28,
   "id": "e97d8d1d-7e35-46e2-a276-47d7a595390a",
   "metadata": {
    "tags": []
   },
   "outputs": [
    {
     "data": {
      "application/vnd.holoviews_exec.v0+json": "",
      "text/html": [
       "<div id='1682'>\n",
       "  <div class=\"bk-root\" id=\"02036fda-b5a1-4f11-9914-549b8d636575\" data-root-id=\"1682\"></div>\n",
       "</div>\n",
       "<script type=\"application/javascript\">(function(root) {\n",
       "  function embed_document(root) {\n",
       "    var docs_json = {\"96be365a-c1e7-49ea-989f-b2c581b4ecbd\":{\"defs\":[{\"extends\":null,\"module\":null,\"name\":\"ReactiveHTML1\",\"overrides\":[],\"properties\":[]},{\"extends\":null,\"module\":null,\"name\":\"FlexBox1\",\"overrides\":[],\"properties\":[{\"default\":\"flex-start\",\"kind\":null,\"name\":\"align_content\"},{\"default\":\"flex-start\",\"kind\":null,\"name\":\"align_items\"},{\"default\":\"row\",\"kind\":null,\"name\":\"flex_direction\"},{\"default\":\"wrap\",\"kind\":null,\"name\":\"flex_wrap\"},{\"default\":\"flex-start\",\"kind\":null,\"name\":\"justify_content\"}]},{\"extends\":null,\"module\":null,\"name\":\"GridStack1\",\"overrides\":[],\"properties\":[{\"default\":\"warn\",\"kind\":null,\"name\":\"mode\"},{\"default\":null,\"kind\":null,\"name\":\"ncols\"},{\"default\":null,\"kind\":null,\"name\":\"nrows\"},{\"default\":true,\"kind\":null,\"name\":\"allow_resize\"},{\"default\":true,\"kind\":null,\"name\":\"allow_drag\"},{\"default\":[],\"kind\":null,\"name\":\"state\"}]},{\"extends\":null,\"module\":null,\"name\":\"click1\",\"overrides\":[],\"properties\":[{\"default\":\"\",\"kind\":null,\"name\":\"terminal_output\"},{\"default\":\"\",\"kind\":null,\"name\":\"debug_name\"},{\"default\":0,\"kind\":null,\"name\":\"clears\"}]},{\"extends\":null,\"module\":null,\"name\":\"NotificationAreaBase1\",\"overrides\":[],\"properties\":[{\"default\":\"bottom-right\",\"kind\":null,\"name\":\"position\"},{\"default\":0,\"kind\":null,\"name\":\"_clear\"}]},{\"extends\":null,\"module\":null,\"name\":\"NotificationArea1\",\"overrides\":[],\"properties\":[{\"default\":[],\"kind\":null,\"name\":\"notifications\"},{\"default\":\"bottom-right\",\"kind\":null,\"name\":\"position\"},{\"default\":0,\"kind\":null,\"name\":\"_clear\"},{\"default\":[{\"background\":\"#ffc107\",\"icon\":{\"className\":\"fas fa-exclamation-triangle\",\"color\":\"white\",\"tagName\":\"i\"},\"type\":\"warning\"},{\"background\":\"#007bff\",\"icon\":{\"className\":\"fas fa-info-circle\",\"color\":\"white\",\"tagName\":\"i\"},\"type\":\"info\"}],\"kind\":null,\"name\":\"types\"}]},{\"extends\":null,\"module\":null,\"name\":\"Notification\",\"overrides\":[],\"properties\":[{\"default\":null,\"kind\":null,\"name\":\"background\"},{\"default\":3000,\"kind\":null,\"name\":\"duration\"},{\"default\":null,\"kind\":null,\"name\":\"icon\"},{\"default\":\"\",\"kind\":null,\"name\":\"message\"},{\"default\":null,\"kind\":null,\"name\":\"notification_type\"},{\"default\":false,\"kind\":null,\"name\":\"_destroyed\"}]},{\"extends\":null,\"module\":null,\"name\":\"TemplateActions1\",\"overrides\":[],\"properties\":[{\"default\":0,\"kind\":null,\"name\":\"open_modal\"},{\"default\":0,\"kind\":null,\"name\":\"close_modal\"}]},{\"extends\":null,\"module\":null,\"name\":\"MaterialTemplateActions1\",\"overrides\":[],\"properties\":[{\"default\":0,\"kind\":null,\"name\":\"open_modal\"},{\"default\":0,\"kind\":null,\"name\":\"close_modal\"}]}],\"roots\":{\"references\":[{\"attributes\":{\"format\":\"0,0.0[00000]\"},\"id\":\"1715\",\"type\":\"NumberFormatter\"},{\"attributes\":{},\"id\":\"1710\",\"type\":\"NumberFormatter\"},{\"attributes\":{\"editor\":{\"id\":\"1716\"},\"field\":\"Total_Revenue_hyphen_minus_Cash\",\"formatter\":{\"id\":\"1715\"},\"title\":\"Total Revenue - Cash\"},\"id\":\"1717\",\"type\":\"TableColumn\"},{\"attributes\":{},\"id\":\"1721\",\"type\":\"NumberEditor\"},{\"attributes\":{},\"id\":\"1684\",\"type\":\"Selection\"},{\"attributes\":{\"format\":\"0,0.0[00000]\"},\"id\":\"1705\",\"type\":\"NumberFormatter\"},{\"attributes\":{},\"id\":\"1711\",\"type\":\"IntEditor\"},{\"attributes\":{\"editor\":{\"id\":\"1706\"},\"field\":\"On_hyphen_minus_going\",\"formatter\":{\"id\":\"1705\"},\"title\":\"On-going\"},\"id\":\"1707\",\"type\":\"TableColumn\"},{\"attributes\":{},\"id\":\"1728\",\"type\":\"UnionRenderers\"},{\"attributes\":{\"format\":\"0,0.0[00000]\"},\"id\":\"1700\",\"type\":\"NumberFormatter\"},{\"attributes\":{},\"id\":\"1706\",\"type\":\"NumberEditor\"},{\"attributes\":{\"source\":{\"id\":\"1683\"}},\"id\":\"1727\",\"type\":\"CDSView\"},{\"attributes\":{\"editor\":{\"id\":\"1701\"},\"field\":\"Minting_Fee\",\"formatter\":{\"id\":\"1700\"},\"title\":\"Minting Fee\"},\"id\":\"1702\",\"type\":\"TableColumn\"},{\"attributes\":{\"editor\":{\"id\":\"1721\"},\"field\":\"Cumulative_Revenue_hyphen_minus_Cash\",\"formatter\":{\"id\":\"1720\"},\"title\":\"Cumulative Revenue - Cash\"},\"id\":\"1722\",\"type\":\"TableColumn\"},{\"attributes\":{},\"id\":\"1696\",\"type\":\"NumberEditor\"},{\"attributes\":{\"editor\":{\"id\":\"1711\"},\"field\":\"hectares_protected_cumul\",\"formatter\":{\"id\":\"1710\"},\"title\":\"hectares_protected_cumul\"},\"id\":\"1712\",\"type\":\"TableColumn\"},{\"attributes\":{\"data\":{\"Cumulative_Revenue_hyphen_minus_Cash\":{\"__ndarray__\":\"AAAAAAAAAAAAAAAAAAAAAAAAAAAAAAAAAAAAAAAAAAAAAAAAAAAAAAAAAAAAAAAAAAAAAAAAAAAAAAAAAAAAAJQJvxST5RZBlAm/FJPlFkGUCb8Uk+UWQZQJvxST5RZBlAm/FJPlFkGUCb8Uk+UWQZQJvxST5RZBbOLkRSUeMUGI0t5efz4xQaTC2HfZXjFBwLLSkDN/MUHcosypjZ8xQfiSxsLnvzFBFIPA20HgMUEwc7r0mwAyQUxjtA32IDJB\",\"dtype\":\"float64\",\"order\":\"little\",\"shape\":[24]},\"Date\":{\"__ndarray__\":\"eZktaUR9eEJ5mW27Pod4QnmZ7afmkHhCeZkt+uCaeEJ5mW1M26R4QnmZ7TiDrnhCeZkti324eEJ5ma13JcJ4QnmZ7ckfzHhCeZktHBrWeEJ5me2ib994QnmZLfVp6XhCeZmt4RHzeEJ5me0zDP14QnmZbSC0BnlCeZmtcq4QeUJ5me3EqBp5QnmZbbFQJHlCeZmtA0sueUJ5mS3w8jd5QnmZbULtQXlCeZmtlOdLeUJ5ma216lR5QnmZ7QflXnlC\",\"dtype\":\"float64\",\"order\":\"little\",\"shape\":[24]},\"Minting_Fee\":{\"__ndarray__\":\"AAAAAAAAAAAAAAAAAAAAAAAAAAAAAAAAAAAAAAAAAAAAAAAAAAAAAAAAAAAAAAAAAAAAAAAAAAAAAAAAAAAAAAJNhA1GHAJBAAAAAAAAAAAAAAAAAAAAAAAAAAAAAAAAAAAAAAAAAAAAAAAAAAAAAAAAAAAAAAAADQIrh+TSEUEAAAAAAAAAAAAAAAAAAAAAAAAAAAAAAAAAAAAAAAAAAAAAAAAAAAAAAAAAAAAAAAAAAAAAAAAAAAAAAAAAAAAA\",\"dtype\":\"float64\",\"order\":\"little\",\"shape\":[24]},\"On_hyphen_minus_going\":{\"__ndarray__\":\"AAAAAAAAAAAAAAAAAAAAAAAAAAAAAAAAAAAAAAAAAAAAAAAAAAAAAAAAAAAAAAAAAAAAAAAAAAAAAAAAAAAAAAAAAAAAAAAAAAAAAAAAAAAAAAAAAAAAAAAAAAAAAAAAAAAAAAAAAAAAAAAAAAAAAAAAAAAAAAAAww34fAwtwEDDDfh8DC3AQMMN+HwMLcBAww34fAwtwEDDDfh8DC3AQMMN+HwMLcBAww34fAwtwEDDDfh8DC3AQMMN+HwMLcBA\",\"dtype\":\"float64\",\"order\":\"little\",\"shape\":[24]},\"Revenue_Share\":{\"__ndarray__\":\"AAAAAAAAAAAAAAAAAAAAAAAAAAAAAAAAAAAAAAAAAAAAAAAAAAAAAAAAAAAAAAAAAAAAAAAAAAAAAAAAAAAAACfG+RvgrgtBAAAAAAAAAAAAAAAAAAAAAAAAAAAAAAAAAAAAAAAAAAAAAAAAAAAAAAAAAAAAAAAAoL3BF7U+G0EAAAAAAAAAAAAAAAAAAAAAAAAAAAAAAAAAAAAAAAAAAAAAAAAAAAAAAAAAAAAAAAAAAAAAAAAAAAAAAAAAAAAA\",\"dtype\":\"float64\",\"order\":\"little\",\"shape\":[24]},\"Total_Revenue_hyphen_minus_Cash\":{\"__ndarray__\":\"AAAAAAAAAAAAAAAAAAAAAAAAAAAAAAAAAAAAAAAAAAAAAAAAAAAAAAAAAAAAAAAAAAAAAAAAAAAAAAAAAAAAAJQJvxST5RZBAAAAAAAAAAAAAAAAAAAAAAAAAAAAAAAAAAAAAAAAAAAAAAAAAAAAAAAAAAAAAAAADUBqAYHJJkHDDfh8DC3AQMMN+HwMLcBAww34fAwtwEDDDfh8DC3AQMMN+HwMLcBAww34fAwtwEDDDfh8DC3AQMMN+HwMLcBA\",\"dtype\":\"float64\",\"order\":\"little\",\"shape\":[24]},\"hectares_protected\":[0,0,0,0,0,0,0,0,7478,0,0,0,0,0,0,15371,0,0,0,0,0,0,0,0],\"hectares_protected_cumul\":[0,0,0,0,0,0,0,0,7478,7478,7478,7478,7478,7478,7478,22849,22849,22849,22849,22849,22849,22849,22849,22849]},\"selected\":{\"id\":\"1684\"},\"selection_policy\":{\"id\":\"1728\"}},\"id\":\"1683\",\"type\":\"ColumnDataSource\"},{\"attributes\":{\"editor\":{\"id\":\"1691\"},\"field\":\"hectares_protected\",\"formatter\":{\"id\":\"1690\"},\"title\":\"hectares_protected\"},\"id\":\"1692\",\"type\":\"TableColumn\"},{\"attributes\":{\"editor\":{\"id\":\"1696\"},\"field\":\"Revenue_Share\",\"formatter\":{\"id\":\"1695\"},\"title\":\"Revenue Share\"},\"id\":\"1697\",\"type\":\"TableColumn\"},{\"attributes\":{\"editor\":{\"id\":\"1686\"},\"field\":\"Date\",\"formatter\":{\"id\":\"1685\"},\"title\":\"Date\"},\"id\":\"1687\",\"type\":\"TableColumn\"},{\"attributes\":{},\"id\":\"1701\",\"type\":\"NumberEditor\"},{\"attributes\":{\"format\":\"%Y-%m-%d %H:%M:%S\"},\"id\":\"1685\",\"type\":\"DateFormatter\"},{\"attributes\":{\"format\":\"0,0.0[00000]\"},\"id\":\"1695\",\"type\":\"NumberFormatter\"},{\"attributes\":{},\"id\":\"1690\",\"type\":\"NumberFormatter\"},{\"attributes\":{\"columns\":[{\"id\":\"1687\"},{\"id\":\"1692\"},{\"id\":\"1697\"},{\"id\":\"1702\"},{\"id\":\"1707\"},{\"id\":\"1712\"},{\"id\":\"1717\"},{\"id\":\"1722\"}],\"height\":800,\"reorderable\":false,\"source\":{\"id\":\"1683\"},\"view\":{\"id\":\"1727\"},\"width\":800},\"id\":\"1725\",\"type\":\"DataTable\"},{\"attributes\":{\"format\":\"0,0.0[00000]\"},\"id\":\"1720\",\"type\":\"NumberFormatter\"},{\"attributes\":{},\"id\":\"1686\",\"type\":\"DateEditor\"},{\"attributes\":{},\"id\":\"1691\",\"type\":\"IntEditor\"},{\"attributes\":{\"children\":[{\"id\":\"1725\"}],\"height\":800,\"margin\":[0,0,0,0],\"min_height\":800,\"min_width\":800,\"name\":\"Row08110\",\"tags\":[\"embedded\"],\"width\":800},\"id\":\"1682\",\"type\":\"Row\"},{\"attributes\":{},\"id\":\"1716\",\"type\":\"NumberEditor\"}],\"root_ids\":[\"1682\"]},\"title\":\"Bokeh Application\",\"version\":\"2.4.3\"}};\n",
       "    var render_items = [{\"docid\":\"96be365a-c1e7-49ea-989f-b2c581b4ecbd\",\"root_ids\":[\"1682\"],\"roots\":{\"1682\":\"02036fda-b5a1-4f11-9914-549b8d636575\"}}];\n",
       "    root.Bokeh.embed.embed_items_notebook(docs_json, render_items);\n",
       "    for (const render_item of render_items) {\n",
       "      for (const root_id of render_item.root_ids) {\n",
       "\tconst id_el = document.getElementById(root_id)\n",
       "\tif (id_el.children.length && (id_el.children[0].className === 'bk-root')) {\n",
       "\t  const root_el = id_el.children[0]\n",
       "\t  root_el.id = root_el.id + '-rendered'\n",
       "\t}\n",
       "      }\n",
       "    }\n",
       "  }\n",
       "  if (root.Bokeh !== undefined && root.Bokeh.Panel !== undefined) {\n",
       "    embed_document(root);\n",
       "  } else {\n",
       "    var attempts = 0;\n",
       "    var timer = setInterval(function(root) {\n",
       "      if (root.Bokeh !== undefined && root.Bokeh.Panel !== undefined) {\n",
       "        clearInterval(timer);\n",
       "        embed_document(root);\n",
       "      } else if (document.readyState == \"complete\") {\n",
       "        attempts++;\n",
       "        if (attempts > 200) {\n",
       "          clearInterval(timer);\n",
       "          console.log(\"Bokeh: ERROR: Unable to run BokehJS code because BokehJS library is missing\");\n",
       "        }\n",
       "      }\n",
       "    }, 25, root)\n",
       "  }\n",
       "})(window);</script>"
      ],
      "text/plain": [
       ":Table   [Date,hectares_protected,Revenue Share,Minting Fee,On-going,hectares_protected_cumul,Total Revenue - Cash,Cumulative Revenue - Cash]"
      ]
     },
     "execution_count": 28,
     "metadata": {
      "application/vnd.holoviews_exec.v0+json": {
       "id": "1682"
      }
     },
     "output_type": "execute_result"
    }
   ],
   "source": [
    "w.view_cumulative_revenue_table()"
   ]
  }
 ],
 "metadata": {
  "kernelspec": {
   "display_name": "Python 3 (ipykernel)",
   "language": "python",
   "name": "python3"
  },
  "language_info": {
   "codemirror_mode": {
    "name": "ipython",
    "version": 3
   },
   "file_extension": ".py",
   "mimetype": "text/x-python",
   "name": "python",
   "nbconvert_exporter": "python",
   "pygments_lexer": "ipython3",
   "version": "3.10.6"
  }
 },
 "nbformat": 4,
 "nbformat_minor": 5
}
