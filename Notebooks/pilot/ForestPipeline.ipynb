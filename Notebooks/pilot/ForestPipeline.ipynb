{
 "cells": [
  {
   "cell_type": "code",
   "execution_count": 40,
   "id": "1ec1b0a6-f924-4176-b65c-c40825a06926",
   "metadata": {
    "tags": []
   },
   "outputs": [],
   "source": [
    "%run PilotForestAreas.ipynb\n",
    "%run CarbonRevenue.ipynb"
   ]
  },
  {
   "cell_type": "code",
   "execution_count": 41,
   "id": "f1826bfd-6a97-4819-baab-c681224ba1db",
   "metadata": {
    "tags": []
   },
   "outputs": [],
   "source": [
    "import param as pm\n",
    "import panel as pn\n",
    "import pandas as pd\n",
    "import hvplot.pandas\n",
    "pn.extension()"
   ]
  },
  {
   "cell_type": "code",
   "execution_count": 62,
   "id": "128f2d40-97bb-40e7-9b02-4bbaa9d7626a",
   "metadata": {
    "tags": []
   },
   "outputs": [],
   "source": [
    "class ForestProject(pm.Parameterized):\n",
    "    month = pm.Integer(-1, bounds=(-1,None), doc=\"\"\"\n",
    "        Represents the number of months in the future that this land is set to be acquired and centree initiated.\n",
    "        -1 means not scheduled. 0 means starting this month. Positive integer is number of months in future.\"\"\")\n",
    "    forest = pm.ClassSelector(class_=Forest)\n",
    "    carbon = pm.ClassSelector(class_=Carbon)\n",
    "    \n",
    "    def compute(self):\n",
    "        return self.carbon.compute(self.forest)\n",
    "    \n",
    "    def view_table(self):\n",
    "        return self.compute().reset_index().hvplot.table()"
   ]
  },
  {
   "cell_type": "code",
   "execution_count": 74,
   "id": "58eea9f1-c2a9-49f7-a3da-23db224ed621",
   "metadata": {
    "tags": []
   },
   "outputs": [],
   "source": [
    "class ForestPipeline(pm.Parameterized):\n",
    "    projects = pm.List()\n",
    "    \n",
    "        \n",
    "    def __init__(self, projects: list):\n",
    "        self.projects = [ForestProject(**data) for data in projects]\n",
    "        \n",
    "    def view_pipeline(self):\n",
    "        return pn.Tabs(*[(p.forest.forest_name, p.view_table()) for p in self.projects])\n",
    "    \n",
    "    def export_formatted(self):\n",
    "        df = pd.concat([p.forest.export() for p in self.projects]).T.applymap(Forest._format_numeric)\n",
    "        return df\n",
    "    \n",
    "    def view_export_formatted(self):\n",
    "        return self.export_formatted().reset_index().hvplot.table()"
   ]
  },
  {
   "cell_type": "code",
   "execution_count": 77,
   "id": "ae4b2917-275c-40db-bdca-3fb3ef5b77a2",
   "metadata": {
    "tags": []
   },
   "outputs": [],
   "source": [
    "carbon_model = Carbon(below_soil_tonnage_factor=0, carbon_price_appreciation=0.15)\n",
    "\n",
    "forest_project_data = [\n",
    "    {'month': 8, 'forest': f1, 'carbon': carbon_model},\n",
    "    {'month': 15, 'forest': f2, 'carbon': carbon_model},\n",
    "]"
   ]
  },
  {
   "cell_type": "code",
   "execution_count": 78,
   "id": "05b8cdee-bf15-42ff-b45d-371e5e8e8175",
   "metadata": {
    "tags": []
   },
   "outputs": [],
   "source": [
    "forest_pipeline = ForestPipeline(forest_project_data)"
   ]
  },
  {
   "cell_type": "code",
   "execution_count": 80,
   "id": "ccd90c14-5838-4e8b-8f63-5c33eb0c1944",
   "metadata": {
    "tags": []
   },
   "outputs": [
    {
     "data": {},
     "metadata": {},
     "output_type": "display_data"
    },
    {
     "data": {},
     "metadata": {},
     "output_type": "display_data"
    },
    {
     "data": {
      "application/vnd.holoviews_exec.v0+json": "",
      "text/html": [
       "<div id='1541'>\n",
       "  <div class=\"bk-root\" id=\"c4db1443-bc48-4cc0-a2ee-ebee13abe11f\" data-root-id=\"1541\"></div>\n",
       "</div>\n",
       "<script type=\"application/javascript\">(function(root) {\n",
       "  function embed_document(root) {\n",
       "    var docs_json = {\"1ea360bf-b91d-423f-b154-699621bf7cd6\":{\"defs\":[{\"extends\":null,\"module\":null,\"name\":\"ReactiveHTML1\",\"overrides\":[],\"properties\":[]},{\"extends\":null,\"module\":null,\"name\":\"FlexBox1\",\"overrides\":[],\"properties\":[{\"default\":\"flex-start\",\"kind\":null,\"name\":\"align_content\"},{\"default\":\"flex-start\",\"kind\":null,\"name\":\"align_items\"},{\"default\":\"row\",\"kind\":null,\"name\":\"flex_direction\"},{\"default\":\"wrap\",\"kind\":null,\"name\":\"flex_wrap\"},{\"default\":\"flex-start\",\"kind\":null,\"name\":\"justify_content\"}]},{\"extends\":null,\"module\":null,\"name\":\"GridStack1\",\"overrides\":[],\"properties\":[{\"default\":\"warn\",\"kind\":null,\"name\":\"mode\"},{\"default\":null,\"kind\":null,\"name\":\"ncols\"},{\"default\":null,\"kind\":null,\"name\":\"nrows\"},{\"default\":true,\"kind\":null,\"name\":\"allow_resize\"},{\"default\":true,\"kind\":null,\"name\":\"allow_drag\"},{\"default\":[],\"kind\":null,\"name\":\"state\"}]},{\"extends\":null,\"module\":null,\"name\":\"click1\",\"overrides\":[],\"properties\":[{\"default\":\"\",\"kind\":null,\"name\":\"terminal_output\"},{\"default\":\"\",\"kind\":null,\"name\":\"debug_name\"},{\"default\":0,\"kind\":null,\"name\":\"clears\"}]},{\"extends\":null,\"module\":null,\"name\":\"NotificationAreaBase1\",\"overrides\":[],\"properties\":[{\"default\":\"bottom-right\",\"kind\":null,\"name\":\"position\"},{\"default\":0,\"kind\":null,\"name\":\"_clear\"}]},{\"extends\":null,\"module\":null,\"name\":\"NotificationArea1\",\"overrides\":[],\"properties\":[{\"default\":[],\"kind\":null,\"name\":\"notifications\"},{\"default\":\"bottom-right\",\"kind\":null,\"name\":\"position\"},{\"default\":0,\"kind\":null,\"name\":\"_clear\"},{\"default\":[{\"background\":\"#ffc107\",\"icon\":{\"className\":\"fas fa-exclamation-triangle\",\"color\":\"white\",\"tagName\":\"i\"},\"type\":\"warning\"},{\"background\":\"#007bff\",\"icon\":{\"className\":\"fas fa-info-circle\",\"color\":\"white\",\"tagName\":\"i\"},\"type\":\"info\"}],\"kind\":null,\"name\":\"types\"}]},{\"extends\":null,\"module\":null,\"name\":\"Notification\",\"overrides\":[],\"properties\":[{\"default\":null,\"kind\":null,\"name\":\"background\"},{\"default\":3000,\"kind\":null,\"name\":\"duration\"},{\"default\":null,\"kind\":null,\"name\":\"icon\"},{\"default\":\"\",\"kind\":null,\"name\":\"message\"},{\"default\":null,\"kind\":null,\"name\":\"notification_type\"},{\"default\":false,\"kind\":null,\"name\":\"_destroyed\"}]},{\"extends\":null,\"module\":null,\"name\":\"TemplateActions1\",\"overrides\":[],\"properties\":[{\"default\":0,\"kind\":null,\"name\":\"open_modal\"},{\"default\":0,\"kind\":null,\"name\":\"close_modal\"}]},{\"extends\":null,\"module\":null,\"name\":\"MaterialTemplateActions1\",\"overrides\":[],\"properties\":[{\"default\":0,\"kind\":null,\"name\":\"open_modal\"},{\"default\":0,\"kind\":null,\"name\":\"close_modal\"}]}],\"roots\":{\"references\":[{\"attributes\":{},\"id\":\"1655\",\"type\":\"UnionRenderers\"},{\"attributes\":{\"format\":\"%Y-%m-%d %H:%M:%S\"},\"id\":\"1602\",\"type\":\"DateFormatter\"},{\"attributes\":{},\"id\":\"1601\",\"type\":\"Selection\"},{\"attributes\":{},\"id\":\"1608\",\"type\":\"NumberEditor\"},{\"attributes\":{\"format\":\"0,0.0[00000]\"},\"id\":\"1607\",\"type\":\"NumberFormatter\"},{\"attributes\":{},\"id\":\"1613\",\"type\":\"NumberEditor\"},{\"attributes\":{},\"id\":\"1603\",\"type\":\"DateEditor\"},{\"attributes\":{},\"id\":\"1597\",\"type\":\"UnionRenderers\"},{\"attributes\":{\"columns\":[{\"id\":\"1604\"},{\"id\":\"1609\"},{\"id\":\"1614\"},{\"id\":\"1619\"},{\"id\":\"1624\"},{\"id\":\"1629\"},{\"id\":\"1634\"},{\"id\":\"1639\"},{\"id\":\"1644\"},{\"id\":\"1649\"}],\"height\":300,\"name\":\"KNF2\",\"reorderable\":false,\"source\":{\"id\":\"1600\"},\"view\":{\"id\":\"1654\"},\"width\":700},\"id\":\"1652\",\"type\":\"DataTable\"},{\"attributes\":{\"editor\":{\"id\":\"1608\"},\"field\":\"Carbon_Price\",\"formatter\":{\"id\":\"1607\"},\"title\":\"Carbon Price\"},\"id\":\"1609\",\"type\":\"TableColumn\"},{\"attributes\":{\"editor\":{\"id\":\"1603\"},\"field\":\"Date\",\"formatter\":{\"id\":\"1602\"},\"title\":\"Date\"},\"id\":\"1604\",\"type\":\"TableColumn\"},{\"attributes\":{\"editor\":{\"id\":\"1613\"},\"field\":\"Gross_Revenue\",\"formatter\":{\"id\":\"1612\"},\"title\":\"Gross Revenue\"},\"id\":\"1614\",\"type\":\"TableColumn\"},{\"attributes\":{},\"id\":\"1618\",\"type\":\"NumberEditor\"},{\"attributes\":{\"format\":\"0,0.0[00000]\"},\"id\":\"1612\",\"type\":\"NumberFormatter\"},{\"attributes\":{\"editor\":{\"id\":\"1618\"},\"field\":\"Net_Revenue\",\"formatter\":{\"id\":\"1617\"},\"title\":\"Net Revenue\"},\"id\":\"1619\",\"type\":\"TableColumn\"},{\"attributes\":{\"margin\":[0,0,0,0],\"tabs\":[{\"id\":\"1599\"},{\"id\":\"1657\"}]},\"id\":\"1541\",\"type\":\"panel.models.tabs.Tabs\"},{\"attributes\":{},\"id\":\"1623\",\"type\":\"NumberEditor\"},{\"attributes\":{\"format\":\"0,0.0[00000]\"},\"id\":\"1617\",\"type\":\"NumberFormatter\"},{\"attributes\":{\"editor\":{\"id\":\"1623\"},\"field\":\"Stewardship_Budget\",\"formatter\":{\"id\":\"1622\"},\"title\":\"Stewardship Budget\"},\"id\":\"1624\",\"type\":\"TableColumn\"},{\"attributes\":{\"format\":\"%Y-%m-%d %H:%M:%S\"},\"id\":\"1544\",\"type\":\"DateFormatter\"},{\"attributes\":{},\"id\":\"1628\",\"type\":\"NumberEditor\"},{\"attributes\":{\"client_comm_id\":\"63f51183955a47dea4a1c06e3c7b0a61\",\"comm_id\":\"c8e09ce3992b4b608b05cb8400aaef80\",\"plot_id\":\"1541\"},\"id\":\"1670\",\"type\":\"panel.models.comm_manager.CommManager\"},{\"attributes\":{\"format\":\"0,0.0[00000]\"},\"id\":\"1622\",\"type\":\"NumberFormatter\"},{\"attributes\":{\"editor\":{\"id\":\"1628\"},\"field\":\"Gross_Profit\",\"formatter\":{\"id\":\"1627\"},\"title\":\"Gross Profit\"},\"id\":\"1629\",\"type\":\"TableColumn\"},{\"attributes\":{},\"id\":\"1633\",\"type\":\"NumberEditor\"},{\"attributes\":{\"format\":\"0,0.0[00000]\"},\"id\":\"1627\",\"type\":\"NumberFormatter\"},{\"attributes\":{\"editor\":{\"id\":\"1633\"},\"field\":\"Centree_left_parenthesis_Admin_over_Commission_right_parenthesis\",\"formatter\":{\"id\":\"1632\"},\"title\":\"Centree (Admin/Commission)\"},\"id\":\"1634\",\"type\":\"TableColumn\"},{\"attributes\":{},\"id\":\"1543\",\"type\":\"Selection\"},{\"attributes\":{},\"id\":\"1550\",\"type\":\"NumberEditor\"},{\"attributes\":{},\"id\":\"1638\",\"type\":\"NumberEditor\"},{\"attributes\":{\"data\":{\"Carbon_Price\":{\"__ndarray__\":\"AAAAAAAAPUDMzMzMzKxAQITrUbgeLUNAcmiR7XwNRkCCns2qT1xJQK/c0mooKk1ASqWfcArFUECvl7c0/0hTQNVUBuOLLVZAKHt6qy2BWUA=\",\"dtype\":\"float64\",\"order\":\"little\",\"shape\":[10]},\"Centree_left_parenthesis_Admin_over_Commission_right_parenthesis\":{\"__ndarray__\":\"mW4SgxhD8kDSb18H+i72QHCPpc8iyPpAqjEhQiIVAEFXPZZ3rDoDQeavcm0k5wZB5ZopFNYvC0GGedG5qRYQQRLY3PP5/RJBp6fqRzNeFkE=\",\"dtype\":\"float64\",\"order\":\"little\",\"shape\":[10]},\"Date\":{\"__ndarray__\":\"WsBQRgbMeEJawNC+00F5QlrAkNFOt3lCWsBQ5MksekJawBD3RKJ6QlrAkG8SGHtCWsBQgo2Ne0JawBCVCAN8QlrA0KeDeHxCWsBQIFHufEI=\",\"dtype\":\"float64\",\"order\":\"little\",\"shape\":[10]},\"Gross_Profit\":{\"__ndarray__\":\"VLgehdNvHkEv3SQGe3wiQTOitFdyUSZBG6iMw+PNKkHJ3adjOgYwQUA9irDzFTNBalbNEN2nNkE1dbI1cNA6QXS9GkFLpz9BC+GYZtWjQkE=\",\"dtype\":\"float64\",\"order\":\"little\",\"shape\":[10]},\"Gross_Revenue\":{\"__ndarray__\":\"mpmZGXO4MUE9CtfD6mA0QcZLN2F0bzdB8WPMb1/zOkGHDCtaR/4+Qc3A2NM10kFBhaqfs4p+REHm0CrohZFHQTpwZDGNGktBQrRmklUrT0E=\",\"dtype\":\"float64\",\"order\":\"little\",\"shape\":[10]},\"Land_Title_Holders_Commission\":{\"__ndarray__\":\"rhxaZA3fCUFp3nGKN20PQUXwv/1t+BJBsFsEM5vIFkE8LGqpyT0bQUPn2yIPOSBBDSNITuJBI0HTFj7HxcomQW+HI8TM5ypBLBg3+x2wL0E=\",\"dtype\":\"float64\",\"order\":\"little\",\"shape\":[10]},\"Net_Revenue\":{\"__ndarray__\":\"KlyPwlFaLEExCKyciE0wQTjWxU2QvzJBKIOjjH+PNUFscCJIbMs4Qa9n9FKJgzxBBCLmwjtlQEEfp4iG0dpCQS/AtlrXrkVBzylSqHfvSEE=\",\"dtype\":\"float64\",\"order\":\"little\",\"shape\":[10]},\"PFA_Commission\":{\"__ndarray__\":\"rhxaZA3fCUFp3nGKN20PQUXwv/1t+BJBsFsEM5vIFkE8LGqpyT0bQUPn2yIPOSBBDSNITuJBI0HTFj7HxcomQW+HI8TM5ypBLBg3+x2wL0E=\",\"dtype\":\"float64\",\"order\":\"little\",\"shape\":[10]},\"PFA_Holder_Return_as_Percentage_of_Initial_Cost\":{\"__ndarray__\":\"51IjVPKtoT9YNTUBzXmlP1U9tsFn7ak/2XbBD5Ijrz+x3GNHoJ2yP5bt0ksXLLY/Mi7aFsxRuj/D+MkEiCa/P4tP9nzdYsI/OaMUk4SnxT8=\",\"dtype\":\"float64\",\"order\":\"little\",\"shape\":[10]},\"Stewardship_Budget\":{\"__ndarray__\":\"AAAAANBEGkFmZmZmLD0cQXoUrodcWx5BNV66VRtRIEFGJfXIY4ohQd1U1EQr2yJBO9v96TRFJEESsr2uZcolQdOFpejGbCdBDyPlBokuKUE=\",\"dtype\":\"float64\",\"order\":\"little\",\"shape\":[10]}},\"selected\":{\"id\":\"1601\"},\"selection_policy\":{\"id\":\"1655\"}},\"id\":\"1600\",\"type\":\"ColumnDataSource\"},{\"attributes\":{\"format\":\"0,0.0[00000]\"},\"id\":\"1549\",\"type\":\"NumberFormatter\"},{\"attributes\":{\"format\":\"0,0.0[00000]\"},\"id\":\"1632\",\"type\":\"NumberFormatter\"},{\"attributes\":{},\"id\":\"1555\",\"type\":\"NumberEditor\"},{\"attributes\":{\"editor\":{\"id\":\"1638\"},\"field\":\"PFA_Commission\",\"formatter\":{\"id\":\"1637\"},\"title\":\"PFA Commission\"},\"id\":\"1639\",\"type\":\"TableColumn\"},{\"attributes\":{\"child\":{\"id\":\"1594\"},\"name\":\"KNF1\",\"title\":\"KNF1\"},\"id\":\"1599\",\"type\":\"Panel\"},{\"attributes\":{},\"id\":\"1643\",\"type\":\"NumberEditor\"},{\"attributes\":{},\"id\":\"1545\",\"type\":\"DateEditor\"},{\"attributes\":{\"format\":\"0,0.0[00000]\"},\"id\":\"1637\",\"type\":\"NumberFormatter\"},{\"attributes\":{\"columns\":[{\"id\":\"1546\"},{\"id\":\"1551\"},{\"id\":\"1556\"},{\"id\":\"1561\"},{\"id\":\"1566\"},{\"id\":\"1571\"},{\"id\":\"1576\"},{\"id\":\"1581\"},{\"id\":\"1586\"},{\"id\":\"1591\"}],\"height\":300,\"name\":\"KNF1\",\"reorderable\":false,\"source\":{\"id\":\"1542\"},\"view\":{\"id\":\"1596\"},\"width\":700},\"id\":\"1594\",\"type\":\"DataTable\"},{\"attributes\":{\"editor\":{\"id\":\"1643\"},\"field\":\"Land_Title_Holders_Commission\",\"formatter\":{\"id\":\"1642\"},\"title\":\"Land Title Holders Commission\"},\"id\":\"1644\",\"type\":\"TableColumn\"},{\"attributes\":{},\"id\":\"1648\",\"type\":\"NumberEditor\"},{\"attributes\":{\"editor\":{\"id\":\"1550\"},\"field\":\"Carbon_Price\",\"formatter\":{\"id\":\"1549\"},\"title\":\"Carbon Price\"},\"id\":\"1551\",\"type\":\"TableColumn\"},{\"attributes\":{\"format\":\"0,0.0[00000]\"},\"id\":\"1642\",\"type\":\"NumberFormatter\"},{\"attributes\":{\"editor\":{\"id\":\"1545\"},\"field\":\"Date\",\"formatter\":{\"id\":\"1544\"},\"title\":\"Date\"},\"id\":\"1546\",\"type\":\"TableColumn\"},{\"attributes\":{\"editor\":{\"id\":\"1648\"},\"field\":\"PFA_Holder_Return_as_Percentage_of_Initial_Cost\",\"formatter\":{\"id\":\"1647\"},\"title\":\"PFA Holder Return as Percentage of Initial Cost\"},\"id\":\"1649\",\"type\":\"TableColumn\"},{\"attributes\":{\"editor\":{\"id\":\"1555\"},\"field\":\"Gross_Revenue\",\"formatter\":{\"id\":\"1554\"},\"title\":\"Gross Revenue\"},\"id\":\"1556\",\"type\":\"TableColumn\"},{\"attributes\":{},\"id\":\"1560\",\"type\":\"NumberEditor\"},{\"attributes\":{\"format\":\"0,0.0[00000]\"},\"id\":\"1647\",\"type\":\"NumberFormatter\"},{\"attributes\":{\"format\":\"0,0.0[00000]\"},\"id\":\"1554\",\"type\":\"NumberFormatter\"},{\"attributes\":{\"editor\":{\"id\":\"1560\"},\"field\":\"Net_Revenue\",\"formatter\":{\"id\":\"1559\"},\"title\":\"Net Revenue\"},\"id\":\"1561\",\"type\":\"TableColumn\"},{\"attributes\":{},\"id\":\"1565\",\"type\":\"NumberEditor\"},{\"attributes\":{\"source\":{\"id\":\"1600\"}},\"id\":\"1654\",\"type\":\"CDSView\"},{\"attributes\":{\"format\":\"0,0.0[00000]\"},\"id\":\"1559\",\"type\":\"NumberFormatter\"},{\"attributes\":{\"editor\":{\"id\":\"1565\"},\"field\":\"Stewardship_Budget\",\"formatter\":{\"id\":\"1564\"},\"title\":\"Stewardship Budget\"},\"id\":\"1566\",\"type\":\"TableColumn\"},{\"attributes\":{},\"id\":\"1570\",\"type\":\"NumberEditor\"},{\"attributes\":{\"format\":\"0,0.0[00000]\"},\"id\":\"1564\",\"type\":\"NumberFormatter\"},{\"attributes\":{\"child\":{\"id\":\"1652\"},\"name\":\"KNF2\",\"title\":\"KNF2\"},\"id\":\"1657\",\"type\":\"Panel\"},{\"attributes\":{\"editor\":{\"id\":\"1570\"},\"field\":\"Gross_Profit\",\"formatter\":{\"id\":\"1569\"},\"title\":\"Gross Profit\"},\"id\":\"1571\",\"type\":\"TableColumn\"},{\"attributes\":{},\"id\":\"1575\",\"type\":\"NumberEditor\"},{\"attributes\":{\"format\":\"0,0.0[00000]\"},\"id\":\"1569\",\"type\":\"NumberFormatter\"},{\"attributes\":{\"editor\":{\"id\":\"1575\"},\"field\":\"Centree_left_parenthesis_Admin_over_Commission_right_parenthesis\",\"formatter\":{\"id\":\"1574\"},\"title\":\"Centree (Admin/Commission)\"},\"id\":\"1576\",\"type\":\"TableColumn\"},{\"attributes\":{},\"id\":\"1580\",\"type\":\"NumberEditor\"},{\"attributes\":{\"data\":{\"Carbon_Price\":{\"__ndarray__\":\"AAAAAAAAPUDMzMzMzKxAQITrUbgeLUNAcmiR7XwNRkCCns2qT1xJQK/c0mooKk1ASqWfcArFUECvl7c0/0hTQNVUBuOLLVZAKHt6qy2BWUA=\",\"dtype\":\"float64\",\"order\":\"little\",\"shape\":[10]},\"Centree_left_parenthesis_Admin_over_Commission_right_parenthesis\":{\"__ndarray__\":\"grdAgnLS5UB3EDtT3D7qQEM2kC44a+9Ayq/VZPy68kA6ttDtIEH2QNK7M1NPXPpA5AGbB+oj/0D5qvOadFkCQZB3d/IylAVBEgVKCx1UCUE=\",\"dtype\":\"float64\",\"order\":\"little\",\"shape\":[10]},\"Date\":{\"__ndarray__\":\"VgJQRgbMeEJWAtC+00F5QlYCkNFOt3lCVgJQ5MksekJWAhD3RKJ6QlYCkG8SGHtCVgJQgo2Ne0JWAhCVCAN8QlYC0KeDeHxCVgJQIFHufEI=\",\"dtype\":\"float64\",\"order\":\"little\",\"shape\":[10]},\"Gross_Profit\":{\"__ndarray__\":\"l0OLbF8vEkG5jQbwDN8VQTgteNGuLhpBp88OqKQ3H0Hbl9hwm4siQdpxAHCX9yVBlIFWBkPzKUFKcuusF5UuQfg4Dsp/+zFBj1loiW0bNUE=\",\"dtype\":\"float64\",\"order\":\"little\",\"shape\":[10]},\"Gross_Revenue\":{\"__ndarray__\":\"PgrXo19aI0GTGASWh0EmQamCUbkomClBdonqoftuLUEJDxp9newwQUuRd+mBdjNBSBrjMuJhNkEGK4W6Xb05Qd9XTGPFmT1BVH/l5TcFQUE=\",\"dtype\":\"float64\",\"order\":\"little\",\"shape\":[10]},\"Land_Title_Holders_Commission\":{\"__ndarray__\":\"TVmGOCLq/kCqK59lMZcCQW8mpstHQQZBtGPZjuWICkEnAj2m7oYPQWD6mYUNrBJBVyFjxcUOFkGMhy6Guv4ZQQyUftfykR5B7Rj/5+nwIUE=\",\"dtype\":\"float64\",\"order\":\"little\",\"shape\":[10]},\"Net_Revenue\":{\"__ndarray__\":\"l0OLbP/2HkF24JwRBs4hQe7O2i26eSRB+G2IgfyLJ0EPGJAuLxQrQUW1JQ8DJC9BoK61KOjnMUE479Aufpc0QYB5o4I3rjdBussIo4w7O0E=\",\"dtype\":\"float64\",\"order\":\"little\",\"shape\":[10]},\"PFA_Commission\":{\"__ndarray__\":\"TVmGOCLq/kCqK59lMZcCQW8mpstHQQZBtGPZjuWICkEnAj2m7oYPQWD6mYUNrBJBVyFjxcUOFkGMhy6Guv4ZQQyUftfykR5B7Rj/5+nwIUE=\",\"dtype\":\"float64\",\"order\":\"little\",\"shape\":[10]},\"PFA_Holder_Return_as_Percentage_of_Initial_Cost\":{\"__ndarray__\":\"Vr9g1J/KpD/ZPfgQjwGpP8Hk7MVf760/JbNXRorYsT/z5j8kFDS1P14VagieHbk/DlHerm+rvT8iwXWanXvBP7vIV9VQj8Q/CkQt0eUhyD8=\",\"dtype\":\"float64\",\"order\":\"little\",\"shape\":[10]},\"Stewardship_Budget\":{\"__ndarray__\":\"AAAAAECPCUFmZmZm/nkLQUfhehSLiQ1BkhgEtqjAD0FoAG97JxERQdaGSj7XWBJBWbcplhq5E0FM2GxhyTMVQR8CVeLeyhZBrciBZnyAGEE=\",\"dtype\":\"float64\",\"order\":\"little\",\"shape\":[10]}},\"selected\":{\"id\":\"1543\"},\"selection_policy\":{\"id\":\"1597\"}},\"id\":\"1542\",\"type\":\"ColumnDataSource\"},{\"attributes\":{\"format\":\"0,0.0[00000]\"},\"id\":\"1574\",\"type\":\"NumberFormatter\"},{\"attributes\":{\"editor\":{\"id\":\"1580\"},\"field\":\"PFA_Commission\",\"formatter\":{\"id\":\"1579\"},\"title\":\"PFA Commission\"},\"id\":\"1581\",\"type\":\"TableColumn\"},{\"attributes\":{},\"id\":\"1585\",\"type\":\"NumberEditor\"},{\"attributes\":{\"format\":\"0,0.0[00000]\"},\"id\":\"1579\",\"type\":\"NumberFormatter\"},{\"attributes\":{\"editor\":{\"id\":\"1585\"},\"field\":\"Land_Title_Holders_Commission\",\"formatter\":{\"id\":\"1584\"},\"title\":\"Land Title Holders Commission\"},\"id\":\"1586\",\"type\":\"TableColumn\"},{\"attributes\":{},\"id\":\"1590\",\"type\":\"NumberEditor\"},{\"attributes\":{\"format\":\"0,0.0[00000]\"},\"id\":\"1584\",\"type\":\"NumberFormatter\"},{\"attributes\":{\"editor\":{\"id\":\"1590\"},\"field\":\"PFA_Holder_Return_as_Percentage_of_Initial_Cost\",\"formatter\":{\"id\":\"1589\"},\"title\":\"PFA Holder Return as Percentage of Initial Cost\"},\"id\":\"1591\",\"type\":\"TableColumn\"},{\"attributes\":{\"format\":\"0,0.0[00000]\"},\"id\":\"1589\",\"type\":\"NumberFormatter\"},{\"attributes\":{\"source\":{\"id\":\"1542\"}},\"id\":\"1596\",\"type\":\"CDSView\"}],\"root_ids\":[\"1541\",\"1670\"]},\"title\":\"Bokeh Application\",\"version\":\"2.4.3\"}};\n",
       "    var render_items = [{\"docid\":\"1ea360bf-b91d-423f-b154-699621bf7cd6\",\"root_ids\":[\"1541\"],\"roots\":{\"1541\":\"c4db1443-bc48-4cc0-a2ee-ebee13abe11f\"}}];\n",
       "    root.Bokeh.embed.embed_items_notebook(docs_json, render_items);\n",
       "    for (const render_item of render_items) {\n",
       "      for (const root_id of render_item.root_ids) {\n",
       "\tconst id_el = document.getElementById(root_id)\n",
       "\tif (id_el.children.length && (id_el.children[0].className === 'bk-root')) {\n",
       "\t  const root_el = id_el.children[0]\n",
       "\t  root_el.id = root_el.id + '-rendered'\n",
       "\t}\n",
       "      }\n",
       "    }\n",
       "  }\n",
       "  if (root.Bokeh !== undefined && root.Bokeh.Panel !== undefined) {\n",
       "    embed_document(root);\n",
       "  } else {\n",
       "    var attempts = 0;\n",
       "    var timer = setInterval(function(root) {\n",
       "      if (root.Bokeh !== undefined && root.Bokeh.Panel !== undefined) {\n",
       "        clearInterval(timer);\n",
       "        embed_document(root);\n",
       "      } else if (document.readyState == \"complete\") {\n",
       "        attempts++;\n",
       "        if (attempts > 200) {\n",
       "          clearInterval(timer);\n",
       "          console.log(\"Bokeh: ERROR: Unable to run BokehJS code because BokehJS library is missing\");\n",
       "        }\n",
       "      }\n",
       "    }, 25, root)\n",
       "  }\n",
       "})(window);</script>"
      ],
      "text/plain": [
       "Tabs\n",
       "    [0] HoloViews(Table, height=300, name='KNF1', width=700)\n",
       "    [1] HoloViews(Table, height=300, name='KNF2', width=700)"
      ]
     },
     "execution_count": 80,
     "metadata": {
      "application/vnd.holoviews_exec.v0+json": {
       "id": "1541"
      }
     },
     "output_type": "execute_result"
    }
   ],
   "source": [
    "forest_pipeline.view_pipeline()"
   ]
  },
  {
   "cell_type": "code",
   "execution_count": 100,
   "id": "070463ac-b735-4bba-be89-b0af147a6cf3",
   "metadata": {
    "tags": []
   },
   "outputs": [
    {
     "data": {
      "application/vnd.holoviews_exec.v0+json": "",
      "text/html": [
       "<div id='1769'>\n",
       "  <div class=\"bk-root\" id=\"96fa4204-2428-4ec2-893c-0c3b9268abc9\" data-root-id=\"1769\"></div>\n",
       "</div>\n",
       "<script type=\"application/javascript\">(function(root) {\n",
       "  function embed_document(root) {\n",
       "    var docs_json = {\"4e225c83-4190-4735-8f98-4f330477b49a\":{\"defs\":[{\"extends\":null,\"module\":null,\"name\":\"ReactiveHTML1\",\"overrides\":[],\"properties\":[]},{\"extends\":null,\"module\":null,\"name\":\"FlexBox1\",\"overrides\":[],\"properties\":[{\"default\":\"flex-start\",\"kind\":null,\"name\":\"align_content\"},{\"default\":\"flex-start\",\"kind\":null,\"name\":\"align_items\"},{\"default\":\"row\",\"kind\":null,\"name\":\"flex_direction\"},{\"default\":\"wrap\",\"kind\":null,\"name\":\"flex_wrap\"},{\"default\":\"flex-start\",\"kind\":null,\"name\":\"justify_content\"}]},{\"extends\":null,\"module\":null,\"name\":\"GridStack1\",\"overrides\":[],\"properties\":[{\"default\":\"warn\",\"kind\":null,\"name\":\"mode\"},{\"default\":null,\"kind\":null,\"name\":\"ncols\"},{\"default\":null,\"kind\":null,\"name\":\"nrows\"},{\"default\":true,\"kind\":null,\"name\":\"allow_resize\"},{\"default\":true,\"kind\":null,\"name\":\"allow_drag\"},{\"default\":[],\"kind\":null,\"name\":\"state\"}]},{\"extends\":null,\"module\":null,\"name\":\"click1\",\"overrides\":[],\"properties\":[{\"default\":\"\",\"kind\":null,\"name\":\"terminal_output\"},{\"default\":\"\",\"kind\":null,\"name\":\"debug_name\"},{\"default\":0,\"kind\":null,\"name\":\"clears\"}]},{\"extends\":null,\"module\":null,\"name\":\"NotificationAreaBase1\",\"overrides\":[],\"properties\":[{\"default\":\"bottom-right\",\"kind\":null,\"name\":\"position\"},{\"default\":0,\"kind\":null,\"name\":\"_clear\"}]},{\"extends\":null,\"module\":null,\"name\":\"NotificationArea1\",\"overrides\":[],\"properties\":[{\"default\":[],\"kind\":null,\"name\":\"notifications\"},{\"default\":\"bottom-right\",\"kind\":null,\"name\":\"position\"},{\"default\":0,\"kind\":null,\"name\":\"_clear\"},{\"default\":[{\"background\":\"#ffc107\",\"icon\":{\"className\":\"fas fa-exclamation-triangle\",\"color\":\"white\",\"tagName\":\"i\"},\"type\":\"warning\"},{\"background\":\"#007bff\",\"icon\":{\"className\":\"fas fa-info-circle\",\"color\":\"white\",\"tagName\":\"i\"},\"type\":\"info\"}],\"kind\":null,\"name\":\"types\"}]},{\"extends\":null,\"module\":null,\"name\":\"Notification\",\"overrides\":[],\"properties\":[{\"default\":null,\"kind\":null,\"name\":\"background\"},{\"default\":3000,\"kind\":null,\"name\":\"duration\"},{\"default\":null,\"kind\":null,\"name\":\"icon\"},{\"default\":\"\",\"kind\":null,\"name\":\"message\"},{\"default\":null,\"kind\":null,\"name\":\"notification_type\"},{\"default\":false,\"kind\":null,\"name\":\"_destroyed\"}]},{\"extends\":null,\"module\":null,\"name\":\"TemplateActions1\",\"overrides\":[],\"properties\":[{\"default\":0,\"kind\":null,\"name\":\"open_modal\"},{\"default\":0,\"kind\":null,\"name\":\"close_modal\"}]},{\"extends\":null,\"module\":null,\"name\":\"MaterialTemplateActions1\",\"overrides\":[],\"properties\":[{\"default\":0,\"kind\":null,\"name\":\"open_modal\"},{\"default\":0,\"kind\":null,\"name\":\"close_modal\"}]}],\"roots\":{\"references\":[{\"attributes\":{},\"id\":\"1787\",\"type\":\"StringFormatter\"},{\"attributes\":{\"source\":{\"id\":\"1770\"}},\"id\":\"1794\",\"type\":\"CDSView\"},{\"attributes\":{\"editor\":{\"id\":\"1778\"},\"field\":\"Type\",\"formatter\":{\"id\":\"1777\"},\"title\":\"Type\"},\"id\":\"1779\",\"type\":\"TableColumn\"},{\"attributes\":{},\"id\":\"1783\",\"type\":\"StringEditor\"},{\"attributes\":{\"children\":[{\"id\":\"1792\"}],\"height\":300,\"margin\":[0,0,0,0],\"min_height\":300,\"min_width\":700,\"name\":\"Row05436\",\"tags\":[\"embedded\"],\"width\":700},\"id\":\"1769\",\"type\":\"Row\"},{\"attributes\":{\"editor\":{\"id\":\"1783\"},\"field\":\"left_parenthesis_apostrophe_KNF1_apostrophe_comma_right_parenthesis\",\"formatter\":{\"id\":\"1782\"},\"title\":\"('KNF1',)\"},\"id\":\"1784\",\"type\":\"TableColumn\"},{\"attributes\":{},\"id\":\"1788\",\"type\":\"StringEditor\"},{\"attributes\":{\"editor\":{\"id\":\"1788\"},\"field\":\"left_parenthesis_apostrophe_KNF2_apostrophe_comma_right_parenthesis\",\"formatter\":{\"id\":\"1787\"},\"title\":\"('KNF2',)\"},\"id\":\"1789\",\"type\":\"TableColumn\"},{\"attributes\":{\"editor\":{\"id\":\"1773\"},\"field\":\"Field\",\"formatter\":{\"id\":\"1772\"},\"title\":\"Field\"},\"id\":\"1774\",\"type\":\"TableColumn\"},{\"attributes\":{},\"id\":\"1795\",\"type\":\"UnionRenderers\"},{\"attributes\":{},\"id\":\"1771\",\"type\":\"Selection\"},{\"attributes\":{\"data\":{\"Field\":[\"centree_commission_rate\",\"centree_minting_fee\",\"due_diligence_data_audit_dollar_per_hectare\",\"extractive_tenure_purchase\",\"forested_area_hectares\",\"insurance_pool_rate\",\"legal_fees_convert_tenure_to_living_tenure\",\"name\",\"sale_value_factor\",\"stewardship_rate_per_hectare\",\"tons_carbon_per_year\",\"total_centree_count\",\"acres_protected\",\"due_dilligence_cost\",\"subtotal\",\"insurance_pool\",\"total_protection_cost\",\"centree_count_per_hectare\",\"protection_cost_per_hectare\",\"centree_mint_fee_per_hectare\",\"total_minting_charge\",\"total_cost_per_hectare\",\"total_cost_per_centree\",\"total_production_cost_including_minting\",\"sale_value\",\"cost_per_hectare\",\"cost_per_acre\",\"centree_price\",\"gross_return\",\"centree_commission\",\"landowner_share\",\"centree_commission_per_hectare\",\"centree_commission_of_sale\",\"landowner_share_of_sale\",\"total_centree_revenue\",\"total_centree_revenue_per_asset_value\"],\"Type\":[\"param\",\"param\",\"param\",\"param\",\"param\",\"param\",\"param\",\"param\",\"param\",\"param\",\"param\",\"param\",\"method\",\"method\",\"method\",\"method\",\"method\",\"method\",\"method\",\"method\",\"method\",\"method\",\"method\",\"method\",\"method\",\"method\",\"method\",\"method\",\"method\",\"method\",\"method\",\"method\",\"method\",\"method\",\"method\",\"method\"],\"left_parenthesis_apostrophe_KNF1_apostrophe_comma_right_parenthesis\":[\"0.4\",\"0.07\",\"8.0\",\"1,884,615.38\",\"7,478.0\",\"0.1\",\"175,000.0\",\"Forest03570\",\"0.2\",\"28.0\",\"21,867.58\",\"101,675.0\",\"18,470.66\",\"59,824.0\",\"2,119,439.38\",\"211,943.94\",\"2,331,383.32\",\"13.6\",\"311.77\",\"21.82\",\"163,196.83\",\"333.59\",\"24.53\",\"2,494,580.15\",\"3,118,225.19\",\"416.99\",\"154.44\",\"30.67\",\"623,645.04\",\"249,458.02\",\"374,187.02\",\"33.36\",\"0.08\",\"0.12\",\"412,654.85\",\"0.13\"],\"left_parenthesis_apostrophe_KNF2_apostrophe_comma_right_parenthesis\":[\"0.4\",\"0.07\",\"8.0\",\"3,873,819.6\",\"15,371.0\",\"0.1\",\"175,000.0\",\"Forest03653\",\"0.2\",\"28.0\",\"40,045.9\",\"785,944.0\",\"37,966.37\",\"122,968.0\",\"4,171,787.6\",\"417,178.76\",\"4,588,966.36\",\"51.13\",\"298.55\",\"20.9\",\"321,227.65\",\"319.45\",\"6.25\",\"4,910,194.01\",\"6,137,742.51\",\"399.31\",\"147.89\",\"7.81\",\"1,227,548.5\",\"491,019.4\",\"736,529.1\",\"31.94\",\"0.08\",\"0.12\",\"812,247.05\",\"0.13\"]},\"selected\":{\"id\":\"1771\"},\"selection_policy\":{\"id\":\"1795\"}},\"id\":\"1770\",\"type\":\"ColumnDataSource\"},{\"attributes\":{},\"id\":\"1773\",\"type\":\"StringEditor\"},{\"attributes\":{},\"id\":\"1782\",\"type\":\"StringFormatter\"},{\"attributes\":{},\"id\":\"1778\",\"type\":\"StringEditor\"},{\"attributes\":{},\"id\":\"1772\",\"type\":\"StringFormatter\"},{\"attributes\":{\"columns\":[{\"id\":\"1774\"},{\"id\":\"1779\"},{\"id\":\"1784\"},{\"id\":\"1789\"}],\"height\":300,\"reorderable\":false,\"source\":{\"id\":\"1770\"},\"view\":{\"id\":\"1794\"},\"width\":700},\"id\":\"1792\",\"type\":\"DataTable\"},{\"attributes\":{},\"id\":\"1777\",\"type\":\"StringFormatter\"}],\"root_ids\":[\"1769\"]},\"title\":\"Bokeh Application\",\"version\":\"2.4.3\"}};\n",
       "    var render_items = [{\"docid\":\"4e225c83-4190-4735-8f98-4f330477b49a\",\"root_ids\":[\"1769\"],\"roots\":{\"1769\":\"96fa4204-2428-4ec2-893c-0c3b9268abc9\"}}];\n",
       "    root.Bokeh.embed.embed_items_notebook(docs_json, render_items);\n",
       "    for (const render_item of render_items) {\n",
       "      for (const root_id of render_item.root_ids) {\n",
       "\tconst id_el = document.getElementById(root_id)\n",
       "\tif (id_el.children.length && (id_el.children[0].className === 'bk-root')) {\n",
       "\t  const root_el = id_el.children[0]\n",
       "\t  root_el.id = root_el.id + '-rendered'\n",
       "\t}\n",
       "      }\n",
       "    }\n",
       "  }\n",
       "  if (root.Bokeh !== undefined && root.Bokeh.Panel !== undefined) {\n",
       "    embed_document(root);\n",
       "  } else {\n",
       "    var attempts = 0;\n",
       "    var timer = setInterval(function(root) {\n",
       "      if (root.Bokeh !== undefined && root.Bokeh.Panel !== undefined) {\n",
       "        clearInterval(timer);\n",
       "        embed_document(root);\n",
       "      } else if (document.readyState == \"complete\") {\n",
       "        attempts++;\n",
       "        if (attempts > 200) {\n",
       "          clearInterval(timer);\n",
       "          console.log(\"Bokeh: ERROR: Unable to run BokehJS code because BokehJS library is missing\");\n",
       "        }\n",
       "      }\n",
       "    }, 25, root)\n",
       "  }\n",
       "})(window);</script>"
      ],
      "text/plain": [
       ":Table   [Field,Type,('KNF1',),('KNF2',)]"
      ]
     },
     "execution_count": 100,
     "metadata": {
      "application/vnd.holoviews_exec.v0+json": {
       "id": "1769"
      }
     },
     "output_type": "execute_result"
    }
   ],
   "source": [
    "forest_pipeline.view_export_formatted()"
   ]
  }
 ],
 "metadata": {
  "kernelspec": {
   "display_name": "Python 3 (ipykernel)",
   "language": "python",
   "name": "python3"
  },
  "language_info": {
   "codemirror_mode": {
    "name": "ipython",
    "version": 3
   },
   "file_extension": ".py",
   "mimetype": "text/x-python",
   "name": "python",
   "nbconvert_exporter": "python",
   "pygments_lexer": "ipython3",
   "version": "3.10.6"
  }
 },
 "nbformat": 4,
 "nbformat_minor": 5
}
