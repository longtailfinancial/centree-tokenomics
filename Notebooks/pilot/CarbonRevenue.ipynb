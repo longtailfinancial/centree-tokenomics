{
 "cells": [
  {
   "cell_type": "code",
   "execution_count": 1,
   "id": "593b1939-467d-4c53-b608-5f7a0be3895b",
   "metadata": {},
   "outputs": [
    {
     "data": {
      "application/javascript": [
       "(function(root) {\n",
       "  function now() {\n",
       "    return new Date();\n",
       "  }\n",
       "\n",
       "  var force = true;\n",
       "\n",
       "  if (typeof root._bokeh_onload_callbacks === \"undefined\" || force === true) {\n",
       "    root._bokeh_onload_callbacks = [];\n",
       "    root._bokeh_is_loading = undefined;\n",
       "  }\n",
       "\n",
       "  if (typeof (root._bokeh_timeout) === \"undefined\" || force === true) {\n",
       "    root._bokeh_timeout = Date.now() + 5000;\n",
       "    root._bokeh_failed_load = false;\n",
       "  }\n",
       "\n",
       "  function run_callbacks() {\n",
       "    try {\n",
       "      root._bokeh_onload_callbacks.forEach(function(callback) {\n",
       "        if (callback != null)\n",
       "          callback();\n",
       "      });\n",
       "    } finally {\n",
       "      delete root._bokeh_onload_callbacks\n",
       "    }\n",
       "    console.debug(\"Bokeh: all callbacks have finished\");\n",
       "  }\n",
       "\n",
       "  function load_libs(css_urls, js_urls, js_modules, callback) {\n",
       "    if (css_urls == null) css_urls = [];\n",
       "    if (js_urls == null) js_urls = [];\n",
       "    if (js_modules == null) js_modules = [];\n",
       "\n",
       "    root._bokeh_onload_callbacks.push(callback);\n",
       "    if (root._bokeh_is_loading > 0) {\n",
       "      console.debug(\"Bokeh: BokehJS is being loaded, scheduling callback at\", now());\n",
       "      return null;\n",
       "    }\n",
       "    if (js_urls.length === 0 && js_modules.length === 0) {\n",
       "      run_callbacks();\n",
       "      return null;\n",
       "    }\n",
       "    console.debug(\"Bokeh: BokehJS not loaded, scheduling load and callback at\", now());\n",
       "\n",
       "    function on_load() {\n",
       "      root._bokeh_is_loading--;\n",
       "      if (root._bokeh_is_loading === 0) {\n",
       "        console.debug(\"Bokeh: all BokehJS libraries/stylesheets loaded\");\n",
       "        run_callbacks()\n",
       "      }\n",
       "    }\n",
       "\n",
       "    function on_error() {\n",
       "      console.error(\"failed to load \" + url);\n",
       "    }\n",
       "\n",
       "    for (var i = 0; i < css_urls.length; i++) {\n",
       "      var url = css_urls[i];\n",
       "      const element = document.createElement(\"link\");\n",
       "      element.onload = on_load;\n",
       "      element.onerror = on_error;\n",
       "      element.rel = \"stylesheet\";\n",
       "      element.type = \"text/css\";\n",
       "      element.href = url;\n",
       "      console.debug(\"Bokeh: injecting link tag for BokehJS stylesheet: \", url);\n",
       "      document.body.appendChild(element);\n",
       "    }\n",
       "\n",
       "    var skip = [];\n",
       "    if (window.requirejs) {\n",
       "      window.requirejs.config({'packages': {}, 'paths': {'gridstack': 'https://cdn.jsdelivr.net/npm/gridstack@4.2.5/dist/gridstack-h5', 'notyf': 'https://cdn.jsdelivr.net/npm/notyf@3/notyf.min'}, 'shim': {'gridstack': {'exports': 'GridStack'}}});\n",
       "      require([\"gridstack\"], function(GridStack) {\n",
       "\twindow.GridStack = GridStack\n",
       "\ton_load()\n",
       "      })\n",
       "      require([\"notyf\"], function() {\n",
       "\ton_load()\n",
       "      })\n",
       "      root._bokeh_is_loading = css_urls.length + 2;\n",
       "    } else {\n",
       "      root._bokeh_is_loading = css_urls.length + js_urls.length + js_modules.length;\n",
       "    }    if (((window['GridStack'] !== undefined) && (!(window['GridStack'] instanceof HTMLElement))) || window.requirejs) {\n",
       "      var urls = ['https://cdn.holoviz.org/panel/0.14.3/dist/bundled/gridstack/gridstack@4.2.5/dist/gridstack-h5.js'];\n",
       "      for (var i = 0; i < urls.length; i++) {\n",
       "        skip.push(urls[i])\n",
       "      }\n",
       "    }    if (((window['Notyf'] !== undefined) && (!(window['Notyf'] instanceof HTMLElement))) || window.requirejs) {\n",
       "      var urls = ['https://cdn.holoviz.org/panel/0.14.3/dist/bundled/notificationarea/notyf@3/notyf.min.js'];\n",
       "      for (var i = 0; i < urls.length; i++) {\n",
       "        skip.push(urls[i])\n",
       "      }\n",
       "    }    for (var i = 0; i < js_urls.length; i++) {\n",
       "      var url = js_urls[i];\n",
       "      if (skip.indexOf(url) >= 0) {\n",
       "\tif (!window.requirejs) {\n",
       "\t  on_load();\n",
       "\t}\n",
       "\tcontinue;\n",
       "      }\n",
       "      var element = document.createElement('script');\n",
       "      element.onload = on_load;\n",
       "      element.onerror = on_error;\n",
       "      element.async = false;\n",
       "      element.src = url;\n",
       "      console.debug(\"Bokeh: injecting script tag for BokehJS library: \", url);\n",
       "      document.head.appendChild(element);\n",
       "    }\n",
       "    for (var i = 0; i < js_modules.length; i++) {\n",
       "      var url = js_modules[i];\n",
       "      if (skip.indexOf(url) >= 0) {\n",
       "\tif (!window.requirejs) {\n",
       "\t  on_load();\n",
       "\t}\n",
       "\tcontinue;\n",
       "      }\n",
       "      var element = document.createElement('script');\n",
       "      element.onload = on_load;\n",
       "      element.onerror = on_error;\n",
       "      element.async = false;\n",
       "      element.src = url;\n",
       "      element.type = \"module\";\n",
       "      console.debug(\"Bokeh: injecting script tag for BokehJS library: \", url);\n",
       "      document.head.appendChild(element);\n",
       "    }\n",
       "    if (!js_urls.length && !js_modules.length) {\n",
       "      on_load()\n",
       "    }\n",
       "  };\n",
       "\n",
       "  function inject_raw_css(css) {\n",
       "    const element = document.createElement(\"style\");\n",
       "    element.appendChild(document.createTextNode(css));\n",
       "    document.body.appendChild(element);\n",
       "  }\n",
       "\n",
       "  var js_urls = [\"https://cdn.bokeh.org/bokeh/release/bokeh-2.4.3.min.js\", \"https://cdn.bokeh.org/bokeh/release/bokeh-gl-2.4.3.min.js\", \"https://cdn.bokeh.org/bokeh/release/bokeh-widgets-2.4.3.min.js\", \"https://cdn.bokeh.org/bokeh/release/bokeh-tables-2.4.3.min.js\", \"https://cdn.bokeh.org/bokeh/release/bokeh-mathjax-2.4.3.min.js\", \"https://unpkg.com/@holoviz/panel@0.14.3/dist/panel.min.js\"];\n",
       "  var js_modules = [];\n",
       "  var css_urls = [\"https://cdn.holoviz.org/panel/0.14.3/dist/css/widgets.css\", \"https://cdn.holoviz.org/panel/0.14.3/dist/css/alerts.css\", \"https://cdn.holoviz.org/panel/0.14.3/dist/css/markdown.css\", \"https://cdn.holoviz.org/panel/0.14.3/dist/css/card.css\", \"https://cdn.holoviz.org/panel/0.14.3/dist/css/loading.css\", \"https://cdn.holoviz.org/panel/0.14.3/dist/css/json.css\", \"https://cdn.holoviz.org/panel/0.14.3/dist/css/debugger.css\", \"https://cdn.holoviz.org/panel/0.14.3/dist/css/dataframe.css\"];\n",
       "  var inline_js = [    function(Bokeh) {\n",
       "      inject_raw_css(\"\\n    .bk.pn-loading.arc:before {\\n      background-image: url(\\\"data:image/svg+xml;base64,PHN2ZyB4bWxucz0iaHR0cDovL3d3dy53My5vcmcvMjAwMC9zdmciIHN0eWxlPSJtYXJnaW46IGF1dG87IGJhY2tncm91bmQ6IG5vbmU7IGRpc3BsYXk6IGJsb2NrOyBzaGFwZS1yZW5kZXJpbmc6IGF1dG87IiB2aWV3Qm94PSIwIDAgMTAwIDEwMCIgcHJlc2VydmVBc3BlY3RSYXRpbz0ieE1pZFlNaWQiPiAgPGNpcmNsZSBjeD0iNTAiIGN5PSI1MCIgZmlsbD0ibm9uZSIgc3Ryb2tlPSIjYzNjM2MzIiBzdHJva2Utd2lkdGg9IjEwIiByPSIzNSIgc3Ryb2tlLWRhc2hhcnJheT0iMTY0LjkzMzYxNDMxMzQ2NDE1IDU2Ljk3Nzg3MTQzNzgyMTM4Ij4gICAgPGFuaW1hdGVUcmFuc2Zvcm0gYXR0cmlidXRlTmFtZT0idHJhbnNmb3JtIiB0eXBlPSJyb3RhdGUiIHJlcGVhdENvdW50PSJpbmRlZmluaXRlIiBkdXI9IjFzIiB2YWx1ZXM9IjAgNTAgNTA7MzYwIDUwIDUwIiBrZXlUaW1lcz0iMDsxIj48L2FuaW1hdGVUcmFuc2Zvcm0+ICA8L2NpcmNsZT48L3N2Zz4=\\\");\\n      background-size: auto calc(min(50%, 400px));\\n    }\\n    \");\n",
       "    },    function(Bokeh) {\n",
       "      Bokeh.set_log_level(\"info\");\n",
       "    },\n",
       "function(Bokeh) {} // ensure no trailing comma for IE\n",
       "  ];\n",
       "\n",
       "  function run_inline_js() {\n",
       "    if ((root.Bokeh !== undefined) || (force === true)) {\n",
       "      for (var i = 0; i < inline_js.length; i++) {\n",
       "        inline_js[i].call(root, root.Bokeh);\n",
       "      }} else if (Date.now() < root._bokeh_timeout) {\n",
       "      setTimeout(run_inline_js, 100);\n",
       "    } else if (!root._bokeh_failed_load) {\n",
       "      console.log(\"Bokeh: BokehJS failed to load within specified timeout.\");\n",
       "      root._bokeh_failed_load = true;\n",
       "    }\n",
       "  }\n",
       "\n",
       "  if (root._bokeh_is_loading === 0) {\n",
       "    console.debug(\"Bokeh: BokehJS loaded, going straight to plotting\");\n",
       "    run_inline_js();\n",
       "  } else {\n",
       "    load_libs(css_urls, js_urls, js_modules, function() {\n",
       "      console.debug(\"Bokeh: BokehJS plotting callback run at\", now());\n",
       "      run_inline_js();\n",
       "    });\n",
       "  }\n",
       "}(window));"
      ],
      "application/vnd.holoviews_load.v0+json": "(function(root) {\n  function now() {\n    return new Date();\n  }\n\n  var force = true;\n\n  if (typeof root._bokeh_onload_callbacks === \"undefined\" || force === true) {\n    root._bokeh_onload_callbacks = [];\n    root._bokeh_is_loading = undefined;\n  }\n\n  if (typeof (root._bokeh_timeout) === \"undefined\" || force === true) {\n    root._bokeh_timeout = Date.now() + 5000;\n    root._bokeh_failed_load = false;\n  }\n\n  function run_callbacks() {\n    try {\n      root._bokeh_onload_callbacks.forEach(function(callback) {\n        if (callback != null)\n          callback();\n      });\n    } finally {\n      delete root._bokeh_onload_callbacks\n    }\n    console.debug(\"Bokeh: all callbacks have finished\");\n  }\n\n  function load_libs(css_urls, js_urls, js_modules, callback) {\n    if (css_urls == null) css_urls = [];\n    if (js_urls == null) js_urls = [];\n    if (js_modules == null) js_modules = [];\n\n    root._bokeh_onload_callbacks.push(callback);\n    if (root._bokeh_is_loading > 0) {\n      console.debug(\"Bokeh: BokehJS is being loaded, scheduling callback at\", now());\n      return null;\n    }\n    if (js_urls.length === 0 && js_modules.length === 0) {\n      run_callbacks();\n      return null;\n    }\n    console.debug(\"Bokeh: BokehJS not loaded, scheduling load and callback at\", now());\n\n    function on_load() {\n      root._bokeh_is_loading--;\n      if (root._bokeh_is_loading === 0) {\n        console.debug(\"Bokeh: all BokehJS libraries/stylesheets loaded\");\n        run_callbacks()\n      }\n    }\n\n    function on_error() {\n      console.error(\"failed to load \" + url);\n    }\n\n    for (var i = 0; i < css_urls.length; i++) {\n      var url = css_urls[i];\n      const element = document.createElement(\"link\");\n      element.onload = on_load;\n      element.onerror = on_error;\n      element.rel = \"stylesheet\";\n      element.type = \"text/css\";\n      element.href = url;\n      console.debug(\"Bokeh: injecting link tag for BokehJS stylesheet: \", url);\n      document.body.appendChild(element);\n    }\n\n    var skip = [];\n    if (window.requirejs) {\n      window.requirejs.config({'packages': {}, 'paths': {'gridstack': 'https://cdn.jsdelivr.net/npm/gridstack@4.2.5/dist/gridstack-h5', 'notyf': 'https://cdn.jsdelivr.net/npm/notyf@3/notyf.min'}, 'shim': {'gridstack': {'exports': 'GridStack'}}});\n      require([\"gridstack\"], function(GridStack) {\n\twindow.GridStack = GridStack\n\ton_load()\n      })\n      require([\"notyf\"], function() {\n\ton_load()\n      })\n      root._bokeh_is_loading = css_urls.length + 2;\n    } else {\n      root._bokeh_is_loading = css_urls.length + js_urls.length + js_modules.length;\n    }    if (((window['GridStack'] !== undefined) && (!(window['GridStack'] instanceof HTMLElement))) || window.requirejs) {\n      var urls = ['https://cdn.holoviz.org/panel/0.14.3/dist/bundled/gridstack/gridstack@4.2.5/dist/gridstack-h5.js'];\n      for (var i = 0; i < urls.length; i++) {\n        skip.push(urls[i])\n      }\n    }    if (((window['Notyf'] !== undefined) && (!(window['Notyf'] instanceof HTMLElement))) || window.requirejs) {\n      var urls = ['https://cdn.holoviz.org/panel/0.14.3/dist/bundled/notificationarea/notyf@3/notyf.min.js'];\n      for (var i = 0; i < urls.length; i++) {\n        skip.push(urls[i])\n      }\n    }    for (var i = 0; i < js_urls.length; i++) {\n      var url = js_urls[i];\n      if (skip.indexOf(url) >= 0) {\n\tif (!window.requirejs) {\n\t  on_load();\n\t}\n\tcontinue;\n      }\n      var element = document.createElement('script');\n      element.onload = on_load;\n      element.onerror = on_error;\n      element.async = false;\n      element.src = url;\n      console.debug(\"Bokeh: injecting script tag for BokehJS library: \", url);\n      document.head.appendChild(element);\n    }\n    for (var i = 0; i < js_modules.length; i++) {\n      var url = js_modules[i];\n      if (skip.indexOf(url) >= 0) {\n\tif (!window.requirejs) {\n\t  on_load();\n\t}\n\tcontinue;\n      }\n      var element = document.createElement('script');\n      element.onload = on_load;\n      element.onerror = on_error;\n      element.async = false;\n      element.src = url;\n      element.type = \"module\";\n      console.debug(\"Bokeh: injecting script tag for BokehJS library: \", url);\n      document.head.appendChild(element);\n    }\n    if (!js_urls.length && !js_modules.length) {\n      on_load()\n    }\n  };\n\n  function inject_raw_css(css) {\n    const element = document.createElement(\"style\");\n    element.appendChild(document.createTextNode(css));\n    document.body.appendChild(element);\n  }\n\n  var js_urls = [\"https://cdn.bokeh.org/bokeh/release/bokeh-2.4.3.min.js\", \"https://cdn.bokeh.org/bokeh/release/bokeh-gl-2.4.3.min.js\", \"https://cdn.bokeh.org/bokeh/release/bokeh-widgets-2.4.3.min.js\", \"https://cdn.bokeh.org/bokeh/release/bokeh-tables-2.4.3.min.js\", \"https://cdn.bokeh.org/bokeh/release/bokeh-mathjax-2.4.3.min.js\", \"https://unpkg.com/@holoviz/panel@0.14.3/dist/panel.min.js\"];\n  var js_modules = [];\n  var css_urls = [\"https://cdn.holoviz.org/panel/0.14.3/dist/css/widgets.css\", \"https://cdn.holoviz.org/panel/0.14.3/dist/css/alerts.css\", \"https://cdn.holoviz.org/panel/0.14.3/dist/css/markdown.css\", \"https://cdn.holoviz.org/panel/0.14.3/dist/css/card.css\", \"https://cdn.holoviz.org/panel/0.14.3/dist/css/loading.css\", \"https://cdn.holoviz.org/panel/0.14.3/dist/css/json.css\", \"https://cdn.holoviz.org/panel/0.14.3/dist/css/debugger.css\", \"https://cdn.holoviz.org/panel/0.14.3/dist/css/dataframe.css\"];\n  var inline_js = [    function(Bokeh) {\n      inject_raw_css(\"\\n    .bk.pn-loading.arc:before {\\n      background-image: url(\\\"data:image/svg+xml;base64,PHN2ZyB4bWxucz0iaHR0cDovL3d3dy53My5vcmcvMjAwMC9zdmciIHN0eWxlPSJtYXJnaW46IGF1dG87IGJhY2tncm91bmQ6IG5vbmU7IGRpc3BsYXk6IGJsb2NrOyBzaGFwZS1yZW5kZXJpbmc6IGF1dG87IiB2aWV3Qm94PSIwIDAgMTAwIDEwMCIgcHJlc2VydmVBc3BlY3RSYXRpbz0ieE1pZFlNaWQiPiAgPGNpcmNsZSBjeD0iNTAiIGN5PSI1MCIgZmlsbD0ibm9uZSIgc3Ryb2tlPSIjYzNjM2MzIiBzdHJva2Utd2lkdGg9IjEwIiByPSIzNSIgc3Ryb2tlLWRhc2hhcnJheT0iMTY0LjkzMzYxNDMxMzQ2NDE1IDU2Ljk3Nzg3MTQzNzgyMTM4Ij4gICAgPGFuaW1hdGVUcmFuc2Zvcm0gYXR0cmlidXRlTmFtZT0idHJhbnNmb3JtIiB0eXBlPSJyb3RhdGUiIHJlcGVhdENvdW50PSJpbmRlZmluaXRlIiBkdXI9IjFzIiB2YWx1ZXM9IjAgNTAgNTA7MzYwIDUwIDUwIiBrZXlUaW1lcz0iMDsxIj48L2FuaW1hdGVUcmFuc2Zvcm0+ICA8L2NpcmNsZT48L3N2Zz4=\\\");\\n      background-size: auto calc(min(50%, 400px));\\n    }\\n    \");\n    },    function(Bokeh) {\n      Bokeh.set_log_level(\"info\");\n    },\nfunction(Bokeh) {} // ensure no trailing comma for IE\n  ];\n\n  function run_inline_js() {\n    if ((root.Bokeh !== undefined) || (force === true)) {\n      for (var i = 0; i < inline_js.length; i++) {\n        inline_js[i].call(root, root.Bokeh);\n      }} else if (Date.now() < root._bokeh_timeout) {\n      setTimeout(run_inline_js, 100);\n    } else if (!root._bokeh_failed_load) {\n      console.log(\"Bokeh: BokehJS failed to load within specified timeout.\");\n      root._bokeh_failed_load = true;\n    }\n  }\n\n  if (root._bokeh_is_loading === 0) {\n    console.debug(\"Bokeh: BokehJS loaded, going straight to plotting\");\n    run_inline_js();\n  } else {\n    load_libs(css_urls, js_urls, js_modules, function() {\n      console.debug(\"Bokeh: BokehJS plotting callback run at\", now());\n      run_inline_js();\n    });\n  }\n}(window));"
     },
     "metadata": {},
     "output_type": "display_data"
    },
    {
     "data": {
      "application/javascript": [
       "\n",
       "if ((window.PyViz === undefined) || (window.PyViz instanceof HTMLElement)) {\n",
       "  window.PyViz = {comms: {}, comm_status:{}, kernels:{}, receivers: {}, plot_index: []}\n",
       "}\n",
       "\n",
       "\n",
       "    function JupyterCommManager() {\n",
       "    }\n",
       "\n",
       "    JupyterCommManager.prototype.register_target = function(plot_id, comm_id, msg_handler) {\n",
       "      if (window.comm_manager || ((window.Jupyter !== undefined) && (Jupyter.notebook.kernel != null))) {\n",
       "        var comm_manager = window.comm_manager || Jupyter.notebook.kernel.comm_manager;\n",
       "        comm_manager.register_target(comm_id, function(comm) {\n",
       "          comm.on_msg(msg_handler);\n",
       "        });\n",
       "      } else if ((plot_id in window.PyViz.kernels) && (window.PyViz.kernels[plot_id])) {\n",
       "        window.PyViz.kernels[plot_id].registerCommTarget(comm_id, function(comm) {\n",
       "          comm.onMsg = msg_handler;\n",
       "        });\n",
       "      } else if (typeof google != 'undefined' && google.colab.kernel != null) {\n",
       "        google.colab.kernel.comms.registerTarget(comm_id, (comm) => {\n",
       "          var messages = comm.messages[Symbol.asyncIterator]();\n",
       "          function processIteratorResult(result) {\n",
       "            var message = result.value;\n",
       "            console.log(message)\n",
       "            var content = {data: message.data, comm_id};\n",
       "            var buffers = []\n",
       "            for (var buffer of message.buffers || []) {\n",
       "              buffers.push(new DataView(buffer))\n",
       "            }\n",
       "            var metadata = message.metadata || {};\n",
       "            var msg = {content, buffers, metadata}\n",
       "            msg_handler(msg);\n",
       "            return messages.next().then(processIteratorResult);\n",
       "          }\n",
       "          return messages.next().then(processIteratorResult);\n",
       "        })\n",
       "      }\n",
       "    }\n",
       "\n",
       "    JupyterCommManager.prototype.get_client_comm = function(plot_id, comm_id, msg_handler) {\n",
       "      if (comm_id in window.PyViz.comms) {\n",
       "        return window.PyViz.comms[comm_id];\n",
       "      } else if (window.comm_manager || ((window.Jupyter !== undefined) && (Jupyter.notebook.kernel != null))) {\n",
       "        var comm_manager = window.comm_manager || Jupyter.notebook.kernel.comm_manager;\n",
       "        var comm = comm_manager.new_comm(comm_id, {}, {}, {}, comm_id);\n",
       "        if (msg_handler) {\n",
       "          comm.on_msg(msg_handler);\n",
       "        }\n",
       "      } else if ((plot_id in window.PyViz.kernels) && (window.PyViz.kernels[plot_id])) {\n",
       "        var comm = window.PyViz.kernels[plot_id].connectToComm(comm_id);\n",
       "        comm.open();\n",
       "        if (msg_handler) {\n",
       "          comm.onMsg = msg_handler;\n",
       "        }\n",
       "      } else if (typeof google != 'undefined' && google.colab.kernel != null) {\n",
       "        var comm_promise = google.colab.kernel.comms.open(comm_id)\n",
       "        comm_promise.then((comm) => {\n",
       "          window.PyViz.comms[comm_id] = comm;\n",
       "          if (msg_handler) {\n",
       "            var messages = comm.messages[Symbol.asyncIterator]();\n",
       "            function processIteratorResult(result) {\n",
       "              var message = result.value;\n",
       "              var content = {data: message.data};\n",
       "              var metadata = message.metadata || {comm_id};\n",
       "              var msg = {content, metadata}\n",
       "              msg_handler(msg);\n",
       "              return messages.next().then(processIteratorResult);\n",
       "            }\n",
       "            return messages.next().then(processIteratorResult);\n",
       "          }\n",
       "        }) \n",
       "        var sendClosure = (data, metadata, buffers, disposeOnDone) => {\n",
       "          return comm_promise.then((comm) => {\n",
       "            comm.send(data, metadata, buffers, disposeOnDone);\n",
       "          });\n",
       "        };\n",
       "        var comm = {\n",
       "          send: sendClosure\n",
       "        };\n",
       "      }\n",
       "      window.PyViz.comms[comm_id] = comm;\n",
       "      return comm;\n",
       "    }\n",
       "    window.PyViz.comm_manager = new JupyterCommManager();\n",
       "    \n",
       "\n",
       "\n",
       "var JS_MIME_TYPE = 'application/javascript';\n",
       "var HTML_MIME_TYPE = 'text/html';\n",
       "var EXEC_MIME_TYPE = 'application/vnd.holoviews_exec.v0+json';\n",
       "var CLASS_NAME = 'output';\n",
       "\n",
       "/**\n",
       " * Render data to the DOM node\n",
       " */\n",
       "function render(props, node) {\n",
       "  var div = document.createElement(\"div\");\n",
       "  var script = document.createElement(\"script\");\n",
       "  node.appendChild(div);\n",
       "  node.appendChild(script);\n",
       "}\n",
       "\n",
       "/**\n",
       " * Handle when a new output is added\n",
       " */\n",
       "function handle_add_output(event, handle) {\n",
       "  var output_area = handle.output_area;\n",
       "  var output = handle.output;\n",
       "  if ((output.data == undefined) || (!output.data.hasOwnProperty(EXEC_MIME_TYPE))) {\n",
       "    return\n",
       "  }\n",
       "  var id = output.metadata[EXEC_MIME_TYPE][\"id\"];\n",
       "  var toinsert = output_area.element.find(\".\" + CLASS_NAME.split(' ')[0]);\n",
       "  if (id !== undefined) {\n",
       "    var nchildren = toinsert.length;\n",
       "    var html_node = toinsert[nchildren-1].children[0];\n",
       "    html_node.innerHTML = output.data[HTML_MIME_TYPE];\n",
       "    var scripts = [];\n",
       "    var nodelist = html_node.querySelectorAll(\"script\");\n",
       "    for (var i in nodelist) {\n",
       "      if (nodelist.hasOwnProperty(i)) {\n",
       "        scripts.push(nodelist[i])\n",
       "      }\n",
       "    }\n",
       "\n",
       "    scripts.forEach( function (oldScript) {\n",
       "      var newScript = document.createElement(\"script\");\n",
       "      var attrs = [];\n",
       "      var nodemap = oldScript.attributes;\n",
       "      for (var j in nodemap) {\n",
       "        if (nodemap.hasOwnProperty(j)) {\n",
       "          attrs.push(nodemap[j])\n",
       "        }\n",
       "      }\n",
       "      attrs.forEach(function(attr) { newScript.setAttribute(attr.name, attr.value) });\n",
       "      newScript.appendChild(document.createTextNode(oldScript.innerHTML));\n",
       "      oldScript.parentNode.replaceChild(newScript, oldScript);\n",
       "    });\n",
       "    if (JS_MIME_TYPE in output.data) {\n",
       "      toinsert[nchildren-1].children[1].textContent = output.data[JS_MIME_TYPE];\n",
       "    }\n",
       "    output_area._hv_plot_id = id;\n",
       "    if ((window.Bokeh !== undefined) && (id in Bokeh.index)) {\n",
       "      window.PyViz.plot_index[id] = Bokeh.index[id];\n",
       "    } else {\n",
       "      window.PyViz.plot_index[id] = null;\n",
       "    }\n",
       "  } else if (output.metadata[EXEC_MIME_TYPE][\"server_id\"] !== undefined) {\n",
       "    var bk_div = document.createElement(\"div\");\n",
       "    bk_div.innerHTML = output.data[HTML_MIME_TYPE];\n",
       "    var script_attrs = bk_div.children[0].attributes;\n",
       "    for (var i = 0; i < script_attrs.length; i++) {\n",
       "      toinsert[toinsert.length - 1].childNodes[1].setAttribute(script_attrs[i].name, script_attrs[i].value);\n",
       "    }\n",
       "    // store reference to server id on output_area\n",
       "    output_area._bokeh_server_id = output.metadata[EXEC_MIME_TYPE][\"server_id\"];\n",
       "  }\n",
       "}\n",
       "\n",
       "/**\n",
       " * Handle when an output is cleared or removed\n",
       " */\n",
       "function handle_clear_output(event, handle) {\n",
       "  var id = handle.cell.output_area._hv_plot_id;\n",
       "  var server_id = handle.cell.output_area._bokeh_server_id;\n",
       "  if (((id === undefined) || !(id in PyViz.plot_index)) && (server_id !== undefined)) { return; }\n",
       "  var comm = window.PyViz.comm_manager.get_client_comm(\"hv-extension-comm\", \"hv-extension-comm\", function () {});\n",
       "  if (server_id !== null) {\n",
       "    comm.send({event_type: 'server_delete', 'id': server_id});\n",
       "    return;\n",
       "  } else if (comm !== null) {\n",
       "    comm.send({event_type: 'delete', 'id': id});\n",
       "  }\n",
       "  delete PyViz.plot_index[id];\n",
       "  if ((window.Bokeh !== undefined) & (id in window.Bokeh.index)) {\n",
       "    var doc = window.Bokeh.index[id].model.document\n",
       "    doc.clear();\n",
       "    const i = window.Bokeh.documents.indexOf(doc);\n",
       "    if (i > -1) {\n",
       "      window.Bokeh.documents.splice(i, 1);\n",
       "    }\n",
       "  }\n",
       "}\n",
       "\n",
       "/**\n",
       " * Handle kernel restart event\n",
       " */\n",
       "function handle_kernel_cleanup(event, handle) {\n",
       "  delete PyViz.comms[\"hv-extension-comm\"];\n",
       "  window.PyViz.plot_index = {}\n",
       "}\n",
       "\n",
       "/**\n",
       " * Handle update_display_data messages\n",
       " */\n",
       "function handle_update_output(event, handle) {\n",
       "  handle_clear_output(event, {cell: {output_area: handle.output_area}})\n",
       "  handle_add_output(event, handle)\n",
       "}\n",
       "\n",
       "function register_renderer(events, OutputArea) {\n",
       "  function append_mime(data, metadata, element) {\n",
       "    // create a DOM node to render to\n",
       "    var toinsert = this.create_output_subarea(\n",
       "    metadata,\n",
       "    CLASS_NAME,\n",
       "    EXEC_MIME_TYPE\n",
       "    );\n",
       "    this.keyboard_manager.register_events(toinsert);\n",
       "    // Render to node\n",
       "    var props = {data: data, metadata: metadata[EXEC_MIME_TYPE]};\n",
       "    render(props, toinsert[0]);\n",
       "    element.append(toinsert);\n",
       "    return toinsert\n",
       "  }\n",
       "\n",
       "  events.on('output_added.OutputArea', handle_add_output);\n",
       "  events.on('output_updated.OutputArea', handle_update_output);\n",
       "  events.on('clear_output.CodeCell', handle_clear_output);\n",
       "  events.on('delete.Cell', handle_clear_output);\n",
       "  events.on('kernel_ready.Kernel', handle_kernel_cleanup);\n",
       "\n",
       "  OutputArea.prototype.register_mime_type(EXEC_MIME_TYPE, append_mime, {\n",
       "    safe: true,\n",
       "    index: 0\n",
       "  });\n",
       "}\n",
       "\n",
       "if (window.Jupyter !== undefined) {\n",
       "  try {\n",
       "    var events = require('base/js/events');\n",
       "    var OutputArea = require('notebook/js/outputarea').OutputArea;\n",
       "    if (OutputArea.prototype.mime_types().indexOf(EXEC_MIME_TYPE) == -1) {\n",
       "      register_renderer(events, OutputArea);\n",
       "    }\n",
       "  } catch(err) {\n",
       "  }\n",
       "}\n"
      ],
      "application/vnd.holoviews_load.v0+json": "\nif ((window.PyViz === undefined) || (window.PyViz instanceof HTMLElement)) {\n  window.PyViz = {comms: {}, comm_status:{}, kernels:{}, receivers: {}, plot_index: []}\n}\n\n\n    function JupyterCommManager() {\n    }\n\n    JupyterCommManager.prototype.register_target = function(plot_id, comm_id, msg_handler) {\n      if (window.comm_manager || ((window.Jupyter !== undefined) && (Jupyter.notebook.kernel != null))) {\n        var comm_manager = window.comm_manager || Jupyter.notebook.kernel.comm_manager;\n        comm_manager.register_target(comm_id, function(comm) {\n          comm.on_msg(msg_handler);\n        });\n      } else if ((plot_id in window.PyViz.kernels) && (window.PyViz.kernels[plot_id])) {\n        window.PyViz.kernels[plot_id].registerCommTarget(comm_id, function(comm) {\n          comm.onMsg = msg_handler;\n        });\n      } else if (typeof google != 'undefined' && google.colab.kernel != null) {\n        google.colab.kernel.comms.registerTarget(comm_id, (comm) => {\n          var messages = comm.messages[Symbol.asyncIterator]();\n          function processIteratorResult(result) {\n            var message = result.value;\n            console.log(message)\n            var content = {data: message.data, comm_id};\n            var buffers = []\n            for (var buffer of message.buffers || []) {\n              buffers.push(new DataView(buffer))\n            }\n            var metadata = message.metadata || {};\n            var msg = {content, buffers, metadata}\n            msg_handler(msg);\n            return messages.next().then(processIteratorResult);\n          }\n          return messages.next().then(processIteratorResult);\n        })\n      }\n    }\n\n    JupyterCommManager.prototype.get_client_comm = function(plot_id, comm_id, msg_handler) {\n      if (comm_id in window.PyViz.comms) {\n        return window.PyViz.comms[comm_id];\n      } else if (window.comm_manager || ((window.Jupyter !== undefined) && (Jupyter.notebook.kernel != null))) {\n        var comm_manager = window.comm_manager || Jupyter.notebook.kernel.comm_manager;\n        var comm = comm_manager.new_comm(comm_id, {}, {}, {}, comm_id);\n        if (msg_handler) {\n          comm.on_msg(msg_handler);\n        }\n      } else if ((plot_id in window.PyViz.kernels) && (window.PyViz.kernels[plot_id])) {\n        var comm = window.PyViz.kernels[plot_id].connectToComm(comm_id);\n        comm.open();\n        if (msg_handler) {\n          comm.onMsg = msg_handler;\n        }\n      } else if (typeof google != 'undefined' && google.colab.kernel != null) {\n        var comm_promise = google.colab.kernel.comms.open(comm_id)\n        comm_promise.then((comm) => {\n          window.PyViz.comms[comm_id] = comm;\n          if (msg_handler) {\n            var messages = comm.messages[Symbol.asyncIterator]();\n            function processIteratorResult(result) {\n              var message = result.value;\n              var content = {data: message.data};\n              var metadata = message.metadata || {comm_id};\n              var msg = {content, metadata}\n              msg_handler(msg);\n              return messages.next().then(processIteratorResult);\n            }\n            return messages.next().then(processIteratorResult);\n          }\n        }) \n        var sendClosure = (data, metadata, buffers, disposeOnDone) => {\n          return comm_promise.then((comm) => {\n            comm.send(data, metadata, buffers, disposeOnDone);\n          });\n        };\n        var comm = {\n          send: sendClosure\n        };\n      }\n      window.PyViz.comms[comm_id] = comm;\n      return comm;\n    }\n    window.PyViz.comm_manager = new JupyterCommManager();\n    \n\n\nvar JS_MIME_TYPE = 'application/javascript';\nvar HTML_MIME_TYPE = 'text/html';\nvar EXEC_MIME_TYPE = 'application/vnd.holoviews_exec.v0+json';\nvar CLASS_NAME = 'output';\n\n/**\n * Render data to the DOM node\n */\nfunction render(props, node) {\n  var div = document.createElement(\"div\");\n  var script = document.createElement(\"script\");\n  node.appendChild(div);\n  node.appendChild(script);\n}\n\n/**\n * Handle when a new output is added\n */\nfunction handle_add_output(event, handle) {\n  var output_area = handle.output_area;\n  var output = handle.output;\n  if ((output.data == undefined) || (!output.data.hasOwnProperty(EXEC_MIME_TYPE))) {\n    return\n  }\n  var id = output.metadata[EXEC_MIME_TYPE][\"id\"];\n  var toinsert = output_area.element.find(\".\" + CLASS_NAME.split(' ')[0]);\n  if (id !== undefined) {\n    var nchildren = toinsert.length;\n    var html_node = toinsert[nchildren-1].children[0];\n    html_node.innerHTML = output.data[HTML_MIME_TYPE];\n    var scripts = [];\n    var nodelist = html_node.querySelectorAll(\"script\");\n    for (var i in nodelist) {\n      if (nodelist.hasOwnProperty(i)) {\n        scripts.push(nodelist[i])\n      }\n    }\n\n    scripts.forEach( function (oldScript) {\n      var newScript = document.createElement(\"script\");\n      var attrs = [];\n      var nodemap = oldScript.attributes;\n      for (var j in nodemap) {\n        if (nodemap.hasOwnProperty(j)) {\n          attrs.push(nodemap[j])\n        }\n      }\n      attrs.forEach(function(attr) { newScript.setAttribute(attr.name, attr.value) });\n      newScript.appendChild(document.createTextNode(oldScript.innerHTML));\n      oldScript.parentNode.replaceChild(newScript, oldScript);\n    });\n    if (JS_MIME_TYPE in output.data) {\n      toinsert[nchildren-1].children[1].textContent = output.data[JS_MIME_TYPE];\n    }\n    output_area._hv_plot_id = id;\n    if ((window.Bokeh !== undefined) && (id in Bokeh.index)) {\n      window.PyViz.plot_index[id] = Bokeh.index[id];\n    } else {\n      window.PyViz.plot_index[id] = null;\n    }\n  } else if (output.metadata[EXEC_MIME_TYPE][\"server_id\"] !== undefined) {\n    var bk_div = document.createElement(\"div\");\n    bk_div.innerHTML = output.data[HTML_MIME_TYPE];\n    var script_attrs = bk_div.children[0].attributes;\n    for (var i = 0; i < script_attrs.length; i++) {\n      toinsert[toinsert.length - 1].childNodes[1].setAttribute(script_attrs[i].name, script_attrs[i].value);\n    }\n    // store reference to server id on output_area\n    output_area._bokeh_server_id = output.metadata[EXEC_MIME_TYPE][\"server_id\"];\n  }\n}\n\n/**\n * Handle when an output is cleared or removed\n */\nfunction handle_clear_output(event, handle) {\n  var id = handle.cell.output_area._hv_plot_id;\n  var server_id = handle.cell.output_area._bokeh_server_id;\n  if (((id === undefined) || !(id in PyViz.plot_index)) && (server_id !== undefined)) { return; }\n  var comm = window.PyViz.comm_manager.get_client_comm(\"hv-extension-comm\", \"hv-extension-comm\", function () {});\n  if (server_id !== null) {\n    comm.send({event_type: 'server_delete', 'id': server_id});\n    return;\n  } else if (comm !== null) {\n    comm.send({event_type: 'delete', 'id': id});\n  }\n  delete PyViz.plot_index[id];\n  if ((window.Bokeh !== undefined) & (id in window.Bokeh.index)) {\n    var doc = window.Bokeh.index[id].model.document\n    doc.clear();\n    const i = window.Bokeh.documents.indexOf(doc);\n    if (i > -1) {\n      window.Bokeh.documents.splice(i, 1);\n    }\n  }\n}\n\n/**\n * Handle kernel restart event\n */\nfunction handle_kernel_cleanup(event, handle) {\n  delete PyViz.comms[\"hv-extension-comm\"];\n  window.PyViz.plot_index = {}\n}\n\n/**\n * Handle update_display_data messages\n */\nfunction handle_update_output(event, handle) {\n  handle_clear_output(event, {cell: {output_area: handle.output_area}})\n  handle_add_output(event, handle)\n}\n\nfunction register_renderer(events, OutputArea) {\n  function append_mime(data, metadata, element) {\n    // create a DOM node to render to\n    var toinsert = this.create_output_subarea(\n    metadata,\n    CLASS_NAME,\n    EXEC_MIME_TYPE\n    );\n    this.keyboard_manager.register_events(toinsert);\n    // Render to node\n    var props = {data: data, metadata: metadata[EXEC_MIME_TYPE]};\n    render(props, toinsert[0]);\n    element.append(toinsert);\n    return toinsert\n  }\n\n  events.on('output_added.OutputArea', handle_add_output);\n  events.on('output_updated.OutputArea', handle_update_output);\n  events.on('clear_output.CodeCell', handle_clear_output);\n  events.on('delete.Cell', handle_clear_output);\n  events.on('kernel_ready.Kernel', handle_kernel_cleanup);\n\n  OutputArea.prototype.register_mime_type(EXEC_MIME_TYPE, append_mime, {\n    safe: true,\n    index: 0\n  });\n}\n\nif (window.Jupyter !== undefined) {\n  try {\n    var events = require('base/js/events');\n    var OutputArea = require('notebook/js/outputarea').OutputArea;\n    if (OutputArea.prototype.mime_types().indexOf(EXEC_MIME_TYPE) == -1) {\n      register_renderer(events, OutputArea);\n    }\n  } catch(err) {\n  }\n}\n"
     },
     "metadata": {},
     "output_type": "display_data"
    },
    {
     "data": {
      "text/html": [
       "<style>.bk-root, .bk-root .bk:before, .bk-root .bk:after {\n",
       "  font-family: var(--jp-ui-font-size1);\n",
       "  font-size: var(--jp-ui-font-size1);\n",
       "  color: var(--jp-ui-font-color1);\n",
       "}\n",
       "</style>"
      ]
     },
     "metadata": {},
     "output_type": "display_data"
    },
    {
     "name": "stdout",
     "output_type": "stream",
     "text": [
      "%opts magic unavailable (pyparsing cannot be imported)\n",
      "%compositor magic unavailable (pyparsing cannot be imported)\n"
     ]
    }
   ],
   "source": [
    "%run PilotForestAreas.ipynb"
   ]
  },
  {
   "cell_type": "code",
   "execution_count": 2,
   "id": "69c6fd0c-bdad-46db-9dd6-5e32fdd67758",
   "metadata": {},
   "outputs": [],
   "source": [
    "import param as pm\n",
    "import panel as pn\n",
    "import pandas as pd\n",
    "import datetime as dt\n",
    "import numpy as np\n",
    "pn.extension()"
   ]
  },
  {
   "cell_type": "code",
   "execution_count": 3,
   "id": "a41331ad-5a8a-42e1-b28b-812240f7a533",
   "metadata": {},
   "outputs": [
    {
     "data": {
      "text/plain": [
       "3118225.187825"
      ]
     },
     "execution_count": 3,
     "metadata": {},
     "output_type": "execute_result"
    }
   ],
   "source": [
    "f1.sale_value()"
   ]
  },
  {
   "cell_type": "code",
   "execution_count": 4,
   "id": "7f88c3c5-032b-46ee-a994-3e05e257aae1",
   "metadata": {},
   "outputs": [
    {
     "data": {
      "text/plain": [
       "7478"
      ]
     },
     "execution_count": 4,
     "metadata": {},
     "output_type": "execute_result"
    }
   ],
   "source": [
    "f1.forested_area_hectares"
   ]
  },
  {
   "cell_type": "code",
   "execution_count": 5,
   "id": "24ed4b23-9967-4162-a51f-a744a7b5e64c",
   "metadata": {},
   "outputs": [
    {
     "data": {
      "text/plain": [
       "18470.66"
      ]
     },
     "execution_count": 5,
     "metadata": {},
     "output_type": "execute_result"
    }
   ],
   "source": [
    "f1.acres_protected()"
   ]
  },
  {
   "cell_type": "code",
   "execution_count": 6,
   "id": "3ec32bcc-52f4-4680-8253-8054831d77a7",
   "metadata": {},
   "outputs": [
    {
     "data": {
      "text/plain": [
       "21867.58"
      ]
     },
     "execution_count": 6,
     "metadata": {},
     "output_type": "execute_result"
    }
   ],
   "source": [
    "f1.tons_carbon_per_year"
   ]
  },
  {
   "cell_type": "code",
   "execution_count": 7,
   "id": "3bb74663-f3e4-4a99-9fb7-7de239bb1024",
   "metadata": {},
   "outputs": [],
   "source": [
    "class Carbon(pm.Parameterized):\n",
    "    initial_carbon_price = pm.Number(29)\n",
    "    carbon_price_appreciation = pm.Number(0.15, bounds=(0,1), step=0.01)\n",
    "    stewardship_budget_increase = pm.Number(0.075, bounds=(0,1), step=0.01)\n",
    "    tax_rate = pm.Number(0.2, bounds=(0,1), step=0.01)\n",
    "    centree_admin_commission = pm.Number(0.15, bounds=(0,1), step=0.01)\n",
    "    pfa_commission = pm.Number(0.425, bounds=(0,1), step=0.01)\n",
    "    land_title_holders_commission = pm.Number(0.425, bounds=(0,1), step=0.01)\n",
    "    below_soil_tonnage_factor = pm.Number(1, bounds=(0,2), step=0.01)\n",
    "    \n",
    "    def compute(self, forest_area: Forest, periods = 10, freq = 'Y'):\n",
    "        \n",
    "        df = pd.DataFrame(index=pd.date_range(dt.datetime.now(), periods=periods, freq=freq))\n",
    "        df['Carbon Price'] = [self.initial_carbon_price * (1+self.carbon_price_appreciation)**x for x in range(periods)]\n",
    "\n",
    "        df['Gross Revenue'] = df['Carbon Price'] * forest_area.tons_carbon_per_year * (1 + self.below_soil_tonnage_factor)\n",
    "\n",
    "        df['Net Revenue'] = df['Gross Revenue'] * (1 - self.tax_rate)\n",
    "\n",
    "        df['Stewardship Budget'] = [forest_area.forested_area_hectares * forest_area.stewardship_rate_per_hectare * (1+self.stewardship_budget_increase)**x for x in range(periods)]\n",
    "\n",
    "        df['Gross Profit'] = df['Net Revenue'] - df['Stewardship Budget']\n",
    "\n",
    "        df['Centree (Admin/Commission)'] = df['Gross Profit'] * self.centree_admin_commission\n",
    "\n",
    "        df['PFA Commission'] = df['Gross Profit'] * self.pfa_commission\n",
    "        df['Land Title Holders Commission'] = df['Gross Profit'] * self.land_title_holders_commission\n",
    "\n",
    "        df['PFA Holder Return as Percentage of Initial Cost'] = df['PFA Commission'] / forest_area.sale_value()\n",
    "        \n",
    "        df.index.name = \"Date\"\n",
    "\n",
    "        return df\n",
    "    \n",
    "    def view_model_table(self, forest):\n",
    "        return self.compute(forest).reset_index().hvplot.table()\n",
    "    \n",
    "    def view_model_normalized_chart(self, forest):\n",
    "        carbon = self.compute(forest)\n",
    "        carbon_normal = carbon / carbon.iloc[0] \n",
    "        carbon_normal = carbon_normal + np.random.randn(*carbon_normal.shape) / 10\n",
    "        return pn.panel(carbon_normal.hvplot.line(title=\"Normalized Growth Projections of Carbon Revenue\", height=340, width=1000))"
   ]
  },
  {
   "cell_type": "code",
   "execution_count": 8,
   "id": "a0beb50e-aa23-45c9-a5aa-64f77d2da8f8",
   "metadata": {
    "tags": []
   },
   "outputs": [],
   "source": [
    "carbon_model = Carbon(below_soil_tonnage_factor=0, carbon_price_appreciation=0.15)"
   ]
  },
  {
   "cell_type": "code",
   "execution_count": 9,
   "id": "5aa18dac-c0e0-4989-812e-d114165df256",
   "metadata": {
    "tags": []
   },
   "outputs": [
    {
     "data": {
      "application/vnd.holoviews_exec.v0+json": "",
      "text/html": [
       "<div id='1003'>\n",
       "  <div class=\"bk-root\" id=\"90f1c55b-b2c9-4eb4-8864-dc75c0bba4a8\" data-root-id=\"1003\"></div>\n",
       "</div>\n",
       "<script type=\"application/javascript\">(function(root) {\n",
       "  function embed_document(root) {\n",
       "    var docs_json = {\"94053f23-d138-4fa5-b2ee-840da02baa8e\":{\"defs\":[{\"extends\":null,\"module\":null,\"name\":\"ReactiveHTML1\",\"overrides\":[],\"properties\":[]},{\"extends\":null,\"module\":null,\"name\":\"FlexBox1\",\"overrides\":[],\"properties\":[{\"default\":\"flex-start\",\"kind\":null,\"name\":\"align_content\"},{\"default\":\"flex-start\",\"kind\":null,\"name\":\"align_items\"},{\"default\":\"row\",\"kind\":null,\"name\":\"flex_direction\"},{\"default\":\"wrap\",\"kind\":null,\"name\":\"flex_wrap\"},{\"default\":\"flex-start\",\"kind\":null,\"name\":\"justify_content\"}]},{\"extends\":null,\"module\":null,\"name\":\"GridStack1\",\"overrides\":[],\"properties\":[{\"default\":\"warn\",\"kind\":null,\"name\":\"mode\"},{\"default\":null,\"kind\":null,\"name\":\"ncols\"},{\"default\":null,\"kind\":null,\"name\":\"nrows\"},{\"default\":true,\"kind\":null,\"name\":\"allow_resize\"},{\"default\":true,\"kind\":null,\"name\":\"allow_drag\"},{\"default\":[],\"kind\":null,\"name\":\"state\"}]},{\"extends\":null,\"module\":null,\"name\":\"click1\",\"overrides\":[],\"properties\":[{\"default\":\"\",\"kind\":null,\"name\":\"terminal_output\"},{\"default\":\"\",\"kind\":null,\"name\":\"debug_name\"},{\"default\":0,\"kind\":null,\"name\":\"clears\"}]},{\"extends\":null,\"module\":null,\"name\":\"NotificationAreaBase1\",\"overrides\":[],\"properties\":[{\"default\":\"bottom-right\",\"kind\":null,\"name\":\"position\"},{\"default\":0,\"kind\":null,\"name\":\"_clear\"}]},{\"extends\":null,\"module\":null,\"name\":\"NotificationArea1\",\"overrides\":[],\"properties\":[{\"default\":[],\"kind\":null,\"name\":\"notifications\"},{\"default\":\"bottom-right\",\"kind\":null,\"name\":\"position\"},{\"default\":0,\"kind\":null,\"name\":\"_clear\"},{\"default\":[{\"background\":\"#ffc107\",\"icon\":{\"className\":\"fas fa-exclamation-triangle\",\"color\":\"white\",\"tagName\":\"i\"},\"type\":\"warning\"},{\"background\":\"#007bff\",\"icon\":{\"className\":\"fas fa-info-circle\",\"color\":\"white\",\"tagName\":\"i\"},\"type\":\"info\"}],\"kind\":null,\"name\":\"types\"}]},{\"extends\":null,\"module\":null,\"name\":\"Notification\",\"overrides\":[],\"properties\":[{\"default\":null,\"kind\":null,\"name\":\"background\"},{\"default\":3000,\"kind\":null,\"name\":\"duration\"},{\"default\":null,\"kind\":null,\"name\":\"icon\"},{\"default\":\"\",\"kind\":null,\"name\":\"message\"},{\"default\":null,\"kind\":null,\"name\":\"notification_type\"},{\"default\":false,\"kind\":null,\"name\":\"_destroyed\"}]},{\"extends\":null,\"module\":null,\"name\":\"TemplateActions1\",\"overrides\":[],\"properties\":[{\"default\":0,\"kind\":null,\"name\":\"open_modal\"},{\"default\":0,\"kind\":null,\"name\":\"close_modal\"}]},{\"extends\":null,\"module\":null,\"name\":\"MaterialTemplateActions1\",\"overrides\":[],\"properties\":[{\"default\":0,\"kind\":null,\"name\":\"open_modal\"},{\"default\":0,\"kind\":null,\"name\":\"close_modal\"}]}],\"roots\":{\"references\":[{\"attributes\":{\"format\":\"%Y-%m-%d %H:%M:%S\"},\"id\":\"1006\",\"type\":\"DateFormatter\"},{\"attributes\":{\"columns\":[{\"id\":\"1008\"},{\"id\":\"1013\"},{\"id\":\"1018\"},{\"id\":\"1023\"},{\"id\":\"1028\"},{\"id\":\"1033\"},{\"id\":\"1038\"},{\"id\":\"1043\"},{\"id\":\"1048\"},{\"id\":\"1053\"}],\"height\":300,\"reorderable\":false,\"source\":{\"id\":\"1004\"},\"view\":{\"id\":\"1058\"},\"width\":700},\"id\":\"1056\",\"type\":\"DataTable\"},{\"attributes\":{\"source\":{\"id\":\"1004\"}},\"id\":\"1058\",\"type\":\"CDSView\"},{\"attributes\":{},\"id\":\"1007\",\"type\":\"DateEditor\"},{\"attributes\":{},\"id\":\"1005\",\"type\":\"Selection\"},{\"attributes\":{\"format\":\"0,0.0[00000]\"},\"id\":\"1011\",\"type\":\"NumberFormatter\"},{\"attributes\":{\"format\":\"0,0.0[00000]\"},\"id\":\"1051\",\"type\":\"NumberFormatter\"},{\"attributes\":{},\"id\":\"1052\",\"type\":\"NumberEditor\"},{\"attributes\":{\"format\":\"0,0.0[00000]\"},\"id\":\"1046\",\"type\":\"NumberFormatter\"},{\"attributes\":{\"editor\":{\"id\":\"1052\"},\"field\":\"PFA_Holder_Return_as_Percentage_of_Initial_Cost\",\"formatter\":{\"id\":\"1051\"},\"title\":\"PFA Holder Return as Percentage of Initial Cost\"},\"id\":\"1053\",\"type\":\"TableColumn\"},{\"attributes\":{},\"id\":\"1012\",\"type\":\"NumberEditor\"},{\"attributes\":{},\"id\":\"1017\",\"type\":\"NumberEditor\"},{\"attributes\":{\"editor\":{\"id\":\"1007\"},\"field\":\"Date\",\"formatter\":{\"id\":\"1006\"},\"title\":\"Date\"},\"id\":\"1008\",\"type\":\"TableColumn\"},{\"attributes\":{},\"id\":\"1037\",\"type\":\"NumberEditor\"},{\"attributes\":{\"format\":\"0,0.0[00000]\"},\"id\":\"1031\",\"type\":\"NumberFormatter\"},{\"attributes\":{\"editor\":{\"id\":\"1047\"},\"field\":\"Land_Title_Holders_Commission\",\"formatter\":{\"id\":\"1046\"},\"title\":\"Land Title Holders Commission\"},\"id\":\"1048\",\"type\":\"TableColumn\"},{\"attributes\":{\"editor\":{\"id\":\"1017\"},\"field\":\"Gross_Revenue\",\"formatter\":{\"id\":\"1016\"},\"title\":\"Gross Revenue\"},\"id\":\"1018\",\"type\":\"TableColumn\"},{\"attributes\":{},\"id\":\"1032\",\"type\":\"NumberEditor\"},{\"attributes\":{\"format\":\"0,0.0[00000]\"},\"id\":\"1026\",\"type\":\"NumberFormatter\"},{\"attributes\":{\"editor\":{\"id\":\"1032\"},\"field\":\"Gross_Profit\",\"formatter\":{\"id\":\"1031\"},\"title\":\"Gross Profit\"},\"id\":\"1033\",\"type\":\"TableColumn\"},{\"attributes\":{},\"id\":\"1022\",\"type\":\"NumberEditor\"},{\"attributes\":{\"format\":\"0,0.0[00000]\"},\"id\":\"1016\",\"type\":\"NumberFormatter\"},{\"attributes\":{\"editor\":{\"id\":\"1022\"},\"field\":\"Net_Revenue\",\"formatter\":{\"id\":\"1021\"},\"title\":\"Net Revenue\"},\"id\":\"1023\",\"type\":\"TableColumn\"},{\"attributes\":{},\"id\":\"1027\",\"type\":\"NumberEditor\"},{\"attributes\":{\"format\":\"0,0.0[00000]\"},\"id\":\"1021\",\"type\":\"NumberFormatter\"},{\"attributes\":{\"editor\":{\"id\":\"1042\"},\"field\":\"PFA_Commission\",\"formatter\":{\"id\":\"1041\"},\"title\":\"PFA Commission\"},\"id\":\"1043\",\"type\":\"TableColumn\"},{\"attributes\":{\"editor\":{\"id\":\"1037\"},\"field\":\"Centree_left_parenthesis_Admin_over_Commission_right_parenthesis\",\"formatter\":{\"id\":\"1036\"},\"title\":\"Centree (Admin/Commission)\"},\"id\":\"1038\",\"type\":\"TableColumn\"},{\"attributes\":{\"editor\":{\"id\":\"1027\"},\"field\":\"Stewardship_Budget\",\"formatter\":{\"id\":\"1026\"},\"title\":\"Stewardship Budget\"},\"id\":\"1028\",\"type\":\"TableColumn\"},{\"attributes\":{},\"id\":\"1059\",\"type\":\"UnionRenderers\"},{\"attributes\":{},\"id\":\"1042\",\"type\":\"NumberEditor\"},{\"attributes\":{\"editor\":{\"id\":\"1012\"},\"field\":\"Carbon_Price\",\"formatter\":{\"id\":\"1011\"},\"title\":\"Carbon Price\"},\"id\":\"1013\",\"type\":\"TableColumn\"},{\"attributes\":{\"format\":\"0,0.0[00000]\"},\"id\":\"1036\",\"type\":\"NumberFormatter\"},{\"attributes\":{\"children\":[{\"id\":\"1056\"}],\"height\":300,\"margin\":[0,0,0,0],\"min_height\":300,\"min_width\":700,\"name\":\"Row01011\",\"tags\":[\"embedded\"],\"width\":700},\"id\":\"1003\",\"type\":\"Row\"},{\"attributes\":{\"format\":\"0,0.0[00000]\"},\"id\":\"1041\",\"type\":\"NumberFormatter\"},{\"attributes\":{\"data\":{\"Carbon_Price\":{\"__ndarray__\":\"AAAAAAAAPUDMzMzMzKxAQITrUbgeLUNAcmiR7XwNRkCCns2qT1xJQK/c0mooKk1ASqWfcArFUECvl7c0/0hTQNVUBuOLLVZAKHt6qy2BWUA=\",\"dtype\":\"float64\",\"order\":\"little\",\"shape\":[10]},\"Centree_left_parenthesis_Admin_over_Commission_right_parenthesis\":{\"__ndarray__\":\"grdAgnLS5UB3EDtT3D7qQEM2kC44a+9Ayq/VZPy68kA6ttDtIEH2QNK7M1NPXPpA5AGbB+oj/0D5qvOadFkCQZB3d/IylAVBEgVKCx1UCUE=\",\"dtype\":\"float64\",\"order\":\"little\",\"shape\":[10]},\"Date\":{\"__ndarray__\":\"zTyC0wXMeELNPAJM00F5Qs08wl5Ot3lCzTyCccksekLNPEKERKJ6Qs08wvwRGHtCzTyCD42Ne0LNPEIiCAN8Qs08AjWDeHxCzTyCrVDufEI=\",\"dtype\":\"float64\",\"order\":\"little\",\"shape\":[10]},\"Gross_Profit\":{\"__ndarray__\":\"l0OLbF8vEkG5jQbwDN8VQTgteNGuLhpBp88OqKQ3H0Hbl9hwm4siQdpxAHCX9yVBlIFWBkPzKUFKcuusF5UuQfg4Dsp/+zFBj1loiW0bNUE=\",\"dtype\":\"float64\",\"order\":\"little\",\"shape\":[10]},\"Gross_Revenue\":{\"__ndarray__\":\"PgrXo19aI0GTGASWh0EmQamCUbkomClBdonqoftuLUEJDxp9newwQUuRd+mBdjNBSBrjMuJhNkEGK4W6Xb05Qd9XTGPFmT1BVH/l5TcFQUE=\",\"dtype\":\"float64\",\"order\":\"little\",\"shape\":[10]},\"Land_Title_Holders_Commission\":{\"__ndarray__\":\"TVmGOCLq/kCqK59lMZcCQW8mpstHQQZBtGPZjuWICkEnAj2m7oYPQWD6mYUNrBJBVyFjxcUOFkGMhy6Guv4ZQQyUftfykR5B7Rj/5+nwIUE=\",\"dtype\":\"float64\",\"order\":\"little\",\"shape\":[10]},\"Net_Revenue\":{\"__ndarray__\":\"l0OLbP/2HkF24JwRBs4hQe7O2i26eSRB+G2IgfyLJ0EPGJAuLxQrQUW1JQ8DJC9BoK61KOjnMUE479Aufpc0QYB5o4I3rjdBussIo4w7O0E=\",\"dtype\":\"float64\",\"order\":\"little\",\"shape\":[10]},\"PFA_Commission\":{\"__ndarray__\":\"TVmGOCLq/kCqK59lMZcCQW8mpstHQQZBtGPZjuWICkEnAj2m7oYPQWD6mYUNrBJBVyFjxcUOFkGMhy6Guv4ZQQyUftfykR5B7Rj/5+nwIUE=\",\"dtype\":\"float64\",\"order\":\"little\",\"shape\":[10]},\"PFA_Holder_Return_as_Percentage_of_Initial_Cost\":{\"__ndarray__\":\"Vr9g1J/KpD/ZPfgQjwGpP8Hk7MVf760/JbNXRorYsT/z5j8kFDS1P14VagieHbk/DlHerm+rvT8iwXWanXvBP7vIV9VQj8Q/CkQt0eUhyD8=\",\"dtype\":\"float64\",\"order\":\"little\",\"shape\":[10]},\"Stewardship_Budget\":{\"__ndarray__\":\"AAAAAECPCUFmZmZm/nkLQUfhehSLiQ1BkhgEtqjAD0FoAG97JxERQdaGSj7XWBJBWbcplhq5E0FM2GxhyTMVQR8CVeLeyhZBrciBZnyAGEE=\",\"dtype\":\"float64\",\"order\":\"little\",\"shape\":[10]}},\"selected\":{\"id\":\"1005\"},\"selection_policy\":{\"id\":\"1059\"}},\"id\":\"1004\",\"type\":\"ColumnDataSource\"},{\"attributes\":{},\"id\":\"1047\",\"type\":\"NumberEditor\"}],\"root_ids\":[\"1003\"]},\"title\":\"Bokeh Application\",\"version\":\"2.4.3\"}};\n",
       "    var render_items = [{\"docid\":\"94053f23-d138-4fa5-b2ee-840da02baa8e\",\"root_ids\":[\"1003\"],\"roots\":{\"1003\":\"90f1c55b-b2c9-4eb4-8864-dc75c0bba4a8\"}}];\n",
       "    root.Bokeh.embed.embed_items_notebook(docs_json, render_items);\n",
       "    for (const render_item of render_items) {\n",
       "      for (const root_id of render_item.root_ids) {\n",
       "\tconst id_el = document.getElementById(root_id)\n",
       "\tif (id_el.children.length && (id_el.children[0].className === 'bk-root')) {\n",
       "\t  const root_el = id_el.children[0]\n",
       "\t  root_el.id = root_el.id + '-rendered'\n",
       "\t}\n",
       "      }\n",
       "    }\n",
       "  }\n",
       "  if (root.Bokeh !== undefined && root.Bokeh.Panel !== undefined) {\n",
       "    embed_document(root);\n",
       "  } else {\n",
       "    var attempts = 0;\n",
       "    var timer = setInterval(function(root) {\n",
       "      if (root.Bokeh !== undefined && root.Bokeh.Panel !== undefined) {\n",
       "        clearInterval(timer);\n",
       "        embed_document(root);\n",
       "      } else if (document.readyState == \"complete\") {\n",
       "        attempts++;\n",
       "        if (attempts > 200) {\n",
       "          clearInterval(timer);\n",
       "          console.log(\"Bokeh: ERROR: Unable to run BokehJS code because BokehJS library is missing\");\n",
       "        }\n",
       "      }\n",
       "    }, 25, root)\n",
       "  }\n",
       "})(window);</script>"
      ],
      "text/plain": [
       ":Table   [Date,Carbon Price,Gross Revenue,Net Revenue,Stewardship Budget,Gross Profit,Centree (Admin/Commission),PFA Commission,Land Title Holders Commission,PFA Holder Return as Percentage of Initial Cost]"
      ]
     },
     "execution_count": 9,
     "metadata": {
      "application/vnd.holoviews_exec.v0+json": {
       "id": "1003"
      }
     },
     "output_type": "execute_result"
    }
   ],
   "source": [
    "carbon_model.view_model_table(f1)"
   ]
  },
  {
   "cell_type": "code",
   "execution_count": 10,
   "id": "961f0af2-12cb-4328-baa7-cbe370e1a932",
   "metadata": {
    "tags": []
   },
   "outputs": [
    {
     "data": {
      "application/vnd.holoviews_exec.v0+json": "",
      "text/html": [
       "<div id='1072'>\n",
       "  <div class=\"bk-root\" id=\"2588c8fb-46c2-48e6-8138-4ea04d4e20fb\" data-root-id=\"1072\"></div>\n",
       "</div>\n",
       "<script type=\"application/javascript\">(function(root) {\n",
       "  function embed_document(root) {\n",
       "    var docs_json = {\"33eff943-d806-45ce-bdfa-afc7ca14c537\":{\"defs\":[{\"extends\":null,\"module\":null,\"name\":\"ReactiveHTML1\",\"overrides\":[],\"properties\":[]},{\"extends\":null,\"module\":null,\"name\":\"FlexBox1\",\"overrides\":[],\"properties\":[{\"default\":\"flex-start\",\"kind\":null,\"name\":\"align_content\"},{\"default\":\"flex-start\",\"kind\":null,\"name\":\"align_items\"},{\"default\":\"row\",\"kind\":null,\"name\":\"flex_direction\"},{\"default\":\"wrap\",\"kind\":null,\"name\":\"flex_wrap\"},{\"default\":\"flex-start\",\"kind\":null,\"name\":\"justify_content\"}]},{\"extends\":null,\"module\":null,\"name\":\"GridStack1\",\"overrides\":[],\"properties\":[{\"default\":\"warn\",\"kind\":null,\"name\":\"mode\"},{\"default\":null,\"kind\":null,\"name\":\"ncols\"},{\"default\":null,\"kind\":null,\"name\":\"nrows\"},{\"default\":true,\"kind\":null,\"name\":\"allow_resize\"},{\"default\":true,\"kind\":null,\"name\":\"allow_drag\"},{\"default\":[],\"kind\":null,\"name\":\"state\"}]},{\"extends\":null,\"module\":null,\"name\":\"click1\",\"overrides\":[],\"properties\":[{\"default\":\"\",\"kind\":null,\"name\":\"terminal_output\"},{\"default\":\"\",\"kind\":null,\"name\":\"debug_name\"},{\"default\":0,\"kind\":null,\"name\":\"clears\"}]},{\"extends\":null,\"module\":null,\"name\":\"NotificationAreaBase1\",\"overrides\":[],\"properties\":[{\"default\":\"bottom-right\",\"kind\":null,\"name\":\"position\"},{\"default\":0,\"kind\":null,\"name\":\"_clear\"}]},{\"extends\":null,\"module\":null,\"name\":\"NotificationArea1\",\"overrides\":[],\"properties\":[{\"default\":[],\"kind\":null,\"name\":\"notifications\"},{\"default\":\"bottom-right\",\"kind\":null,\"name\":\"position\"},{\"default\":0,\"kind\":null,\"name\":\"_clear\"},{\"default\":[{\"background\":\"#ffc107\",\"icon\":{\"className\":\"fas fa-exclamation-triangle\",\"color\":\"white\",\"tagName\":\"i\"},\"type\":\"warning\"},{\"background\":\"#007bff\",\"icon\":{\"className\":\"fas fa-info-circle\",\"color\":\"white\",\"tagName\":\"i\"},\"type\":\"info\"}],\"kind\":null,\"name\":\"types\"}]},{\"extends\":null,\"module\":null,\"name\":\"Notification\",\"overrides\":[],\"properties\":[{\"default\":null,\"kind\":null,\"name\":\"background\"},{\"default\":3000,\"kind\":null,\"name\":\"duration\"},{\"default\":null,\"kind\":null,\"name\":\"icon\"},{\"default\":\"\",\"kind\":null,\"name\":\"message\"},{\"default\":null,\"kind\":null,\"name\":\"notification_type\"},{\"default\":false,\"kind\":null,\"name\":\"_destroyed\"}]},{\"extends\":null,\"module\":null,\"name\":\"TemplateActions1\",\"overrides\":[],\"properties\":[{\"default\":0,\"kind\":null,\"name\":\"open_modal\"},{\"default\":0,\"kind\":null,\"name\":\"close_modal\"}]},{\"extends\":null,\"module\":null,\"name\":\"MaterialTemplateActions1\",\"overrides\":[],\"properties\":[{\"default\":0,\"kind\":null,\"name\":\"open_modal\"},{\"default\":0,\"kind\":null,\"name\":\"close_modal\"}]}],\"roots\":{\"references\":[{\"attributes\":{\"format\":\"0,0.0[00000]\"},\"id\":\"1105\",\"type\":\"NumberFormatter\"},{\"attributes\":{\"editor\":{\"id\":\"1111\"},\"field\":\"PFA_Commission\",\"formatter\":{\"id\":\"1110\"},\"title\":\"PFA Commission\"},\"id\":\"1112\",\"type\":\"TableColumn\"},{\"attributes\":{},\"id\":\"1116\",\"type\":\"NumberEditor\"},{\"attributes\":{\"format\":\"0,0.0[00000]\"},\"id\":\"1110\",\"type\":\"NumberFormatter\"},{\"attributes\":{\"editor\":{\"id\":\"1116\"},\"field\":\"Land_Title_Holders_Commission\",\"formatter\":{\"id\":\"1115\"},\"title\":\"Land Title Holders Commission\"},\"id\":\"1117\",\"type\":\"TableColumn\"},{\"attributes\":{},\"id\":\"1121\",\"type\":\"NumberEditor\"},{\"attributes\":{\"format\":\"0,0.0[00000]\"},\"id\":\"1115\",\"type\":\"NumberFormatter\"},{\"attributes\":{\"editor\":{\"id\":\"1121\"},\"field\":\"PFA_Holder_Return_as_Percentage_of_Initial_Cost\",\"formatter\":{\"id\":\"1120\"},\"title\":\"PFA Holder Return as Percentage of Initial Cost\"},\"id\":\"1122\",\"type\":\"TableColumn\"},{\"attributes\":{},\"id\":\"1128\",\"type\":\"UnionRenderers\"},{\"attributes\":{\"format\":\"0,0.0[00000]\"},\"id\":\"1120\",\"type\":\"NumberFormatter\"},{\"attributes\":{\"source\":{\"id\":\"1073\"}},\"id\":\"1127\",\"type\":\"CDSView\"},{\"attributes\":{\"format\":\"%Y-%m-%d %H:%M:%S\"},\"id\":\"1075\",\"type\":\"DateFormatter\"},{\"attributes\":{\"children\":[{\"id\":\"1125\"}],\"height\":300,\"margin\":[0,0,0,0],\"min_height\":300,\"min_width\":700,\"name\":\"Row01094\",\"tags\":[\"embedded\"],\"width\":700},\"id\":\"1072\",\"type\":\"Row\"},{\"attributes\":{},\"id\":\"1081\",\"type\":\"NumberEditor\"},{\"attributes\":{},\"id\":\"1074\",\"type\":\"Selection\"},{\"attributes\":{\"format\":\"0,0.0[00000]\"},\"id\":\"1080\",\"type\":\"NumberFormatter\"},{\"attributes\":{},\"id\":\"1086\",\"type\":\"NumberEditor\"},{\"attributes\":{},\"id\":\"1076\",\"type\":\"DateEditor\"},{\"attributes\":{\"columns\":[{\"id\":\"1077\"},{\"id\":\"1082\"},{\"id\":\"1087\"},{\"id\":\"1092\"},{\"id\":\"1097\"},{\"id\":\"1102\"},{\"id\":\"1107\"},{\"id\":\"1112\"},{\"id\":\"1117\"},{\"id\":\"1122\"}],\"height\":300,\"reorderable\":false,\"source\":{\"id\":\"1073\"},\"view\":{\"id\":\"1127\"},\"width\":700},\"id\":\"1125\",\"type\":\"DataTable\"},{\"attributes\":{\"editor\":{\"id\":\"1081\"},\"field\":\"Carbon_Price\",\"formatter\":{\"id\":\"1080\"},\"title\":\"Carbon Price\"},\"id\":\"1082\",\"type\":\"TableColumn\"},{\"attributes\":{\"editor\":{\"id\":\"1076\"},\"field\":\"Date\",\"formatter\":{\"id\":\"1075\"},\"title\":\"Date\"},\"id\":\"1077\",\"type\":\"TableColumn\"},{\"attributes\":{},\"id\":\"1096\",\"type\":\"NumberEditor\"},{\"attributes\":{\"editor\":{\"id\":\"1086\"},\"field\":\"Gross_Revenue\",\"formatter\":{\"id\":\"1085\"},\"title\":\"Gross Revenue\"},\"id\":\"1087\",\"type\":\"TableColumn\"},{\"attributes\":{\"format\":\"0,0.0[00000]\"},\"id\":\"1085\",\"type\":\"NumberFormatter\"},{\"attributes\":{},\"id\":\"1091\",\"type\":\"NumberEditor\"},{\"attributes\":{\"editor\":{\"id\":\"1091\"},\"field\":\"Net_Revenue\",\"formatter\":{\"id\":\"1090\"},\"title\":\"Net Revenue\"},\"id\":\"1092\",\"type\":\"TableColumn\"},{\"attributes\":{\"format\":\"0,0.0[00000]\"},\"id\":\"1090\",\"type\":\"NumberFormatter\"},{\"attributes\":{\"editor\":{\"id\":\"1096\"},\"field\":\"Stewardship_Budget\",\"formatter\":{\"id\":\"1095\"},\"title\":\"Stewardship Budget\"},\"id\":\"1097\",\"type\":\"TableColumn\"},{\"attributes\":{},\"id\":\"1101\",\"type\":\"NumberEditor\"},{\"attributes\":{\"format\":\"0,0.0[00000]\"},\"id\":\"1095\",\"type\":\"NumberFormatter\"},{\"attributes\":{\"editor\":{\"id\":\"1101\"},\"field\":\"Gross_Profit\",\"formatter\":{\"id\":\"1100\"},\"title\":\"Gross Profit\"},\"id\":\"1102\",\"type\":\"TableColumn\"},{\"attributes\":{},\"id\":\"1106\",\"type\":\"NumberEditor\"},{\"attributes\":{\"format\":\"0,0.0[00000]\"},\"id\":\"1100\",\"type\":\"NumberFormatter\"},{\"attributes\":{\"editor\":{\"id\":\"1106\"},\"field\":\"Centree_left_parenthesis_Admin_over_Commission_right_parenthesis\",\"formatter\":{\"id\":\"1105\"},\"title\":\"Centree (Admin/Commission)\"},\"id\":\"1107\",\"type\":\"TableColumn\"},{\"attributes\":{\"data\":{\"Carbon_Price\":{\"__ndarray__\":\"AAAAAAAAPUDMzMzMzKxAQITrUbgeLUNAcmiR7XwNRkCCns2qT1xJQK/c0mooKk1ASqWfcArFUECvl7c0/0hTQNVUBuOLLVZAKHt6qy2BWUA=\",\"dtype\":\"float64\",\"order\":\"little\",\"shape\":[10]},\"Centree_left_parenthesis_Admin_over_Commission_right_parenthesis\":{\"__ndarray__\":\"mW4SgxhD8kDSb18H+i72QHCPpc8iyPpAqjEhQiIVAEFXPZZ3rDoDQeavcm0k5wZB5ZopFNYvC0GGedG5qRYQQRLY3PP5/RJBp6fqRzNeFkE=\",\"dtype\":\"float64\",\"order\":\"little\",\"shape\":[10]},\"Date\":{\"__ndarray__\":\"ruuF0wXMeEKu6wVM00F5Qq7rxV5Ot3lCruuFccksekKu60WERKJ6Qq7rxfwRGHtCruuFD42Ne0Ku60UiCAN8Qq7rBTWDeHxCruuFrVDufEI=\",\"dtype\":\"float64\",\"order\":\"little\",\"shape\":[10]},\"Gross_Profit\":{\"__ndarray__\":\"VLgehdNvHkEv3SQGe3wiQTOitFdyUSZBG6iMw+PNKkHJ3adjOgYwQUA9irDzFTNBalbNEN2nNkE1dbI1cNA6QXS9GkFLpz9BC+GYZtWjQkE=\",\"dtype\":\"float64\",\"order\":\"little\",\"shape\":[10]},\"Gross_Revenue\":{\"__ndarray__\":\"mpmZGXO4MUE9CtfD6mA0QcZLN2F0bzdB8WPMb1/zOkGHDCtaR/4+Qc3A2NM10kFBhaqfs4p+REHm0CrohZFHQTpwZDGNGktBQrRmklUrT0E=\",\"dtype\":\"float64\",\"order\":\"little\",\"shape\":[10]},\"Land_Title_Holders_Commission\":{\"__ndarray__\":\"rhxaZA3fCUFp3nGKN20PQUXwv/1t+BJBsFsEM5vIFkE8LGqpyT0bQUPn2yIPOSBBDSNITuJBI0HTFj7HxcomQW+HI8TM5ypBLBg3+x2wL0E=\",\"dtype\":\"float64\",\"order\":\"little\",\"shape\":[10]},\"Net_Revenue\":{\"__ndarray__\":\"KlyPwlFaLEExCKyciE0wQTjWxU2QvzJBKIOjjH+PNUFscCJIbMs4Qa9n9FKJgzxBBCLmwjtlQEEfp4iG0dpCQS/AtlrXrkVBzylSqHfvSEE=\",\"dtype\":\"float64\",\"order\":\"little\",\"shape\":[10]},\"PFA_Commission\":{\"__ndarray__\":\"rhxaZA3fCUFp3nGKN20PQUXwv/1t+BJBsFsEM5vIFkE8LGqpyT0bQUPn2yIPOSBBDSNITuJBI0HTFj7HxcomQW+HI8TM5ypBLBg3+x2wL0E=\",\"dtype\":\"float64\",\"order\":\"little\",\"shape\":[10]},\"PFA_Holder_Return_as_Percentage_of_Initial_Cost\":{\"__ndarray__\":\"51IjVPKtoT9YNTUBzXmlP1U9tsFn7ak/2XbBD5Ijrz+x3GNHoJ2yP5bt0ksXLLY/Mi7aFsxRuj/D+MkEiCa/P4tP9nzdYsI/OaMUk4SnxT8=\",\"dtype\":\"float64\",\"order\":\"little\",\"shape\":[10]},\"Stewardship_Budget\":{\"__ndarray__\":\"AAAAANBEGkFmZmZmLD0cQXoUrodcWx5BNV66VRtRIEFGJfXIY4ohQd1U1EQr2yJBO9v96TRFJEESsr2uZcolQdOFpejGbCdBDyPlBokuKUE=\",\"dtype\":\"float64\",\"order\":\"little\",\"shape\":[10]}},\"selected\":{\"id\":\"1074\"},\"selection_policy\":{\"id\":\"1128\"}},\"id\":\"1073\",\"type\":\"ColumnDataSource\"},{\"attributes\":{},\"id\":\"1111\",\"type\":\"NumberEditor\"}],\"root_ids\":[\"1072\"]},\"title\":\"Bokeh Application\",\"version\":\"2.4.3\"}};\n",
       "    var render_items = [{\"docid\":\"33eff943-d806-45ce-bdfa-afc7ca14c537\",\"root_ids\":[\"1072\"],\"roots\":{\"1072\":\"2588c8fb-46c2-48e6-8138-4ea04d4e20fb\"}}];\n",
       "    root.Bokeh.embed.embed_items_notebook(docs_json, render_items);\n",
       "    for (const render_item of render_items) {\n",
       "      for (const root_id of render_item.root_ids) {\n",
       "\tconst id_el = document.getElementById(root_id)\n",
       "\tif (id_el.children.length && (id_el.children[0].className === 'bk-root')) {\n",
       "\t  const root_el = id_el.children[0]\n",
       "\t  root_el.id = root_el.id + '-rendered'\n",
       "\t}\n",
       "      }\n",
       "    }\n",
       "  }\n",
       "  if (root.Bokeh !== undefined && root.Bokeh.Panel !== undefined) {\n",
       "    embed_document(root);\n",
       "  } else {\n",
       "    var attempts = 0;\n",
       "    var timer = setInterval(function(root) {\n",
       "      if (root.Bokeh !== undefined && root.Bokeh.Panel !== undefined) {\n",
       "        clearInterval(timer);\n",
       "        embed_document(root);\n",
       "      } else if (document.readyState == \"complete\") {\n",
       "        attempts++;\n",
       "        if (attempts > 200) {\n",
       "          clearInterval(timer);\n",
       "          console.log(\"Bokeh: ERROR: Unable to run BokehJS code because BokehJS library is missing\");\n",
       "        }\n",
       "      }\n",
       "    }, 25, root)\n",
       "  }\n",
       "})(window);</script>"
      ],
      "text/plain": [
       ":Table   [Date,Carbon Price,Gross Revenue,Net Revenue,Stewardship Budget,Gross Profit,Centree (Admin/Commission),PFA Commission,Land Title Holders Commission,PFA Holder Return as Percentage of Initial Cost]"
      ]
     },
     "execution_count": 10,
     "metadata": {
      "application/vnd.holoviews_exec.v0+json": {
       "id": "1072"
      }
     },
     "output_type": "execute_result"
    }
   ],
   "source": [
    "carbon_model.view_model_table(f2)"
   ]
  },
  {
   "cell_type": "code",
   "execution_count": 11,
   "id": "d2c20b3f-6ca8-4bf2-a3c7-6984e9cde36d",
   "metadata": {
    "tags": []
   },
   "outputs": [
    {
     "data": {},
     "metadata": {},
     "output_type": "display_data"
    },
    {
     "data": {},
     "metadata": {},
     "output_type": "display_data"
    },
    {
     "data": {
      "application/vnd.holoviews_exec.v0+json": "",
      "text/html": [
       "<div id='1141'>\n",
       "  <div class=\"bk-root\" id=\"45c0c8ec-b08f-427d-a420-12d8d3e01d7b\" data-root-id=\"1141\"></div>\n",
       "</div>\n",
       "<script type=\"application/javascript\">(function(root) {\n",
       "  function embed_document(root) {\n",
       "    var docs_json = {\"68e6636d-fc38-43c5-a8f1-cf524b097d44\":{\"defs\":[{\"extends\":null,\"module\":null,\"name\":\"ReactiveHTML1\",\"overrides\":[],\"properties\":[]},{\"extends\":null,\"module\":null,\"name\":\"FlexBox1\",\"overrides\":[],\"properties\":[{\"default\":\"flex-start\",\"kind\":null,\"name\":\"align_content\"},{\"default\":\"flex-start\",\"kind\":null,\"name\":\"align_items\"},{\"default\":\"row\",\"kind\":null,\"name\":\"flex_direction\"},{\"default\":\"wrap\",\"kind\":null,\"name\":\"flex_wrap\"},{\"default\":\"flex-start\",\"kind\":null,\"name\":\"justify_content\"}]},{\"extends\":null,\"module\":null,\"name\":\"GridStack1\",\"overrides\":[],\"properties\":[{\"default\":\"warn\",\"kind\":null,\"name\":\"mode\"},{\"default\":null,\"kind\":null,\"name\":\"ncols\"},{\"default\":null,\"kind\":null,\"name\":\"nrows\"},{\"default\":true,\"kind\":null,\"name\":\"allow_resize\"},{\"default\":true,\"kind\":null,\"name\":\"allow_drag\"},{\"default\":[],\"kind\":null,\"name\":\"state\"}]},{\"extends\":null,\"module\":null,\"name\":\"click1\",\"overrides\":[],\"properties\":[{\"default\":\"\",\"kind\":null,\"name\":\"terminal_output\"},{\"default\":\"\",\"kind\":null,\"name\":\"debug_name\"},{\"default\":0,\"kind\":null,\"name\":\"clears\"}]},{\"extends\":null,\"module\":null,\"name\":\"NotificationAreaBase1\",\"overrides\":[],\"properties\":[{\"default\":\"bottom-right\",\"kind\":null,\"name\":\"position\"},{\"default\":0,\"kind\":null,\"name\":\"_clear\"}]},{\"extends\":null,\"module\":null,\"name\":\"NotificationArea1\",\"overrides\":[],\"properties\":[{\"default\":[],\"kind\":null,\"name\":\"notifications\"},{\"default\":\"bottom-right\",\"kind\":null,\"name\":\"position\"},{\"default\":0,\"kind\":null,\"name\":\"_clear\"},{\"default\":[{\"background\":\"#ffc107\",\"icon\":{\"className\":\"fas fa-exclamation-triangle\",\"color\":\"white\",\"tagName\":\"i\"},\"type\":\"warning\"},{\"background\":\"#007bff\",\"icon\":{\"className\":\"fas fa-info-circle\",\"color\":\"white\",\"tagName\":\"i\"},\"type\":\"info\"}],\"kind\":null,\"name\":\"types\"}]},{\"extends\":null,\"module\":null,\"name\":\"Notification\",\"overrides\":[],\"properties\":[{\"default\":null,\"kind\":null,\"name\":\"background\"},{\"default\":3000,\"kind\":null,\"name\":\"duration\"},{\"default\":null,\"kind\":null,\"name\":\"icon\"},{\"default\":\"\",\"kind\":null,\"name\":\"message\"},{\"default\":null,\"kind\":null,\"name\":\"notification_type\"},{\"default\":false,\"kind\":null,\"name\":\"_destroyed\"}]},{\"extends\":null,\"module\":null,\"name\":\"TemplateActions1\",\"overrides\":[],\"properties\":[{\"default\":0,\"kind\":null,\"name\":\"open_modal\"},{\"default\":0,\"kind\":null,\"name\":\"close_modal\"}]},{\"extends\":null,\"module\":null,\"name\":\"MaterialTemplateActions1\",\"overrides\":[],\"properties\":[{\"default\":0,\"kind\":null,\"name\":\"open_modal\"},{\"default\":0,\"kind\":null,\"name\":\"close_modal\"}]}],\"roots\":{\"references\":[{\"attributes\":{},\"id\":\"1239\",\"type\":\"UnionRenderers\"},{\"attributes\":{\"line_alpha\":0.2,\"line_color\":\"#1f77b4\",\"line_width\":2,\"x\":{\"field\":\"Date\"},\"y\":{\"field\":\"value\"}},\"id\":\"1507\",\"type\":\"Line\"},{\"attributes\":{\"source\":{\"id\":\"1502\"}},\"id\":\"1509\",\"type\":\"CDSView\"},{\"attributes\":{\"data\":{\"Date\":{\"__ndarray__\":\"9qqI0wXMeEL2qghM00F5QvaqyF5Ot3lC9qqIccksekL2qkiERKJ6QvaqyPwRGHtC9qqID42Ne0L2qkgiCAN8QvaqCDWDeHxC9qqIrVDufEI=\",\"dtype\":\"float64\",\"order\":\"little\",\"shape\":[10]},\"Variable\":[\"Centree (Admin/Commission)\",\"Centree (Admin/Commission)\",\"Centree (Admin/Commission)\",\"Centree (Admin/Commission)\",\"Centree (Admin/Commission)\",\"Centree (Admin/Commission)\",\"Centree (Admin/Commission)\",\"Centree (Admin/Commission)\",\"Centree (Admin/Commission)\",\"Centree (Admin/Commission)\"],\"value\":{\"__ndarray__\":\"Kv6+2nI18T8ScmcVZFLzP2c+GOhOFfU/OGPKml/f+z+Ir5/PYE8AQDzO1JrdzwFAjk1ApnMUBkDbknbMQvUKQLEM9zRrxA9A9ksKtuduEkA=\",\"dtype\":\"float64\",\"order\":\"little\",\"shape\":[10]}},\"selected\":{\"id\":\"1371\"},\"selection_policy\":{\"id\":\"1395\"}},\"id\":\"1370\",\"type\":\"ColumnDataSource\"},{\"attributes\":{\"source\":{\"id\":\"1370\"}},\"id\":\"1377\",\"type\":\"CDSView\"},{\"attributes\":{\"label\":{\"value\":\"PFA Holder Return as Percentage of Initial Cost\"},\"renderers\":[{\"id\":\"1508\"}]},\"id\":\"1548\",\"type\":\"LegendItem\"},{\"attributes\":{\"coordinates\":null,\"data_source\":{\"id\":\"1370\"},\"glyph\":{\"id\":\"1373\"},\"group\":null,\"hover_glyph\":null,\"muted_glyph\":{\"id\":\"1375\"},\"nonselection_glyph\":{\"id\":\"1374\"},\"selection_glyph\":{\"id\":\"1411\"},\"view\":{\"id\":\"1377\"}},\"id\":\"1376\",\"type\":\"GlyphRenderer\"},{\"attributes\":{\"line_color\":\"#1f77b4\",\"line_width\":2,\"x\":{\"field\":\"Date\"},\"y\":{\"field\":\"value\"}},\"id\":\"1549\",\"type\":\"Line\"},{\"attributes\":{\"line_alpha\":0.1,\"line_color\":\"#6d904f\",\"line_width\":2,\"x\":{\"field\":\"Date\"},\"y\":{\"field\":\"value\"}},\"id\":\"1296\",\"type\":\"Line\"},{\"attributes\":{\"data\":{\"Date\":{\"__ndarray__\":\"9qqI0wXMeEL2qghM00F5QvaqyF5Ot3lC9qqIccksekL2qkiERKJ6QvaqyPwRGHtC9qqID42Ne0L2qkgiCAN8QvaqCDWDeHxC9qqIrVDufEI=\",\"dtype\":\"float64\",\"order\":\"little\",\"shape\":[10]},\"Variable\":[\"Carbon Price\",\"Carbon Price\",\"Carbon Price\",\"Carbon Price\",\"Carbon Price\",\"Carbon Price\",\"Carbon Price\",\"Carbon Price\",\"Carbon Price\",\"Carbon Price\"],\"value\":{\"__ndarray__\":\"mOFDODcV7z9NmvyB3UHxP576FhznL/U/riuiy9lo9z9kE8ACrJz8PxpNr8IQsv8/HFCUsfRHA0CitkBykrMEQMpXvUrOSghAOKgbsM+oC0A=\",\"dtype\":\"float64\",\"order\":\"little\",\"shape\":[10]}},\"selected\":{\"id\":\"1190\"},\"selection_policy\":{\"id\":\"1204\"}},\"id\":\"1189\",\"type\":\"ColumnDataSource\"},{\"attributes\":{\"line_color\":\"#17becf\",\"line_width\":2,\"x\":{\"field\":\"Date\"},\"y\":{\"field\":\"value\"}},\"id\":\"1373\",\"type\":\"Line\"},{\"attributes\":{\"line_alpha\":0.1,\"line_color\":\"#30a2da\",\"line_width\":2,\"x\":{\"field\":\"Date\"},\"y\":{\"field\":\"value\"}},\"id\":\"1193\",\"type\":\"Line\"},{\"attributes\":{\"line_alpha\":0.1,\"line_color\":\"#17becf\",\"line_width\":2,\"x\":{\"field\":\"Date\"},\"y\":{\"field\":\"value\"}},\"id\":\"1374\",\"type\":\"Line\"},{\"attributes\":{\"line_alpha\":0.2,\"line_color\":\"#e5ae38\",\"line_width\":2,\"x\":{\"field\":\"Date\"},\"y\":{\"field\":\"value\"}},\"id\":\"1261\",\"type\":\"Line\"},{\"attributes\":{\"coordinates\":null,\"data_source\":{\"id\":\"1189\"},\"glyph\":{\"id\":\"1192\"},\"group\":null,\"hover_glyph\":null,\"muted_glyph\":{\"id\":\"1194\"},\"nonselection_glyph\":{\"id\":\"1193\"},\"selection_glyph\":{\"id\":\"1221\"},\"view\":{\"id\":\"1196\"}},\"id\":\"1195\",\"type\":\"GlyphRenderer\"},{\"attributes\":{},\"id\":\"1395\",\"type\":\"UnionRenderers\"},{\"attributes\":{},\"id\":\"1218\",\"type\":\"YearsTicker\"},{\"attributes\":{\"line_color\":\"#fc4f30\",\"line_width\":2,\"x\":{\"field\":\"Date\"},\"y\":{\"field\":\"value\"}},\"id\":\"1255\",\"type\":\"Line\"},{\"attributes\":{\"line_color\":\"#17becf\",\"line_width\":2,\"x\":{\"field\":\"Date\"},\"y\":{\"field\":\"value\"}},\"id\":\"1411\",\"type\":\"Line\"},{\"attributes\":{},\"id\":\"1204\",\"type\":\"UnionRenderers\"},{\"attributes\":{\"coordinates\":null,\"data_source\":{\"id\":\"1502\"},\"glyph\":{\"id\":\"1505\"},\"group\":null,\"hover_glyph\":null,\"muted_glyph\":{\"id\":\"1507\"},\"nonselection_glyph\":{\"id\":\"1506\"},\"selection_glyph\":{\"id\":\"1549\"},\"view\":{\"id\":\"1509\"}},\"id\":\"1508\",\"type\":\"GlyphRenderer\"},{\"attributes\":{},\"id\":\"1257\",\"type\":\"Selection\"},{\"attributes\":{\"label\":{\"value\":\"Centree (Admin/Commission)\"},\"renderers\":[{\"id\":\"1376\"}]},\"id\":\"1410\",\"type\":\"LegendItem\"},{\"attributes\":{\"line_alpha\":0.1,\"line_color\":\"#e5ae38\",\"line_width\":2,\"x\":{\"field\":\"Date\"},\"y\":{\"field\":\"value\"}},\"id\":\"1260\",\"type\":\"Line\"},{\"attributes\":{\"line_color\":\"#e5ae38\",\"line_width\":2,\"x\":{\"field\":\"Date\"},\"y\":{\"field\":\"value\"}},\"id\":\"1259\",\"type\":\"Line\"},{\"attributes\":{\"line_color\":\"#30a2da\",\"line_width\":2,\"x\":{\"field\":\"Date\"},\"y\":{\"field\":\"value\"}},\"id\":\"1192\",\"type\":\"Line\"},{\"attributes\":{},\"id\":\"1275\",\"type\":\"UnionRenderers\"},{\"attributes\":{\"label\":{\"value\":\"Net Revenue\"},\"renderers\":[{\"id\":\"1262\"}]},\"id\":\"1290\",\"type\":\"LegendItem\"},{\"attributes\":{\"line_color\":\"#e5ae38\",\"line_width\":2,\"x\":{\"field\":\"Date\"},\"y\":{\"field\":\"value\"}},\"id\":\"1291\",\"type\":\"Line\"},{\"attributes\":{\"active_drag\":{\"id\":\"1171\"},\"active_scroll\":{\"id\":\"1172\"},\"tools\":[{\"id\":\"1144\"},{\"id\":\"1170\"},{\"id\":\"1171\"},{\"id\":\"1172\"},{\"id\":\"1173\"},{\"id\":\"1174\"}]},\"id\":\"1176\",\"type\":\"Toolbar\"},{\"attributes\":{\"line_alpha\":0.2,\"line_color\":\"#9467bd\",\"line_width\":2,\"x\":{\"field\":\"Date\"},\"y\":{\"field\":\"value\"}},\"id\":\"1417\",\"type\":\"Line\"},{\"attributes\":{},\"id\":\"1187\",\"type\":\"BasicTickFormatter\"},{\"attributes\":{},\"id\":\"1188\",\"type\":\"AllLabels\"},{\"attributes\":{\"line_alpha\":0.1,\"line_color\":\"#9467bd\",\"line_width\":2,\"x\":{\"field\":\"Date\"},\"y\":{\"field\":\"value\"}},\"id\":\"1416\",\"type\":\"Line\"},{\"attributes\":{\"line_alpha\":0.1,\"line_color\":\"#1f77b4\",\"line_width\":2,\"x\":{\"field\":\"Date\"},\"y\":{\"field\":\"value\"}},\"id\":\"1506\",\"type\":\"Line\"},{\"attributes\":{\"data\":{\"Date\":{\"__ndarray__\":\"9qqI0wXMeEL2qghM00F5QvaqyF5Ot3lC9qqIccksekL2qkiERKJ6QvaqyPwRGHtC9qqID42Ne0L2qkgiCAN8QvaqCDWDeHxC9qqIrVDufEI=\",\"dtype\":\"float64\",\"order\":\"little\",\"shape\":[10]},\"Variable\":[\"PFA Commission\",\"PFA Commission\",\"PFA Commission\",\"PFA Commission\",\"PFA Commission\",\"PFA Commission\",\"PFA Commission\",\"PFA Commission\",\"PFA Commission\",\"PFA Commission\"],\"value\":{\"__ndarray__\":\"5/L+P1MN7z9Fg769xp/xP4JU6PXOsfU/dpUp/SUA+T9Bl/P2wM4BQNAxl9e5twJAVgpm5g+yB0BoU6CW+oYLQH/r3EYx3Q5AOtdVHo/0EUA=\",\"dtype\":\"float64\",\"order\":\"little\",\"shape\":[10]}},\"selected\":{\"id\":\"1413\"},\"selection_policy\":{\"id\":\"1439\"}},\"id\":\"1412\",\"type\":\"ColumnDataSource\"},{\"attributes\":{},\"id\":\"1413\",\"type\":\"Selection\"},{\"attributes\":{\"line_color\":\"#9467bd\",\"line_width\":2,\"x\":{\"field\":\"Date\"},\"y\":{\"field\":\"value\"}},\"id\":\"1415\",\"type\":\"Line\"},{\"attributes\":{\"mantissas\":[1,2,5],\"max_interval\":500.0,\"num_minor_ticks\":0},\"id\":\"1207\",\"type\":\"AdaptiveTicker\"},{\"attributes\":{\"callback\":null,\"formatters\":{\"@{Date}\":\"datetime\"},\"renderers\":[{\"id\":\"1195\"},{\"id\":\"1228\"},{\"id\":\"1262\"},{\"id\":\"1298\"},{\"id\":\"1336\"},{\"id\":\"1376\"},{\"id\":\"1418\"},{\"id\":\"1462\"},{\"id\":\"1508\"}],\"tags\":[\"hv_created\"],\"tooltips\":[[\"Variable\",\"@{Variable}\"],[\"Date\",\"@{Date}{%F %T}\"],[\"value\",\"@{value}\"]]},\"id\":\"1144\",\"type\":\"HoverTool\"},{\"attributes\":{\"label\":{\"value\":\"PFA Commission\"},\"renderers\":[{\"id\":\"1418\"}]},\"id\":\"1454\",\"type\":\"LegendItem\"},{\"attributes\":{\"coordinates\":null,\"data_source\":{\"id\":\"1412\"},\"glyph\":{\"id\":\"1415\"},\"group\":null,\"hover_glyph\":null,\"muted_glyph\":{\"id\":\"1417\"},\"nonselection_glyph\":{\"id\":\"1416\"},\"selection_glyph\":{\"id\":\"1455\"},\"view\":{\"id\":\"1419\"}},\"id\":\"1418\",\"type\":\"GlyphRenderer\"},{\"attributes\":{\"base\":60,\"mantissas\":[1,2,5,10,15,20,30],\"max_interval\":1800000.0,\"min_interval\":1000.0,\"num_minor_ticks\":0},\"id\":\"1208\",\"type\":\"AdaptiveTicker\"},{\"attributes\":{\"months\":[0,2,4,6,8,10]},\"id\":\"1215\",\"type\":\"MonthsTicker\"},{\"attributes\":{\"client_comm_id\":\"b90ac4740c0c460a8591dc869229171f\",\"comm_id\":\"80edbc4e043e45c69ca62786d0761b9a\",\"plot_id\":\"1141\"},\"id\":\"1706\",\"type\":\"panel.models.comm_manager.CommManager\"},{\"attributes\":{\"below\":[{\"id\":\"1162\"}],\"center\":[{\"id\":\"1165\"},{\"id\":\"1169\"}],\"height\":340,\"left\":[{\"id\":\"1166\"}],\"margin\":[5,5,5,5],\"min_border_bottom\":10,\"min_border_left\":10,\"min_border_right\":10,\"min_border_top\":10,\"renderers\":[{\"id\":\"1195\"},{\"id\":\"1228\"},{\"id\":\"1262\"},{\"id\":\"1298\"},{\"id\":\"1336\"},{\"id\":\"1376\"},{\"id\":\"1418\"},{\"id\":\"1462\"},{\"id\":\"1508\"}],\"right\":[{\"id\":\"1219\"}],\"sizing_mode\":\"fixed\",\"title\":{\"id\":\"1154\"},\"toolbar\":{\"id\":\"1176\"},\"width\":1000,\"x_range\":{\"id\":\"1142\"},\"x_scale\":{\"id\":\"1158\"},\"y_range\":{\"id\":\"1143\"},\"y_scale\":{\"id\":\"1160\"}},\"id\":\"1153\",\"subtype\":\"Figure\",\"type\":\"Plot\"},{\"attributes\":{\"source\":{\"id\":\"1412\"}},\"id\":\"1419\",\"type\":\"CDSView\"},{\"attributes\":{\"days\":[1,8,15,22]},\"id\":\"1212\",\"type\":\"DaysTicker\"},{\"attributes\":{\"line_alpha\":0.2,\"line_color\":\"#fc4f30\",\"line_width\":2,\"x\":{\"field\":\"Date\"},\"y\":{\"field\":\"value\"}},\"id\":\"1227\",\"type\":\"Line\"},{\"attributes\":{\"line_alpha\":0.2,\"line_color\":\"#6d904f\",\"line_width\":2,\"x\":{\"field\":\"Date\"},\"y\":{\"field\":\"value\"}},\"id\":\"1297\",\"type\":\"Line\"},{\"attributes\":{\"months\":[0,6]},\"id\":\"1217\",\"type\":\"MonthsTicker\"},{\"attributes\":{\"end\":1988117584010.6848,\"reset_end\":1988117584010.6848,\"reset_start\":1704034384010.6848,\"start\":1704034384010.6848,\"tags\":[[[\"Date\",\"Date\",null]]]},\"id\":\"1142\",\"type\":\"Range1d\"},{\"attributes\":{\"base\":24,\"mantissas\":[1,2,4,6,8,12],\"max_interval\":43200000.0,\"min_interval\":3600000.0,\"num_minor_ticks\":0},\"id\":\"1209\",\"type\":\"AdaptiveTicker\"},{\"attributes\":{},\"id\":\"1158\",\"type\":\"LinearScale\"},{\"attributes\":{\"days\":[1,2,3,4,5,6,7,8,9,10,11,12,13,14,15,16,17,18,19,20,21,22,23,24,25,26,27,28,29,30,31]},\"id\":\"1210\",\"type\":\"DaysTicker\"},{\"attributes\":{\"end\":5.1927133780482055,\"reset_end\":5.1927133780482055,\"reset_start\":0.44683193711755886,\"start\":0.44683193711755886,\"tags\":[[[\"value\",\"value\",null]]]},\"id\":\"1143\",\"type\":\"Range1d\"},{\"attributes\":{},\"id\":\"1293\",\"type\":\"Selection\"},{\"attributes\":{},\"id\":\"1439\",\"type\":\"UnionRenderers\"},{\"attributes\":{\"days\":[1,4,7,10,13,16,19,22,25,28]},\"id\":\"1211\",\"type\":\"DaysTicker\"},{\"attributes\":{\"line_color\":\"#9467bd\",\"line_width\":2,\"x\":{\"field\":\"Date\"},\"y\":{\"field\":\"value\"}},\"id\":\"1455\",\"type\":\"Line\"},{\"attributes\":{\"days\":[1,15]},\"id\":\"1213\",\"type\":\"DaysTicker\"},{\"attributes\":{\"data\":{\"Date\":{\"__ndarray__\":\"9qqI0wXMeEL2qghM00F5QvaqyF5Ot3lC9qqIccksekL2qkiERKJ6QvaqyPwRGHtC9qqID42Ne0L2qkgiCAN8QvaqCDWDeHxC9qqIrVDufEI=\",\"dtype\":\"float64\",\"order\":\"little\",\"shape\":[10]},\"Variable\":[\"Stewardship Budget\",\"Stewardship Budget\",\"Stewardship Budget\",\"Stewardship Budget\",\"Stewardship Budget\",\"Stewardship Budget\",\"Stewardship Budget\",\"Stewardship Budget\",\"Stewardship Budget\",\"Stewardship Budget\"],\"value\":{\"__ndarray__\":\"JFkguW5Y7j/+GFi/rnXwPwf2QcRgW/I/btj+cpet9D/GZlryw+b3P/9+Gq3X4fk/Mn3Vj97I9T+bcTS0nr/6PzXgXC9tl/0/LpQXFmDo/D8=\",\"dtype\":\"float64\",\"order\":\"little\",\"shape\":[10]}},\"selected\":{\"id\":\"1293\"},\"selection_policy\":{\"id\":\"1313\"}},\"id\":\"1292\",\"type\":\"ColumnDataSource\"},{\"attributes\":{\"months\":[0,4,8]},\"id\":\"1216\",\"type\":\"MonthsTicker\"},{\"attributes\":{\"axis_label\":\"\",\"coordinates\":null,\"formatter\":{\"id\":\"1187\"},\"group\":null,\"major_label_policy\":{\"id\":\"1188\"},\"ticker\":{\"id\":\"1167\"}},\"id\":\"1166\",\"type\":\"LinearAxis\"},{\"attributes\":{},\"id\":\"1160\",\"type\":\"LinearScale\"},{\"attributes\":{\"line_color\":\"#6d904f\",\"line_width\":2,\"x\":{\"field\":\"Date\"},\"y\":{\"field\":\"value\"}},\"id\":\"1295\",\"type\":\"Line\"},{\"attributes\":{\"line_alpha\":0.2,\"line_color\":\"#17becf\",\"line_width\":2,\"x\":{\"field\":\"Date\"},\"y\":{\"field\":\"value\"}},\"id\":\"1375\",\"type\":\"Line\"},{\"attributes\":{\"line_color\":\"#1f77b4\",\"line_width\":2,\"x\":{\"field\":\"Date\"},\"y\":{\"field\":\"value\"}},\"id\":\"1505\",\"type\":\"Line\"},{\"attributes\":{\"coordinates\":null,\"data_source\":{\"id\":\"1292\"},\"glyph\":{\"id\":\"1295\"},\"group\":null,\"hover_glyph\":null,\"muted_glyph\":{\"id\":\"1297\"},\"nonselection_glyph\":{\"id\":\"1296\"},\"selection_glyph\":{\"id\":\"1329\"},\"view\":{\"id\":\"1299\"}},\"id\":\"1298\",\"type\":\"GlyphRenderer\"},{\"attributes\":{\"source\":{\"id\":\"1292\"}},\"id\":\"1299\",\"type\":\"CDSView\"},{\"attributes\":{\"line_color\":\"#6d904f\",\"line_width\":2,\"x\":{\"field\":\"Date\"},\"y\":{\"field\":\"value\"}},\"id\":\"1329\",\"type\":\"Line\"},{\"attributes\":{\"label\":{\"value\":\"Stewardship Budget\"},\"renderers\":[{\"id\":\"1298\"}]},\"id\":\"1328\",\"type\":\"LegendItem\"},{\"attributes\":{\"line_alpha\":0.1,\"line_color\":\"#8b8b8b\",\"line_width\":2,\"x\":{\"field\":\"Date\"},\"y\":{\"field\":\"value\"}},\"id\":\"1334\",\"type\":\"Line\"},{\"attributes\":{},\"id\":\"1313\",\"type\":\"UnionRenderers\"},{\"attributes\":{},\"id\":\"1533\",\"type\":\"UnionRenderers\"},{\"attributes\":{},\"id\":\"1185\",\"type\":\"AllLabels\"},{\"attributes\":{\"num_minor_ticks\":5,\"tickers\":[{\"id\":\"1207\"},{\"id\":\"1208\"},{\"id\":\"1209\"},{\"id\":\"1210\"},{\"id\":\"1211\"},{\"id\":\"1212\"},{\"id\":\"1213\"},{\"id\":\"1214\"},{\"id\":\"1215\"},{\"id\":\"1216\"},{\"id\":\"1217\"},{\"id\":\"1218\"}]},\"id\":\"1163\",\"type\":\"DatetimeTicker\"},{\"attributes\":{\"axis_label\":\"Date\",\"coordinates\":null,\"formatter\":{\"id\":\"1184\"},\"group\":null,\"major_label_policy\":{\"id\":\"1185\"},\"ticker\":{\"id\":\"1163\"}},\"id\":\"1162\",\"type\":\"DatetimeAxis\"},{\"attributes\":{\"coordinates\":null,\"group\":null,\"text\":\"Normalized Growth Projections of Carbon Revenue\",\"text_color\":\"black\",\"text_font_size\":\"12pt\"},\"id\":\"1154\",\"type\":\"Title\"},{\"attributes\":{\"data\":{\"Date\":{\"__ndarray__\":\"9qqI0wXMeEL2qghM00F5QvaqyF5Ot3lC9qqIccksekL2qkiERKJ6QvaqyPwRGHtC9qqID42Ne0L2qkgiCAN8QvaqCDWDeHxC9qqIrVDufEI=\",\"dtype\":\"float64\",\"order\":\"little\",\"shape\":[10]},\"Variable\":[\"Land Title Holders Commission\",\"Land Title Holders Commission\",\"Land Title Holders Commission\",\"Land Title Holders Commission\",\"Land Title Holders Commission\",\"Land Title Holders Commission\",\"Land Title Holders Commission\",\"Land Title Holders Commission\",\"Land Title Holders Commission\",\"Land Title Holders Commission\"],\"value\":{\"__ndarray__\":\"0jnZcw/C6z/+j8R88FPyP3J8nhYzXPQ/us7kRyUi/D8/RX+p1vAAQCkZ59TE1wNAI6gdEcWQBkDBW1eAAZsKQJh7B2CrYA1Apw+iaUUME0A=\",\"dtype\":\"float64\",\"order\":\"little\",\"shape\":[10]}},\"selected\":{\"id\":\"1457\"},\"selection_policy\":{\"id\":\"1485\"}},\"id\":\"1456\",\"type\":\"ColumnDataSource\"},{\"attributes\":{},\"id\":\"1171\",\"type\":\"PanTool\"},{\"attributes\":{\"axis\":{\"id\":\"1162\"},\"coordinates\":null,\"grid_line_color\":null,\"group\":null,\"ticker\":null},\"id\":\"1165\",\"type\":\"Grid\"},{\"attributes\":{\"children\":[{\"id\":\"1153\"}],\"height\":340,\"margin\":[0,0,0,0],\"name\":\"Row01450\",\"sizing_mode\":\"fixed\",\"width\":1000},\"id\":\"1141\",\"type\":\"Row\"},{\"attributes\":{\"line_alpha\":0.1,\"line_color\":\"#d62728\",\"line_width\":2,\"x\":{\"field\":\"Date\"},\"y\":{\"field\":\"value\"}},\"id\":\"1460\",\"type\":\"Line\"},{\"attributes\":{\"axis\":{\"id\":\"1166\"},\"coordinates\":null,\"dimension\":1,\"grid_line_color\":null,\"group\":null,\"ticker\":null},\"id\":\"1169\",\"type\":\"Grid\"},{\"attributes\":{},\"id\":\"1167\",\"type\":\"BasicTicker\"},{\"attributes\":{\"coordinates\":null,\"data_source\":{\"id\":\"1456\"},\"glyph\":{\"id\":\"1459\"},\"group\":null,\"hover_glyph\":null,\"muted_glyph\":{\"id\":\"1461\"},\"nonselection_glyph\":{\"id\":\"1460\"},\"selection_glyph\":{\"id\":\"1501\"},\"view\":{\"id\":\"1463\"}},\"id\":\"1462\",\"type\":\"GlyphRenderer\"},{\"attributes\":{},\"id\":\"1172\",\"type\":\"WheelZoomTool\"},{\"attributes\":{\"line_color\":\"#d62728\",\"line_width\":2,\"x\":{\"field\":\"Date\"},\"y\":{\"field\":\"value\"}},\"id\":\"1459\",\"type\":\"Line\"},{\"attributes\":{},\"id\":\"1170\",\"type\":\"SaveTool\"},{\"attributes\":{\"line_alpha\":0.2,\"line_color\":\"#d62728\",\"line_width\":2,\"x\":{\"field\":\"Date\"},\"y\":{\"field\":\"value\"}},\"id\":\"1461\",\"type\":\"Line\"},{\"attributes\":{\"source\":{\"id\":\"1456\"}},\"id\":\"1463\",\"type\":\"CDSView\"},{\"attributes\":{\"overlay\":{\"id\":\"1175\"}},\"id\":\"1173\",\"type\":\"BoxZoomTool\"},{\"attributes\":{},\"id\":\"1174\",\"type\":\"ResetTool\"},{\"attributes\":{},\"id\":\"1457\",\"type\":\"Selection\"},{\"attributes\":{\"line_color\":\"#d62728\",\"line_width\":2,\"x\":{\"field\":\"Date\"},\"y\":{\"field\":\"value\"}},\"id\":\"1501\",\"type\":\"Line\"},{\"attributes\":{\"line_alpha\":0.2,\"line_color\":\"#8b8b8b\",\"line_width\":2,\"x\":{\"field\":\"Date\"},\"y\":{\"field\":\"value\"}},\"id\":\"1335\",\"type\":\"Line\"},{\"attributes\":{\"label\":{\"value\":\"Land Title Holders Commission\"},\"renderers\":[{\"id\":\"1462\"}]},\"id\":\"1500\",\"type\":\"LegendItem\"},{\"attributes\":{\"data\":{\"Date\":{\"__ndarray__\":\"9qqI0wXMeEL2qghM00F5QvaqyF5Ot3lC9qqIccksekL2qkiERKJ6QvaqyPwRGHtC9qqID42Ne0L2qkgiCAN8QvaqCDWDeHxC9qqIrVDufEI=\",\"dtype\":\"float64\",\"order\":\"little\",\"shape\":[10]},\"Variable\":[\"PFA Holder Return as Percentage of Initial Cost\",\"PFA Holder Return as Percentage of Initial Cost\",\"PFA Holder Return as Percentage of Initial Cost\",\"PFA Holder Return as Percentage of Initial Cost\",\"PFA Holder Return as Percentage of Initial Cost\",\"PFA Holder Return as Percentage of Initial Cost\",\"PFA Holder Return as Percentage of Initial Cost\",\"PFA Holder Return as Percentage of Initial Cost\",\"PFA Holder Return as Percentage of Initial Cost\",\"PFA Holder Return as Percentage of Initial Cost\"],\"value\":{\"__ndarray__\":\"MmmampMR8z9TKdnCk/TzP/Qj+YO4oPc/h2sz6H4Q+j9RXFFkEzH+Pw6RSfYzOARAsr8KNNuWBUAvluJiQr0LQBkdF5+/GhBARKmqjLK4EkA=\",\"dtype\":\"float64\",\"order\":\"little\",\"shape\":[10]}},\"selected\":{\"id\":\"1503\"},\"selection_policy\":{\"id\":\"1533\"}},\"id\":\"1502\",\"type\":\"ColumnDataSource\"},{\"attributes\":{\"bottom_units\":\"screen\",\"coordinates\":null,\"fill_alpha\":0.5,\"fill_color\":\"lightgrey\",\"group\":null,\"left_units\":\"screen\",\"level\":\"overlay\",\"line_alpha\":1.0,\"line_color\":\"black\",\"line_dash\":[4,4],\"line_width\":2,\"right_units\":\"screen\",\"syncable\":false,\"top_units\":\"screen\"},\"id\":\"1175\",\"type\":\"BoxAnnotation\"},{\"attributes\":{},\"id\":\"1331\",\"type\":\"Selection\"},{\"attributes\":{},\"id\":\"1485\",\"type\":\"UnionRenderers\"},{\"attributes\":{\"data\":{\"Date\":{\"__ndarray__\":\"9qqI0wXMeEL2qghM00F5QvaqyF5Ot3lC9qqIccksekL2qkiERKJ6QvaqyPwRGHtC9qqID42Ne0L2qkgiCAN8QvaqCDWDeHxC9qqIrVDufEI=\",\"dtype\":\"float64\",\"order\":\"little\",\"shape\":[10]},\"Variable\":[\"Gross Profit\",\"Gross Profit\",\"Gross Profit\",\"Gross Profit\",\"Gross Profit\",\"Gross Profit\",\"Gross Profit\",\"Gross Profit\",\"Gross Profit\",\"Gross Profit\"],\"value\":{\"__ndarray__\":\"SdQwdEy77j8zp2YkBkHzP+ArEp6yy/Y/Y7wDCoLh+z+2IoRW7NgBQIqIC/GeCQNAgtjXTGOPB0DTyeLHmnIKQDM7Ox3RuA9AymAyS1swE0A=\",\"dtype\":\"float64\",\"order\":\"little\",\"shape\":[10]}},\"selected\":{\"id\":\"1331\"},\"selection_policy\":{\"id\":\"1353\"}},\"id\":\"1330\",\"type\":\"ColumnDataSource\"},{\"attributes\":{\"months\":[0,1,2,3,4,5,6,7,8,9,10,11]},\"id\":\"1214\",\"type\":\"MonthsTicker\"},{\"attributes\":{\"line_color\":\"#8b8b8b\",\"line_width\":2,\"x\":{\"field\":\"Date\"},\"y\":{\"field\":\"value\"}},\"id\":\"1333\",\"type\":\"Line\"},{\"attributes\":{\"coordinates\":null,\"data_source\":{\"id\":\"1222\"},\"glyph\":{\"id\":\"1225\"},\"group\":null,\"hover_glyph\":null,\"muted_glyph\":{\"id\":\"1227\"},\"nonselection_glyph\":{\"id\":\"1226\"},\"selection_glyph\":{\"id\":\"1255\"},\"view\":{\"id\":\"1229\"}},\"id\":\"1228\",\"type\":\"GlyphRenderer\"},{\"attributes\":{\"label\":{\"value\":\"Carbon Price\"},\"renderers\":[{\"id\":\"1195\"}]},\"id\":\"1220\",\"type\":\"LegendItem\"},{\"attributes\":{},\"id\":\"1371\",\"type\":\"Selection\"},{\"attributes\":{\"coordinates\":null,\"data_source\":{\"id\":\"1330\"},\"glyph\":{\"id\":\"1333\"},\"group\":null,\"hover_glyph\":null,\"muted_glyph\":{\"id\":\"1335\"},\"nonselection_glyph\":{\"id\":\"1334\"},\"selection_glyph\":{\"id\":\"1369\"},\"view\":{\"id\":\"1337\"}},\"id\":\"1336\",\"type\":\"GlyphRenderer\"},{\"attributes\":{\"line_color\":\"#30a2da\",\"line_width\":2,\"x\":{\"field\":\"Date\"},\"y\":{\"field\":\"value\"}},\"id\":\"1221\",\"type\":\"Line\"},{\"attributes\":{\"source\":{\"id\":\"1330\"}},\"id\":\"1337\",\"type\":\"CDSView\"},{\"attributes\":{\"line_alpha\":0.1,\"line_color\":\"#fc4f30\",\"line_width\":2,\"x\":{\"field\":\"Date\"},\"y\":{\"field\":\"value\"}},\"id\":\"1226\",\"type\":\"Line\"},{\"attributes\":{\"line_color\":\"#8b8b8b\",\"line_width\":2,\"x\":{\"field\":\"Date\"},\"y\":{\"field\":\"value\"}},\"id\":\"1369\",\"type\":\"Line\"},{\"attributes\":{},\"id\":\"1184\",\"type\":\"DatetimeTickFormatter\"},{\"attributes\":{\"label\":{\"value\":\"Gross Profit\"},\"renderers\":[{\"id\":\"1336\"}]},\"id\":\"1368\",\"type\":\"LegendItem\"},{\"attributes\":{\"data\":{\"Date\":{\"__ndarray__\":\"9qqI0wXMeEL2qghM00F5QvaqyF5Ot3lC9qqIccksekL2qkiERKJ6QvaqyPwRGHtC9qqID42Ne0L2qkgiCAN8QvaqCDWDeHxC9qqIrVDufEI=\",\"dtype\":\"float64\",\"order\":\"little\",\"shape\":[10]},\"Variable\":[\"Net Revenue\",\"Net Revenue\",\"Net Revenue\",\"Net Revenue\",\"Net Revenue\",\"Net Revenue\",\"Net Revenue\",\"Net Revenue\",\"Net Revenue\",\"Net Revenue\"],\"value\":{\"__ndarray__\":\"a6hc3uXK7T/L7/91n8H0P2FIxLfk1PQ/Drx7q7H59z/xzgnUkzD5P4J8n/c65AFA91nQumy2AkBVtC2F1fUEQNK0yTEhxwdAPBMoWmZ3DEA=\",\"dtype\":\"float64\",\"order\":\"little\",\"shape\":[10]}},\"selected\":{\"id\":\"1257\"},\"selection_policy\":{\"id\":\"1275\"}},\"id\":\"1256\",\"type\":\"ColumnDataSource\"},{\"attributes\":{\"coordinates\":null,\"data_source\":{\"id\":\"1256\"},\"glyph\":{\"id\":\"1259\"},\"group\":null,\"hover_glyph\":null,\"muted_glyph\":{\"id\":\"1261\"},\"nonselection_glyph\":{\"id\":\"1260\"},\"selection_glyph\":{\"id\":\"1291\"},\"view\":{\"id\":\"1263\"}},\"id\":\"1262\",\"type\":\"GlyphRenderer\"},{\"attributes\":{},\"id\":\"1190\",\"type\":\"Selection\"},{\"attributes\":{},\"id\":\"1353\",\"type\":\"UnionRenderers\"},{\"attributes\":{\"source\":{\"id\":\"1189\"}},\"id\":\"1196\",\"type\":\"CDSView\"},{\"attributes\":{\"data\":{\"Date\":{\"__ndarray__\":\"9qqI0wXMeEL2qghM00F5QvaqyF5Ot3lC9qqIccksekL2qkiERKJ6QvaqyPwRGHtC9qqID42Ne0L2qkgiCAN8QvaqCDWDeHxC9qqIrVDufEI=\",\"dtype\":\"float64\",\"order\":\"little\",\"shape\":[10]},\"Variable\":[\"Gross Revenue\",\"Gross Revenue\",\"Gross Revenue\",\"Gross Revenue\",\"Gross Revenue\",\"Gross Revenue\",\"Gross Revenue\",\"Gross Revenue\",\"Gross Revenue\",\"Gross Revenue\"],\"value\":{\"__ndarray__\":\"R0cLY0306j9IXbdAW7XyP8FoluRjX/Q/ZU5KwtxA+T97HlK7Cxv7P4HnmANtygBAThn0G6JBAkBlIGe+flcEQJQ0EC1MqwlAa6DYVyRPDUA=\",\"dtype\":\"float64\",\"order\":\"little\",\"shape\":[10]}},\"selected\":{\"id\":\"1223\"},\"selection_policy\":{\"id\":\"1239\"}},\"id\":\"1222\",\"type\":\"ColumnDataSource\"},{\"attributes\":{\"line_color\":\"#fc4f30\",\"line_width\":2,\"x\":{\"field\":\"Date\"},\"y\":{\"field\":\"value\"}},\"id\":\"1225\",\"type\":\"Line\"},{\"attributes\":{},\"id\":\"1503\",\"type\":\"Selection\"},{\"attributes\":{\"source\":{\"id\":\"1256\"}},\"id\":\"1263\",\"type\":\"CDSView\"},{\"attributes\":{\"click_policy\":\"mute\",\"coordinates\":null,\"group\":null,\"items\":[{\"id\":\"1220\"},{\"id\":\"1254\"},{\"id\":\"1290\"},{\"id\":\"1328\"},{\"id\":\"1368\"},{\"id\":\"1410\"},{\"id\":\"1454\"},{\"id\":\"1500\"},{\"id\":\"1548\"}],\"location\":[0,0],\"title\":\"Variable\"},\"id\":\"1219\",\"type\":\"Legend\"},{\"attributes\":{},\"id\":\"1223\",\"type\":\"Selection\"},{\"attributes\":{\"line_alpha\":0.2,\"line_color\":\"#30a2da\",\"line_width\":2,\"x\":{\"field\":\"Date\"},\"y\":{\"field\":\"value\"}},\"id\":\"1194\",\"type\":\"Line\"},{\"attributes\":{\"source\":{\"id\":\"1222\"}},\"id\":\"1229\",\"type\":\"CDSView\"},{\"attributes\":{\"label\":{\"value\":\"Gross Revenue\"},\"renderers\":[{\"id\":\"1228\"}]},\"id\":\"1254\",\"type\":\"LegendItem\"}],\"root_ids\":[\"1141\",\"1706\"]},\"title\":\"Bokeh Application\",\"version\":\"2.4.3\"}};\n",
       "    var render_items = [{\"docid\":\"68e6636d-fc38-43c5-a8f1-cf524b097d44\",\"root_ids\":[\"1141\"],\"roots\":{\"1141\":\"45c0c8ec-b08f-427d-a420-12d8d3e01d7b\"}}];\n",
       "    root.Bokeh.embed.embed_items_notebook(docs_json, render_items);\n",
       "    for (const render_item of render_items) {\n",
       "      for (const root_id of render_item.root_ids) {\n",
       "\tconst id_el = document.getElementById(root_id)\n",
       "\tif (id_el.children.length && (id_el.children[0].className === 'bk-root')) {\n",
       "\t  const root_el = id_el.children[0]\n",
       "\t  root_el.id = root_el.id + '-rendered'\n",
       "\t}\n",
       "      }\n",
       "    }\n",
       "  }\n",
       "  if (root.Bokeh !== undefined && root.Bokeh.Panel !== undefined) {\n",
       "    embed_document(root);\n",
       "  } else {\n",
       "    var attempts = 0;\n",
       "    var timer = setInterval(function(root) {\n",
       "      if (root.Bokeh !== undefined && root.Bokeh.Panel !== undefined) {\n",
       "        clearInterval(timer);\n",
       "        embed_document(root);\n",
       "      } else if (document.readyState == \"complete\") {\n",
       "        attempts++;\n",
       "        if (attempts > 200) {\n",
       "          clearInterval(timer);\n",
       "          console.log(\"Bokeh: ERROR: Unable to run BokehJS code because BokehJS library is missing\");\n",
       "        }\n",
       "      }\n",
       "    }, 25, root)\n",
       "  }\n",
       "})(window);</script>"
      ],
      "text/plain": [
       "HoloViews(NdOverlay, height=340, sizing_mode='fixed', width=1000)"
      ]
     },
     "execution_count": 11,
     "metadata": {
      "application/vnd.holoviews_exec.v0+json": {
       "id": "1141"
      }
     },
     "output_type": "execute_result"
    }
   ],
   "source": [
    "carbon_model.view_model_normalized_chart(f1)"
   ]
  },
  {
   "cell_type": "code",
   "execution_count": 12,
   "id": "85f60d62-7cc7-4d56-b87d-91a8ce61cf38",
   "metadata": {},
   "outputs": [
    {
     "data": {},
     "metadata": {},
     "output_type": "display_data"
    },
    {
     "data": {},
     "metadata": {},
     "output_type": "display_data"
    },
    {
     "data": {
      "application/vnd.holoviews_exec.v0+json": "",
      "text/html": [
       "<div id='1897'>\n",
       "  <div class=\"bk-root\" id=\"e645f5a7-fea9-4d5c-81d4-f03a4fdba040\" data-root-id=\"1897\"></div>\n",
       "</div>\n",
       "<script type=\"application/javascript\">(function(root) {\n",
       "  function embed_document(root) {\n",
       "    var docs_json = {\"45b47cbf-03de-4eb8-a5a1-f1db07cb3ea5\":{\"defs\":[{\"extends\":null,\"module\":null,\"name\":\"ReactiveHTML1\",\"overrides\":[],\"properties\":[]},{\"extends\":null,\"module\":null,\"name\":\"FlexBox1\",\"overrides\":[],\"properties\":[{\"default\":\"flex-start\",\"kind\":null,\"name\":\"align_content\"},{\"default\":\"flex-start\",\"kind\":null,\"name\":\"align_items\"},{\"default\":\"row\",\"kind\":null,\"name\":\"flex_direction\"},{\"default\":\"wrap\",\"kind\":null,\"name\":\"flex_wrap\"},{\"default\":\"flex-start\",\"kind\":null,\"name\":\"justify_content\"}]},{\"extends\":null,\"module\":null,\"name\":\"GridStack1\",\"overrides\":[],\"properties\":[{\"default\":\"warn\",\"kind\":null,\"name\":\"mode\"},{\"default\":null,\"kind\":null,\"name\":\"ncols\"},{\"default\":null,\"kind\":null,\"name\":\"nrows\"},{\"default\":true,\"kind\":null,\"name\":\"allow_resize\"},{\"default\":true,\"kind\":null,\"name\":\"allow_drag\"},{\"default\":[],\"kind\":null,\"name\":\"state\"}]},{\"extends\":null,\"module\":null,\"name\":\"click1\",\"overrides\":[],\"properties\":[{\"default\":\"\",\"kind\":null,\"name\":\"terminal_output\"},{\"default\":\"\",\"kind\":null,\"name\":\"debug_name\"},{\"default\":0,\"kind\":null,\"name\":\"clears\"}]},{\"extends\":null,\"module\":null,\"name\":\"NotificationAreaBase1\",\"overrides\":[],\"properties\":[{\"default\":\"bottom-right\",\"kind\":null,\"name\":\"position\"},{\"default\":0,\"kind\":null,\"name\":\"_clear\"}]},{\"extends\":null,\"module\":null,\"name\":\"NotificationArea1\",\"overrides\":[],\"properties\":[{\"default\":[],\"kind\":null,\"name\":\"notifications\"},{\"default\":\"bottom-right\",\"kind\":null,\"name\":\"position\"},{\"default\":0,\"kind\":null,\"name\":\"_clear\"},{\"default\":[{\"background\":\"#ffc107\",\"icon\":{\"className\":\"fas fa-exclamation-triangle\",\"color\":\"white\",\"tagName\":\"i\"},\"type\":\"warning\"},{\"background\":\"#007bff\",\"icon\":{\"className\":\"fas fa-info-circle\",\"color\":\"white\",\"tagName\":\"i\"},\"type\":\"info\"}],\"kind\":null,\"name\":\"types\"}]},{\"extends\":null,\"module\":null,\"name\":\"Notification\",\"overrides\":[],\"properties\":[{\"default\":null,\"kind\":null,\"name\":\"background\"},{\"default\":3000,\"kind\":null,\"name\":\"duration\"},{\"default\":null,\"kind\":null,\"name\":\"icon\"},{\"default\":\"\",\"kind\":null,\"name\":\"message\"},{\"default\":null,\"kind\":null,\"name\":\"notification_type\"},{\"default\":false,\"kind\":null,\"name\":\"_destroyed\"}]},{\"extends\":null,\"module\":null,\"name\":\"TemplateActions1\",\"overrides\":[],\"properties\":[{\"default\":0,\"kind\":null,\"name\":\"open_modal\"},{\"default\":0,\"kind\":null,\"name\":\"close_modal\"}]},{\"extends\":null,\"module\":null,\"name\":\"MaterialTemplateActions1\",\"overrides\":[],\"properties\":[{\"default\":0,\"kind\":null,\"name\":\"open_modal\"},{\"default\":0,\"kind\":null,\"name\":\"close_modal\"}]}],\"roots\":{\"references\":[{\"attributes\":{},\"id\":\"1914\",\"type\":\"LinearScale\"},{\"attributes\":{\"coordinates\":null,\"data_source\":{\"id\":\"2258\"},\"glyph\":{\"id\":\"2261\"},\"group\":null,\"hover_glyph\":null,\"muted_glyph\":{\"id\":\"2263\"},\"nonselection_glyph\":{\"id\":\"2262\"},\"selection_glyph\":{\"id\":\"2305\"},\"view\":{\"id\":\"2265\"}},\"id\":\"2264\",\"type\":\"GlyphRenderer\"},{\"attributes\":{},\"id\":\"2259\",\"type\":\"Selection\"},{\"attributes\":{},\"id\":\"2049\",\"type\":\"Selection\"},{\"attributes\":{\"months\":[0,6]},\"id\":\"1973\",\"type\":\"MonthsTicker\"},{\"attributes\":{\"line_alpha\":0.2,\"line_color\":\"#1f77b4\",\"line_width\":2,\"x\":{\"field\":\"Date\"},\"y\":{\"field\":\"value\"}},\"id\":\"2263\",\"type\":\"Line\"},{\"attributes\":{},\"id\":\"2109\",\"type\":\"UnionRenderers\"},{\"attributes\":{},\"id\":\"1974\",\"type\":\"YearsTicker\"},{\"attributes\":{\"data\":{\"Date\":{\"__ndarray__\":\"GeSW0wXMeEIZ5BZM00F5Qhnk1l5Ot3lCGeSWccksekIZ5FaERKJ6Qhnk1vwRGHtCGeSWD42Ne0IZ5FYiCAN8QhnkFjWDeHxCGeSWrVDufEI=\",\"dtype\":\"float64\",\"order\":\"little\",\"shape\":[10]},\"Variable\":[\"Stewardship Budget\",\"Stewardship Budget\",\"Stewardship Budget\",\"Stewardship Budget\",\"Stewardship Budget\",\"Stewardship Budget\",\"Stewardship Budget\",\"Stewardship Budget\",\"Stewardship Budget\",\"Stewardship Budget\"],\"value\":{\"__ndarray__\":\"Y59QJU4m8z+PVFaRxDDwP9ArrWMl7/Q/ia14bxz78j9bguy3+9H1P93jDSphIvY/rYsW/UWd+T+TpZE36rD4P/31wsaF6v0/FJkqUxIp/z8=\",\"dtype\":\"float64\",\"order\":\"little\",\"shape\":[10]}},\"selected\":{\"id\":\"2049\"},\"selection_policy\":{\"id\":\"2069\"}},\"id\":\"2048\",\"type\":\"ColumnDataSource\"},{\"attributes\":{\"line_alpha\":0.1,\"line_color\":\"#1f77b4\",\"line_width\":2,\"x\":{\"field\":\"Date\"},\"y\":{\"field\":\"value\"}},\"id\":\"2262\",\"type\":\"Line\"},{\"attributes\":{\"line_color\":\"#1f77b4\",\"line_width\":2,\"x\":{\"field\":\"Date\"},\"y\":{\"field\":\"value\"}},\"id\":\"2261\",\"type\":\"Line\"},{\"attributes\":{\"line_color\":\"#6d904f\",\"line_width\":2,\"x\":{\"field\":\"Date\"},\"y\":{\"field\":\"value\"}},\"id\":\"2051\",\"type\":\"Line\"},{\"attributes\":{\"source\":{\"id\":\"2258\"}},\"id\":\"2265\",\"type\":\"CDSView\"},{\"attributes\":{\"line_color\":\"#1f77b4\",\"line_width\":2,\"x\":{\"field\":\"Date\"},\"y\":{\"field\":\"value\"}},\"id\":\"2305\",\"type\":\"Line\"},{\"attributes\":{\"coordinates\":null,\"data_source\":{\"id\":\"2048\"},\"glyph\":{\"id\":\"2051\"},\"group\":null,\"hover_glyph\":null,\"muted_glyph\":{\"id\":\"2053\"},\"nonselection_glyph\":{\"id\":\"2052\"},\"selection_glyph\":{\"id\":\"2085\"},\"view\":{\"id\":\"2055\"}},\"id\":\"2054\",\"type\":\"GlyphRenderer\"},{\"attributes\":{\"label\":{\"value\":\"PFA Holder Return as Percentage of Initial Cost\"},\"renderers\":[{\"id\":\"2264\"}]},\"id\":\"2304\",\"type\":\"LegendItem\"},{\"attributes\":{\"source\":{\"id\":\"2048\"}},\"id\":\"2055\",\"type\":\"CDSView\"},{\"attributes\":{},\"id\":\"2069\",\"type\":\"UnionRenderers\"},{\"attributes\":{},\"id\":\"2289\",\"type\":\"UnionRenderers\"},{\"attributes\":{\"line_color\":\"#8b8b8b\",\"line_width\":2,\"x\":{\"field\":\"Date\"},\"y\":{\"field\":\"value\"}},\"id\":\"2125\",\"type\":\"Line\"},{\"attributes\":{\"coordinates\":null,\"group\":null,\"text\":\"Normalized Growth Projections of Carbon Revenue\",\"text_color\":\"black\",\"text_font_size\":\"12pt\"},\"id\":\"1910\",\"type\":\"Title\"},{\"attributes\":{},\"id\":\"1941\",\"type\":\"AllLabels\"},{\"attributes\":{\"label\":{\"value\":\"Stewardship Budget\"},\"renderers\":[{\"id\":\"2054\"}]},\"id\":\"2084\",\"type\":\"LegendItem\"},{\"attributes\":{\"label\":{\"value\":\"Centree (Admin/Commission)\"},\"renderers\":[{\"id\":\"2132\"}]},\"id\":\"2166\",\"type\":\"LegendItem\"},{\"attributes\":{\"num_minor_ticks\":5,\"tickers\":[{\"id\":\"1963\"},{\"id\":\"1964\"},{\"id\":\"1965\"},{\"id\":\"1966\"},{\"id\":\"1967\"},{\"id\":\"1968\"},{\"id\":\"1969\"},{\"id\":\"1970\"},{\"id\":\"1971\"},{\"id\":\"1972\"},{\"id\":\"1973\"},{\"id\":\"1974\"}]},\"id\":\"1919\",\"type\":\"DatetimeTicker\"},{\"attributes\":{\"axis_label\":\"\",\"coordinates\":null,\"formatter\":{\"id\":\"1943\"},\"group\":null,\"major_label_policy\":{\"id\":\"1944\"},\"ticker\":{\"id\":\"1923\"}},\"id\":\"1922\",\"type\":\"LinearAxis\"},{\"attributes\":{\"line_alpha\":0.2,\"line_color\":\"#17becf\",\"line_width\":2,\"x\":{\"field\":\"Date\"},\"y\":{\"field\":\"value\"}},\"id\":\"2131\",\"type\":\"Line\"},{\"attributes\":{},\"id\":\"1916\",\"type\":\"LinearScale\"},{\"attributes\":{\"line_alpha\":0.1,\"line_color\":\"#17becf\",\"line_width\":2,\"x\":{\"field\":\"Date\"},\"y\":{\"field\":\"value\"}},\"id\":\"2130\",\"type\":\"Line\"},{\"attributes\":{},\"id\":\"1927\",\"type\":\"PanTool\"},{\"attributes\":{\"axis\":{\"id\":\"1918\"},\"coordinates\":null,\"grid_line_color\":null,\"group\":null,\"ticker\":null},\"id\":\"1921\",\"type\":\"Grid\"},{\"attributes\":{\"line_color\":\"#17becf\",\"line_width\":2,\"x\":{\"field\":\"Date\"},\"y\":{\"field\":\"value\"}},\"id\":\"2129\",\"type\":\"Line\"},{\"attributes\":{\"coordinates\":null,\"data_source\":{\"id\":\"2126\"},\"glyph\":{\"id\":\"2129\"},\"group\":null,\"hover_glyph\":null,\"muted_glyph\":{\"id\":\"2131\"},\"nonselection_glyph\":{\"id\":\"2130\"},\"selection_glyph\":{\"id\":\"2167\"},\"view\":{\"id\":\"2133\"}},\"id\":\"2132\",\"type\":\"GlyphRenderer\"},{\"attributes\":{\"axis\":{\"id\":\"1922\"},\"coordinates\":null,\"dimension\":1,\"grid_line_color\":null,\"group\":null,\"ticker\":null},\"id\":\"1925\",\"type\":\"Grid\"},{\"attributes\":{\"data\":{\"Date\":{\"__ndarray__\":\"GeSW0wXMeEIZ5BZM00F5Qhnk1l5Ot3lCGeSWccksekIZ5FaERKJ6Qhnk1vwRGHtCGeSWD42Ne0IZ5FYiCAN8QhnkFjWDeHxCGeSWrVDufEI=\",\"dtype\":\"float64\",\"order\":\"little\",\"shape\":[10]},\"Variable\":[\"Centree (Admin/Commission)\",\"Centree (Admin/Commission)\",\"Centree (Admin/Commission)\",\"Centree (Admin/Commission)\",\"Centree (Admin/Commission)\",\"Centree (Admin/Commission)\",\"Centree (Admin/Commission)\",\"Centree (Admin/Commission)\",\"Centree (Admin/Commission)\",\"Centree (Admin/Commission)\"],\"value\":{\"__ndarray__\":\"swIUjw0A7j+NYdNRFQL1P9702XFZXPg/8CKsE3sY+j+h0WuI6dgBQHPYix9gmQNAGFk7kdhvB0CVJz7HB7QMQGV6Per/nRBAAmBAOTTjE0A=\",\"dtype\":\"float64\",\"order\":\"little\",\"shape\":[10]}},\"selected\":{\"id\":\"2127\"},\"selection_policy\":{\"id\":\"2151\"}},\"id\":\"2126\",\"type\":\"ColumnDataSource\"},{\"attributes\":{\"source\":{\"id\":\"2126\"}},\"id\":\"2133\",\"type\":\"CDSView\"},{\"attributes\":{},\"id\":\"1923\",\"type\":\"BasicTicker\"},{\"attributes\":{},\"id\":\"1928\",\"type\":\"WheelZoomTool\"},{\"attributes\":{},\"id\":\"2151\",\"type\":\"UnionRenderers\"},{\"attributes\":{\"line_color\":\"#17becf\",\"line_width\":2,\"x\":{\"field\":\"Date\"},\"y\":{\"field\":\"value\"}},\"id\":\"2167\",\"type\":\"Line\"},{\"attributes\":{},\"id\":\"1926\",\"type\":\"SaveTool\"},{\"attributes\":{\"overlay\":{\"id\":\"1931\"}},\"id\":\"1929\",\"type\":\"BoxZoomTool\"},{\"attributes\":{},\"id\":\"1930\",\"type\":\"ResetTool\"},{\"attributes\":{\"bottom_units\":\"screen\",\"coordinates\":null,\"fill_alpha\":0.5,\"fill_color\":\"lightgrey\",\"group\":null,\"left_units\":\"screen\",\"level\":\"overlay\",\"line_alpha\":1.0,\"line_color\":\"black\",\"line_dash\":[4,4],\"line_width\":2,\"right_units\":\"screen\",\"syncable\":false,\"top_units\":\"screen\"},\"id\":\"1931\",\"type\":\"BoxAnnotation\"},{\"attributes\":{\"line_alpha\":0.1,\"line_color\":\"#30a2da\",\"line_width\":2,\"x\":{\"field\":\"Date\"},\"y\":{\"field\":\"value\"}},\"id\":\"1949\",\"type\":\"Line\"},{\"attributes\":{\"label\":{\"value\":\"Gross Profit\"},\"renderers\":[{\"id\":\"2092\"}]},\"id\":\"2124\",\"type\":\"LegendItem\"},{\"attributes\":{\"line_alpha\":0.2,\"line_color\":\"#fc4f30\",\"line_width\":2,\"x\":{\"field\":\"Date\"},\"y\":{\"field\":\"value\"}},\"id\":\"1983\",\"type\":\"Line\"},{\"attributes\":{\"line_alpha\":0.2,\"line_color\":\"#9467bd\",\"line_width\":2,\"x\":{\"field\":\"Date\"},\"y\":{\"field\":\"value\"}},\"id\":\"2173\",\"type\":\"Line\"},{\"attributes\":{},\"id\":\"1940\",\"type\":\"DatetimeTickFormatter\"},{\"attributes\":{\"line_color\":\"#30a2da\",\"line_width\":2,\"x\":{\"field\":\"Date\"},\"y\":{\"field\":\"value\"}},\"id\":\"1977\",\"type\":\"Line\"},{\"attributes\":{\"line_alpha\":0.1,\"line_color\":\"#fc4f30\",\"line_width\":2,\"x\":{\"field\":\"Date\"},\"y\":{\"field\":\"value\"}},\"id\":\"1982\",\"type\":\"Line\"},{\"attributes\":{\"data\":{\"Date\":{\"__ndarray__\":\"GeSW0wXMeEIZ5BZM00F5Qhnk1l5Ot3lCGeSWccksekIZ5FaERKJ6Qhnk1vwRGHtCGeSWD42Ne0IZ5FYiCAN8QhnkFjWDeHxCGeSWrVDufEI=\",\"dtype\":\"float64\",\"order\":\"little\",\"shape\":[10]},\"Variable\":[\"Gross Profit\",\"Gross Profit\",\"Gross Profit\",\"Gross Profit\",\"Gross Profit\",\"Gross Profit\",\"Gross Profit\",\"Gross Profit\",\"Gross Profit\",\"Gross Profit\"],\"value\":{\"__ndarray__\":\"dx18CWVr8D//Y0f227fzP1Zcs7I0tPc/yCXCs5zY/D9bDRWOySsCQBzHjwSLtAJAbWJARLhgCEA2d1dbDLgKQPQbKEgBchBAWKOvUAcOFEA=\",\"dtype\":\"float64\",\"order\":\"little\",\"shape\":[10]}},\"selected\":{\"id\":\"2087\"},\"selection_policy\":{\"id\":\"2109\"}},\"id\":\"2086\",\"type\":\"ColumnDataSource\"},{\"attributes\":{\"axis_label\":\"Date\",\"coordinates\":null,\"formatter\":{\"id\":\"1940\"},\"group\":null,\"major_label_policy\":{\"id\":\"1941\"},\"ticker\":{\"id\":\"1919\"}},\"id\":\"1918\",\"type\":\"DatetimeAxis\"},{\"attributes\":{\"label\":{\"value\":\"Carbon Price\"},\"renderers\":[{\"id\":\"1951\"}]},\"id\":\"1976\",\"type\":\"LegendItem\"},{\"attributes\":{\"coordinates\":null,\"data_source\":{\"id\":\"1978\"},\"glyph\":{\"id\":\"1981\"},\"group\":null,\"hover_glyph\":null,\"muted_glyph\":{\"id\":\"1983\"},\"nonselection_glyph\":{\"id\":\"1982\"},\"selection_glyph\":{\"id\":\"2011\"},\"view\":{\"id\":\"1985\"}},\"id\":\"1984\",\"type\":\"GlyphRenderer\"},{\"attributes\":{\"line_alpha\":0.2,\"line_color\":\"#30a2da\",\"line_width\":2,\"x\":{\"field\":\"Date\"},\"y\":{\"field\":\"value\"}},\"id\":\"1950\",\"type\":\"Line\"},{\"attributes\":{\"line_color\":\"#fc4f30\",\"line_width\":2,\"x\":{\"field\":\"Date\"},\"y\":{\"field\":\"value\"}},\"id\":\"1981\",\"type\":\"Line\"},{\"attributes\":{\"line_alpha\":0.1,\"line_color\":\"#9467bd\",\"line_width\":2,\"x\":{\"field\":\"Date\"},\"y\":{\"field\":\"value\"}},\"id\":\"2172\",\"type\":\"Line\"},{\"attributes\":{\"source\":{\"id\":\"1945\"}},\"id\":\"1952\",\"type\":\"CDSView\"},{\"attributes\":{\"click_policy\":\"mute\",\"coordinates\":null,\"group\":null,\"items\":[{\"id\":\"1976\"},{\"id\":\"2010\"},{\"id\":\"2046\"},{\"id\":\"2084\"},{\"id\":\"2124\"},{\"id\":\"2166\"},{\"id\":\"2210\"},{\"id\":\"2256\"},{\"id\":\"2304\"}],\"location\":[0,0],\"title\":\"Variable\"},\"id\":\"1975\",\"type\":\"Legend\"},{\"attributes\":{},\"id\":\"1979\",\"type\":\"Selection\"},{\"attributes\":{\"data\":{\"Date\":{\"__ndarray__\":\"GeSW0wXMeEIZ5BZM00F5Qhnk1l5Ot3lCGeSWccksekIZ5FaERKJ6Qhnk1vwRGHtCGeSWD42Ne0IZ5FYiCAN8QhnkFjWDeHxCGeSWrVDufEI=\",\"dtype\":\"float64\",\"order\":\"little\",\"shape\":[10]},\"Variable\":[\"PFA Commission\",\"PFA Commission\",\"PFA Commission\",\"PFA Commission\",\"PFA Commission\",\"PFA Commission\",\"PFA Commission\",\"PFA Commission\",\"PFA Commission\",\"PFA Commission\"],\"value\":{\"__ndarray__\":\"WfY+yQoC8T/oEIp13m71P3wGoANWpfQ/FD7u6I1q/j8llHG6wy0BQCofDlpQzgNAU5/K3RkVB0B/fMJk5y8MQC4er2UV2w9AqfE6b0dPE0A=\",\"dtype\":\"float64\",\"order\":\"little\",\"shape\":[10]}},\"selected\":{\"id\":\"2169\"},\"selection_policy\":{\"id\":\"2195\"}},\"id\":\"2168\",\"type\":\"ColumnDataSource\"},{\"attributes\":{\"source\":{\"id\":\"1978\"}},\"id\":\"1985\",\"type\":\"CDSView\"},{\"attributes\":{\"line_color\":\"#fc4f30\",\"line_width\":2,\"x\":{\"field\":\"Date\"},\"y\":{\"field\":\"value\"}},\"id\":\"2011\",\"type\":\"Line\"},{\"attributes\":{},\"id\":\"2169\",\"type\":\"Selection\"},{\"attributes\":{\"label\":{\"value\":\"Gross Revenue\"},\"renderers\":[{\"id\":\"1984\"}]},\"id\":\"2010\",\"type\":\"LegendItem\"},{\"attributes\":{\"line_color\":\"#9467bd\",\"line_width\":2,\"x\":{\"field\":\"Date\"},\"y\":{\"field\":\"value\"}},\"id\":\"2171\",\"type\":\"Line\"},{\"attributes\":{\"line_alpha\":0.1,\"line_color\":\"#e5ae38\",\"line_width\":2,\"x\":{\"field\":\"Date\"},\"y\":{\"field\":\"value\"}},\"id\":\"2016\",\"type\":\"Line\"},{\"attributes\":{\"label\":{\"value\":\"PFA Commission\"},\"renderers\":[{\"id\":\"2174\"}]},\"id\":\"2210\",\"type\":\"LegendItem\"},{\"attributes\":{\"children\":[{\"id\":\"1909\"}],\"height\":340,\"margin\":[0,0,0,0],\"name\":\"Row01897\",\"sizing_mode\":\"fixed\",\"width\":1000},\"id\":\"1897\",\"type\":\"Row\"},{\"attributes\":{\"coordinates\":null,\"data_source\":{\"id\":\"2168\"},\"glyph\":{\"id\":\"2171\"},\"group\":null,\"hover_glyph\":null,\"muted_glyph\":{\"id\":\"2173\"},\"nonselection_glyph\":{\"id\":\"2172\"},\"selection_glyph\":{\"id\":\"2211\"},\"view\":{\"id\":\"2175\"}},\"id\":\"2174\",\"type\":\"GlyphRenderer\"},{\"attributes\":{},\"id\":\"1995\",\"type\":\"UnionRenderers\"},{\"attributes\":{\"data\":{\"Date\":{\"__ndarray__\":\"GeSW0wXMeEIZ5BZM00F5Qhnk1l5Ot3lCGeSWccksekIZ5FaERKJ6Qhnk1vwRGHtCGeSWD42Ne0IZ5FYiCAN8QhnkFjWDeHxCGeSWrVDufEI=\",\"dtype\":\"float64\",\"order\":\"little\",\"shape\":[10]},\"Variable\":[\"PFA Holder Return as Percentage of Initial Cost\",\"PFA Holder Return as Percentage of Initial Cost\",\"PFA Holder Return as Percentage of Initial Cost\",\"PFA Holder Return as Percentage of Initial Cost\",\"PFA Holder Return as Percentage of Initial Cost\",\"PFA Holder Return as Percentage of Initial Cost\",\"PFA Holder Return as Percentage of Initial Cost\",\"PFA Holder Return as Percentage of Initial Cost\",\"PFA Holder Return as Percentage of Initial Cost\",\"PFA Holder Return as Percentage of Initial Cost\"],\"value\":{\"__ndarray__\":\"rWtzoRF68D+5Lk1lvOzwP2kmKt0yMfk/z28KQ0KY/T/TdAwFUm4BQPmG8hkyIANAw4EEwTuTBkDkbrZjcM0LQCoGfBDUARFAHxm2F/5WE0A=\",\"dtype\":\"float64\",\"order\":\"little\",\"shape\":[10]}},\"selected\":{\"id\":\"2259\"},\"selection_policy\":{\"id\":\"2289\"}},\"id\":\"2258\",\"type\":\"ColumnDataSource\"},{\"attributes\":{\"source\":{\"id\":\"2168\"}},\"id\":\"2175\",\"type\":\"CDSView\"},{\"attributes\":{},\"id\":\"2195\",\"type\":\"UnionRenderers\"},{\"attributes\":{\"line_color\":\"#9467bd\",\"line_width\":2,\"x\":{\"field\":\"Date\"},\"y\":{\"field\":\"value\"}},\"id\":\"2211\",\"type\":\"Line\"},{\"attributes\":{\"line_color\":\"#8b8b8b\",\"line_width\":2,\"x\":{\"field\":\"Date\"},\"y\":{\"field\":\"value\"}},\"id\":\"2089\",\"type\":\"Line\"},{\"attributes\":{\"source\":{\"id\":\"2086\"}},\"id\":\"2093\",\"type\":\"CDSView\"},{\"attributes\":{\"line_alpha\":0.2,\"line_color\":\"#8b8b8b\",\"line_width\":2,\"x\":{\"field\":\"Date\"},\"y\":{\"field\":\"value\"}},\"id\":\"2091\",\"type\":\"Line\"},{\"attributes\":{\"data\":{\"Date\":{\"__ndarray__\":\"GeSW0wXMeEIZ5BZM00F5Qhnk1l5Ot3lCGeSWccksekIZ5FaERKJ6Qhnk1vwRGHtCGeSWD42Ne0IZ5FYiCAN8QhnkFjWDeHxCGeSWrVDufEI=\",\"dtype\":\"float64\",\"order\":\"little\",\"shape\":[10]},\"Variable\":[\"Carbon Price\",\"Carbon Price\",\"Carbon Price\",\"Carbon Price\",\"Carbon Price\",\"Carbon Price\",\"Carbon Price\",\"Carbon Price\",\"Carbon Price\",\"Carbon Price\"],\"value\":{\"__ndarray__\":\"SbINEaY88j+p0pGUXIvyP4VnD64FefM/qqQToVXo9z+ib5eVyMv6PyNI3zEoJ/4/JZTujwQxAkCms+YTkVIEQDc0QKGQ0gZAgNXgEJr8CkA=\",\"dtype\":\"float64\",\"order\":\"little\",\"shape\":[10]}},\"selected\":{\"id\":\"1946\"},\"selection_policy\":{\"id\":\"1960\"}},\"id\":\"1945\",\"type\":\"ColumnDataSource\"},{\"attributes\":{},\"id\":\"1946\",\"type\":\"Selection\"},{\"attributes\":{\"coordinates\":null,\"data_source\":{\"id\":\"1945\"},\"glyph\":{\"id\":\"1948\"},\"group\":null,\"hover_glyph\":null,\"muted_glyph\":{\"id\":\"1950\"},\"nonselection_glyph\":{\"id\":\"1949\"},\"selection_glyph\":{\"id\":\"1977\"},\"view\":{\"id\":\"1952\"}},\"id\":\"1951\",\"type\":\"GlyphRenderer\"},{\"attributes\":{},\"id\":\"2127\",\"type\":\"Selection\"},{\"attributes\":{},\"id\":\"1960\",\"type\":\"UnionRenderers\"},{\"attributes\":{\"data\":{\"Date\":{\"__ndarray__\":\"GeSW0wXMeEIZ5BZM00F5Qhnk1l5Ot3lCGeSWccksekIZ5FaERKJ6Qhnk1vwRGHtCGeSWD42Ne0IZ5FYiCAN8QhnkFjWDeHxCGeSWrVDufEI=\",\"dtype\":\"float64\",\"order\":\"little\",\"shape\":[10]},\"Variable\":[\"Land Title Holders Commission\",\"Land Title Holders Commission\",\"Land Title Holders Commission\",\"Land Title Holders Commission\",\"Land Title Holders Commission\",\"Land Title Holders Commission\",\"Land Title Holders Commission\",\"Land Title Holders Commission\",\"Land Title Holders Commission\",\"Land Title Holders Commission\"],\"value\":{\"__ndarray__\":\"og4giju47z+uS43YEOXzP79usKgGyvU/dnp4kgXE+T/A/DIKPTABQH3IMm7wSgVAYO4c7yUnCEB8n4pzUiYLQPPn8wBE8hBAWTIXP32RE0A=\",\"dtype\":\"float64\",\"order\":\"little\",\"shape\":[10]}},\"selected\":{\"id\":\"2213\"},\"selection_policy\":{\"id\":\"2241\"}},\"id\":\"2212\",\"type\":\"ColumnDataSource\"},{\"attributes\":{\"data\":{\"Date\":{\"__ndarray__\":\"GeSW0wXMeEIZ5BZM00F5Qhnk1l5Ot3lCGeSWccksekIZ5FaERKJ6Qhnk1vwRGHtCGeSWD42Ne0IZ5FYiCAN8QhnkFjWDeHxCGeSWrVDufEI=\",\"dtype\":\"float64\",\"order\":\"little\",\"shape\":[10]},\"Variable\":[\"Net Revenue\",\"Net Revenue\",\"Net Revenue\",\"Net Revenue\",\"Net Revenue\",\"Net Revenue\",\"Net Revenue\",\"Net Revenue\",\"Net Revenue\",\"Net Revenue\"],\"value\":{\"__ndarray__\":\"5QziKlRS7z90+1NrKjTwP+4gAf5brfM/NNCPfLQ6+j/yTmYZ1Bb5P5eUs1jqQAFAubQxjWZTAkDk5mLL96gFQKt087Wu/QdAlKE/wVlhDUA=\",\"dtype\":\"float64\",\"order\":\"little\",\"shape\":[10]}},\"selected\":{\"id\":\"2013\"},\"selection_policy\":{\"id\":\"2031\"}},\"id\":\"2012\",\"type\":\"ColumnDataSource\"},{\"attributes\":{\"line_alpha\":0.1,\"line_color\":\"#d62728\",\"line_width\":2,\"x\":{\"field\":\"Date\"},\"y\":{\"field\":\"value\"}},\"id\":\"2216\",\"type\":\"Line\"},{\"attributes\":{\"coordinates\":null,\"data_source\":{\"id\":\"2212\"},\"glyph\":{\"id\":\"2215\"},\"group\":null,\"hover_glyph\":null,\"muted_glyph\":{\"id\":\"2217\"},\"nonselection_glyph\":{\"id\":\"2216\"},\"selection_glyph\":{\"id\":\"2257\"},\"view\":{\"id\":\"2219\"}},\"id\":\"2218\",\"type\":\"GlyphRenderer\"},{\"attributes\":{\"line_color\":\"#e5ae38\",\"line_width\":2,\"x\":{\"field\":\"Date\"},\"y\":{\"field\":\"value\"}},\"id\":\"2015\",\"type\":\"Line\"},{\"attributes\":{\"line_color\":\"#6d904f\",\"line_width\":2,\"x\":{\"field\":\"Date\"},\"y\":{\"field\":\"value\"}},\"id\":\"2085\",\"type\":\"Line\"},{\"attributes\":{\"line_color\":\"#30a2da\",\"line_width\":2,\"x\":{\"field\":\"Date\"},\"y\":{\"field\":\"value\"}},\"id\":\"1948\",\"type\":\"Line\"},{\"attributes\":{},\"id\":\"2087\",\"type\":\"Selection\"},{\"attributes\":{\"line_alpha\":0.2,\"line_color\":\"#e5ae38\",\"line_width\":2,\"x\":{\"field\":\"Date\"},\"y\":{\"field\":\"value\"}},\"id\":\"2017\",\"type\":\"Line\"},{\"attributes\":{\"line_color\":\"#d62728\",\"line_width\":2,\"x\":{\"field\":\"Date\"},\"y\":{\"field\":\"value\"}},\"id\":\"2215\",\"type\":\"Line\"},{\"attributes\":{\"line_alpha\":0.2,\"line_color\":\"#d62728\",\"line_width\":2,\"x\":{\"field\":\"Date\"},\"y\":{\"field\":\"value\"}},\"id\":\"2217\",\"type\":\"Line\"},{\"attributes\":{},\"id\":\"2013\",\"type\":\"Selection\"},{\"attributes\":{\"source\":{\"id\":\"2212\"}},\"id\":\"2219\",\"type\":\"CDSView\"},{\"attributes\":{\"client_comm_id\":\"d91ea98c53bc41faa3d826c81667be51\",\"comm_id\":\"ab4e1b49db454bbfbf05f6c75d358584\",\"plot_id\":\"1897\"},\"id\":\"2462\",\"type\":\"panel.models.comm_manager.CommManager\"},{\"attributes\":{\"coordinates\":null,\"data_source\":{\"id\":\"2012\"},\"glyph\":{\"id\":\"2015\"},\"group\":null,\"hover_glyph\":null,\"muted_glyph\":{\"id\":\"2017\"},\"nonselection_glyph\":{\"id\":\"2016\"},\"selection_glyph\":{\"id\":\"2047\"},\"view\":{\"id\":\"2019\"}},\"id\":\"2018\",\"type\":\"GlyphRenderer\"},{\"attributes\":{},\"id\":\"2213\",\"type\":\"Selection\"},{\"attributes\":{\"line_color\":\"#d62728\",\"line_width\":2,\"x\":{\"field\":\"Date\"},\"y\":{\"field\":\"value\"}},\"id\":\"2257\",\"type\":\"Line\"},{\"attributes\":{\"source\":{\"id\":\"2012\"}},\"id\":\"2019\",\"type\":\"CDSView\"},{\"attributes\":{\"label\":{\"value\":\"Land Title Holders Commission\"},\"renderers\":[{\"id\":\"2218\"}]},\"id\":\"2256\",\"type\":\"LegendItem\"},{\"attributes\":{\"line_color\":\"#e5ae38\",\"line_width\":2,\"x\":{\"field\":\"Date\"},\"y\":{\"field\":\"value\"}},\"id\":\"2047\",\"type\":\"Line\"},{\"attributes\":{\"coordinates\":null,\"data_source\":{\"id\":\"2086\"},\"glyph\":{\"id\":\"2089\"},\"group\":null,\"hover_glyph\":null,\"muted_glyph\":{\"id\":\"2091\"},\"nonselection_glyph\":{\"id\":\"2090\"},\"selection_glyph\":{\"id\":\"2125\"},\"view\":{\"id\":\"2093\"}},\"id\":\"2092\",\"type\":\"GlyphRenderer\"},{\"attributes\":{\"label\":{\"value\":\"Net Revenue\"},\"renderers\":[{\"id\":\"2018\"}]},\"id\":\"2046\",\"type\":\"LegendItem\"},{\"attributes\":{\"line_alpha\":0.1,\"line_color\":\"#6d904f\",\"line_width\":2,\"x\":{\"field\":\"Date\"},\"y\":{\"field\":\"value\"}},\"id\":\"2052\",\"type\":\"Line\"},{\"attributes\":{},\"id\":\"2241\",\"type\":\"UnionRenderers\"},{\"attributes\":{\"active_drag\":{\"id\":\"1927\"},\"active_scroll\":{\"id\":\"1928\"},\"tools\":[{\"id\":\"1900\"},{\"id\":\"1926\"},{\"id\":\"1927\"},{\"id\":\"1928\"},{\"id\":\"1929\"},{\"id\":\"1930\"}]},\"id\":\"1932\",\"type\":\"Toolbar\"},{\"attributes\":{\"line_alpha\":0.1,\"line_color\":\"#8b8b8b\",\"line_width\":2,\"x\":{\"field\":\"Date\"},\"y\":{\"field\":\"value\"}},\"id\":\"2090\",\"type\":\"Line\"},{\"attributes\":{},\"id\":\"2031\",\"type\":\"UnionRenderers\"},{\"attributes\":{},\"id\":\"1943\",\"type\":\"BasicTickFormatter\"},{\"attributes\":{},\"id\":\"1944\",\"type\":\"AllLabels\"},{\"attributes\":{\"mantissas\":[1,2,5],\"max_interval\":500.0,\"num_minor_ticks\":0},\"id\":\"1963\",\"type\":\"AdaptiveTicker\"},{\"attributes\":{\"callback\":null,\"formatters\":{\"@{Date}\":\"datetime\"},\"renderers\":[{\"id\":\"1951\"},{\"id\":\"1984\"},{\"id\":\"2018\"},{\"id\":\"2054\"},{\"id\":\"2092\"},{\"id\":\"2132\"},{\"id\":\"2174\"},{\"id\":\"2218\"},{\"id\":\"2264\"}],\"tags\":[\"hv_created\"],\"tooltips\":[[\"Variable\",\"@{Variable}\"],[\"Date\",\"@{Date}{%F %T}\"],[\"value\",\"@{value}\"]]},\"id\":\"1900\",\"type\":\"HoverTool\"},{\"attributes\":{\"base\":60,\"mantissas\":[1,2,5,10,15,20,30],\"max_interval\":1800000.0,\"min_interval\":1000.0,\"num_minor_ticks\":0},\"id\":\"1964\",\"type\":\"AdaptiveTicker\"},{\"attributes\":{\"months\":[0,1,2,3,4,5,6,7,8,9,10,11]},\"id\":\"1970\",\"type\":\"MonthsTicker\"},{\"attributes\":{\"below\":[{\"id\":\"1918\"}],\"center\":[{\"id\":\"1921\"},{\"id\":\"1925\"}],\"height\":340,\"left\":[{\"id\":\"1922\"}],\"margin\":[5,5,5,5],\"min_border_bottom\":10,\"min_border_left\":10,\"min_border_right\":10,\"min_border_top\":10,\"renderers\":[{\"id\":\"1951\"},{\"id\":\"1984\"},{\"id\":\"2018\"},{\"id\":\"2054\"},{\"id\":\"2092\"},{\"id\":\"2132\"},{\"id\":\"2174\"},{\"id\":\"2218\"},{\"id\":\"2264\"}],\"right\":[{\"id\":\"1975\"}],\"sizing_mode\":\"fixed\",\"title\":{\"id\":\"1910\"},\"toolbar\":{\"id\":\"1932\"},\"width\":1000,\"x_range\":{\"id\":\"1898\"},\"x_scale\":{\"id\":\"1914\"},\"y_range\":{\"id\":\"1899\"},\"y_scale\":{\"id\":\"1916\"}},\"id\":\"1909\",\"subtype\":\"Figure\",\"type\":\"Plot\"},{\"attributes\":{\"days\":[1,8,15,22]},\"id\":\"1968\",\"type\":\"DaysTicker\"},{\"attributes\":{\"data\":{\"Date\":{\"__ndarray__\":\"GeSW0wXMeEIZ5BZM00F5Qhnk1l5Ot3lCGeSWccksekIZ5FaERKJ6Qhnk1vwRGHtCGeSWD42Ne0IZ5FYiCAN8QhnkFjWDeHxCGeSWrVDufEI=\",\"dtype\":\"float64\",\"order\":\"little\",\"shape\":[10]},\"Variable\":[\"Gross Revenue\",\"Gross Revenue\",\"Gross Revenue\",\"Gross Revenue\",\"Gross Revenue\",\"Gross Revenue\",\"Gross Revenue\",\"Gross Revenue\",\"Gross Revenue\",\"Gross Revenue\"],\"value\":{\"__ndarray__\":\"VIWXVIMF8D8GD5rgV630P6mUS5zZ//I/ZPh/MMPa+T8YEkQN3KX9P8W89qbkRgBAByQIKTH3A0CdQyABXbQEQDmKl0aXxghA2Z6meNFCDUA=\",\"dtype\":\"float64\",\"order\":\"little\",\"shape\":[10]}},\"selected\":{\"id\":\"1979\"},\"selection_policy\":{\"id\":\"1995\"}},\"id\":\"1978\",\"type\":\"ColumnDataSource\"},{\"attributes\":{\"end\":1988117584238.256,\"reset_end\":1988117584238.256,\"reset_start\":1704034384238.256,\"start\":1704034384238.256,\"tags\":[[[\"Date\",\"Date\",null]]]},\"id\":\"1898\",\"type\":\"Range1d\"},{\"attributes\":{\"base\":24,\"mantissas\":[1,2,4,6,8,12],\"max_interval\":43200000.0,\"min_interval\":3600000.0,\"num_minor_ticks\":0},\"id\":\"1965\",\"type\":\"AdaptiveTicker\"},{\"attributes\":{\"days\":[1,2,3,4,5,6,7,8,9,10,11,12,13,14,15,16,17,18,19,20,21,22,23,24,25,26,27,28,29,30,31]},\"id\":\"1966\",\"type\":\"DaysTicker\"},{\"attributes\":{\"end\":5.421319111678268,\"reset_end\":5.421319111678268,\"reset_start\":0.5298871339058762,\"start\":0.5298871339058762,\"tags\":[[[\"value\",\"value\",null]]]},\"id\":\"1899\",\"type\":\"Range1d\"},{\"attributes\":{\"days\":[1,4,7,10,13,16,19,22,25,28]},\"id\":\"1967\",\"type\":\"DaysTicker\"},{\"attributes\":{\"days\":[1,15]},\"id\":\"1969\",\"type\":\"DaysTicker\"},{\"attributes\":{\"months\":[0,2,4,6,8,10]},\"id\":\"1971\",\"type\":\"MonthsTicker\"},{\"attributes\":{\"months\":[0,4,8]},\"id\":\"1972\",\"type\":\"MonthsTicker\"},{\"attributes\":{\"line_alpha\":0.2,\"line_color\":\"#6d904f\",\"line_width\":2,\"x\":{\"field\":\"Date\"},\"y\":{\"field\":\"value\"}},\"id\":\"2053\",\"type\":\"Line\"}],\"root_ids\":[\"1897\",\"2462\"]},\"title\":\"Bokeh Application\",\"version\":\"2.4.3\"}};\n",
       "    var render_items = [{\"docid\":\"45b47cbf-03de-4eb8-a5a1-f1db07cb3ea5\",\"root_ids\":[\"1897\"],\"roots\":{\"1897\":\"e645f5a7-fea9-4d5c-81d4-f03a4fdba040\"}}];\n",
       "    root.Bokeh.embed.embed_items_notebook(docs_json, render_items);\n",
       "    for (const render_item of render_items) {\n",
       "      for (const root_id of render_item.root_ids) {\n",
       "\tconst id_el = document.getElementById(root_id)\n",
       "\tif (id_el.children.length && (id_el.children[0].className === 'bk-root')) {\n",
       "\t  const root_el = id_el.children[0]\n",
       "\t  root_el.id = root_el.id + '-rendered'\n",
       "\t}\n",
       "      }\n",
       "    }\n",
       "  }\n",
       "  if (root.Bokeh !== undefined && root.Bokeh.Panel !== undefined) {\n",
       "    embed_document(root);\n",
       "  } else {\n",
       "    var attempts = 0;\n",
       "    var timer = setInterval(function(root) {\n",
       "      if (root.Bokeh !== undefined && root.Bokeh.Panel !== undefined) {\n",
       "        clearInterval(timer);\n",
       "        embed_document(root);\n",
       "      } else if (document.readyState == \"complete\") {\n",
       "        attempts++;\n",
       "        if (attempts > 200) {\n",
       "          clearInterval(timer);\n",
       "          console.log(\"Bokeh: ERROR: Unable to run BokehJS code because BokehJS library is missing\");\n",
       "        }\n",
       "      }\n",
       "    }, 25, root)\n",
       "  }\n",
       "})(window);</script>"
      ],
      "text/plain": [
       "HoloViews(NdOverlay, height=340, sizing_mode='fixed', width=1000)"
      ]
     },
     "execution_count": 12,
     "metadata": {
      "application/vnd.holoviews_exec.v0+json": {
       "id": "1897"
      }
     },
     "output_type": "execute_result"
    }
   ],
   "source": [
    "carbon_model.view_model_normalized_chart(f2)"
   ]
  }
 ],
 "metadata": {
  "kernelspec": {
   "display_name": "Python 3 (ipykernel)",
   "language": "python",
   "name": "python3"
  },
  "language_info": {
   "codemirror_mode": {
    "name": "ipython",
    "version": 3
   },
   "file_extension": ".py",
   "mimetype": "text/x-python",
   "name": "python",
   "nbconvert_exporter": "python",
   "pygments_lexer": "ipython3",
   "version": "3.10.6"
  }
 },
 "nbformat": 4,
 "nbformat_minor": 5
}
