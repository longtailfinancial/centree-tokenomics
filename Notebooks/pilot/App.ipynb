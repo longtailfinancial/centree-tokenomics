{
 "cells": [
  {
   "cell_type": "code",
   "execution_count": 13,
   "id": "78c878c5-2214-49b5-810b-ae745d801609",
   "metadata": {
    "tags": []
   },
   "outputs": [],
   "source": [
    "%run Web3Pilot.ipynb"
   ]
  },
  {
   "cell_type": "code",
   "execution_count": 14,
   "id": "c5721dd2-8d7a-49ee-b9b2-dd9fbca168d0",
   "metadata": {
    "tags": []
   },
   "outputs": [],
   "source": [
    "from panel.template import templates\n",
    "\n",
    "class App(pm.Parameterized):\n",
    "    template = pm.Selector(default=pn.template.fast.list.FastListTemplate, objects=list(templates.values()))\n",
    "    accent_color = pm.Color(\"#00286e\")\n",
    "    site = pm.String(\"Centree TE\")\n",
    "    title = pm.String(\"Financial Model\")\n",
    "    main = pm.List()\n",
    "    \n",
    "    def app(self):\n",
    "        return self.template(\n",
    "                site=self.site,\n",
    "                title=self.title,\n",
    "                header_background=self.accent_color,\n",
    "                main=self.main,\n",
    "            )\n",
    "    \n",
    "    def serve_app(self):\n",
    "        return self.app().servable()\n"
   ]
  },
  {
   "cell_type": "code",
   "execution_count": 15,
   "id": "e410e4f1-b323-4d0b-bbee-0e6982c5efbc",
   "metadata": {
    "tags": []
   },
   "outputs": [],
   "source": [
    "apps = [\n",
    "    (\"Forest Pipeline\", forest_pipeline.view_pipeline()),\n",
    "    (\"Forest Pipeline Export\", forest_pipeline.view_export_formatted()),\n",
    "    (\"Web3 Revenue Chart\", w.view_cumulative_revenue_chart()),\n",
    "    (\"Web3 Revenue Table\", w.view_cumulative_revenue_table()),\n",
    "]"
   ]
  },
  {
   "cell_type": "code",
   "execution_count": 16,
   "id": "ba5344c3-c51c-4a45-a230-dba4db1b0cf9",
   "metadata": {
    "tags": []
   },
   "outputs": [
    {
     "name": "stdout",
     "output_type": "stream",
     "text": [
      "Launching server at http://localhost:41947\n"
     ]
    },
    {
     "data": {
      "text/plain": [
       "<panel.io.server.Server at 0x7fd2aa80a2f0>"
      ]
     },
     "execution_count": 16,
     "metadata": {},
     "output_type": "execute_result"
    },
    {
     "name": "stderr",
     "output_type": "stream",
     "text": [
      "WARNING:bokeh.core.validation.check:W-1005 (FIXED_SIZING_MODE): 'fixed' sizing mode requires width and height to be set: Row(id='17198', ...)\n",
      "WARNING:bokeh.core.validation.check:W-1005 (FIXED_SIZING_MODE): 'fixed' sizing mode requires width and height to be set: Row(id='16323', ...)\n",
      "WARNING:tornado.access:404 GET /favicon.ico (127.0.0.1) 0.31ms\n"
     ]
    }
   ],
   "source": [
    "pn.Tabs(*apps).show()"
   ]
  },
  {
   "cell_type": "code",
   "execution_count": null,
   "id": "4f4c3650-20a4-4ea5-a833-2e2217a313bc",
   "metadata": {},
   "outputs": [],
   "source": []
  }
 ],
 "metadata": {
  "kernelspec": {
   "display_name": "Python 3 (ipykernel)",
   "language": "python",
   "name": "python3"
  },
  "language_info": {
   "codemirror_mode": {
    "name": "ipython",
    "version": 3
   },
   "file_extension": ".py",
   "mimetype": "text/x-python",
   "name": "python",
   "nbconvert_exporter": "python",
   "pygments_lexer": "ipython3",
   "version": "3.10.6"
  }
 },
 "nbformat": 4,
 "nbformat_minor": 5
}
