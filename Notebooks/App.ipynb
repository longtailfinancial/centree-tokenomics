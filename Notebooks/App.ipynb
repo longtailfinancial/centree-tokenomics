{
 "cells": [
  {
   "cell_type": "code",
   "execution_count": 5,
   "id": "78c878c5-2214-49b5-810b-ae745d801609",
   "metadata": {
    "tags": []
   },
   "outputs": [],
   "source": [
    "%run Web3Pilot.ipynb"
   ]
  },
  {
   "cell_type": "code",
   "execution_count": 24,
   "id": "c5721dd2-8d7a-49ee-b9b2-dd9fbca168d0",
   "metadata": {
    "tags": []
   },
   "outputs": [],
   "source": [
    "from panel.template import templates\n",
    "\n",
    "class App(pm.Parameterized):\n",
    "    template = pm.Selector(default=pn.template.fast.list.FastListTemplate, objects=list(templates.values()))\n",
    "    accent_color = pm.Color(\"#00286e\")\n",
    "    site = pm.String(\"Centree TE\")\n",
    "    title = pm.String(\"Financial Model\")\n",
    "    main = pm.List()\n",
    "    \n",
    "    def app(self):\n",
    "        return self.template(\n",
    "                site=self.site,\n",
    "                title=self.title,\n",
    "                header_background=self.accent_color,\n",
    "                main=self.main,\n",
    "            )\n",
    "    \n",
    "    def serve_app(self):\n",
    "        return self.app().servable()\n"
   ]
  },
  {
   "cell_type": "code",
   "execution_count": 30,
   "id": "e410e4f1-b323-4d0b-bbee-0e6982c5efbc",
   "metadata": {
    "tags": []
   },
   "outputs": [],
   "source": [
    "apps = [\n",
    "    f1.view(),\n",
    "    f2.view(),\n",
    "    carbon_model.view_model_normalized_chart(f1),\n",
    "    carbon_model.view_model_normalized_chart(f2),\n",
    "    forest_pipeline.view_pipeline(),\n",
    "    forest_pipeline.view_export_formatted(),\n",
    "    w.view_cumulative_revenue_chart(),\n",
    "    w.view_cumulative_revenue_table(),\n",
    "]"
   ]
  },
  {
   "cell_type": "code",
   "execution_count": 32,
   "id": "ba5344c3-c51c-4a45-a230-dba4db1b0cf9",
   "metadata": {
    "tags": []
   },
   "outputs": [
    {
     "data": {},
     "metadata": {},
     "output_type": "display_data"
    },
    {
     "data": {},
     "metadata": {},
     "output_type": "display_data"
    },
    {
     "data": {
      "application/vnd.holoviews_exec.v0+json": "",
      "text/html": [
       "<div id='6163'>\n",
       "  <div class=\"bk-root\" id=\"384403b6-ab9f-40ce-a122-433e19bc566d\" data-root-id=\"6163\"></div>\n",
       "</div>\n",
       "<script type=\"application/javascript\">(function(root) {\n",
       "  function embed_document(root) {\n",
       "    var docs_json = {\"51ca7e20-9b0c-47b9-8c40-e6253e804145\":{\"defs\":[{\"extends\":null,\"module\":null,\"name\":\"ReactiveHTML1\",\"overrides\":[],\"properties\":[]},{\"extends\":null,\"module\":null,\"name\":\"FlexBox1\",\"overrides\":[],\"properties\":[{\"default\":\"flex-start\",\"kind\":null,\"name\":\"align_content\"},{\"default\":\"flex-start\",\"kind\":null,\"name\":\"align_items\"},{\"default\":\"row\",\"kind\":null,\"name\":\"flex_direction\"},{\"default\":\"wrap\",\"kind\":null,\"name\":\"flex_wrap\"},{\"default\":\"flex-start\",\"kind\":null,\"name\":\"justify_content\"}]},{\"extends\":null,\"module\":null,\"name\":\"GridStack1\",\"overrides\":[],\"properties\":[{\"default\":\"warn\",\"kind\":null,\"name\":\"mode\"},{\"default\":null,\"kind\":null,\"name\":\"ncols\"},{\"default\":null,\"kind\":null,\"name\":\"nrows\"},{\"default\":true,\"kind\":null,\"name\":\"allow_resize\"},{\"default\":true,\"kind\":null,\"name\":\"allow_drag\"},{\"default\":[],\"kind\":null,\"name\":\"state\"}]},{\"extends\":null,\"module\":null,\"name\":\"click1\",\"overrides\":[],\"properties\":[{\"default\":\"\",\"kind\":null,\"name\":\"terminal_output\"},{\"default\":\"\",\"kind\":null,\"name\":\"debug_name\"},{\"default\":0,\"kind\":null,\"name\":\"clears\"}]},{\"extends\":null,\"module\":null,\"name\":\"NotificationAreaBase1\",\"overrides\":[],\"properties\":[{\"default\":\"bottom-right\",\"kind\":null,\"name\":\"position\"},{\"default\":0,\"kind\":null,\"name\":\"_clear\"}]},{\"extends\":null,\"module\":null,\"name\":\"NotificationArea1\",\"overrides\":[],\"properties\":[{\"default\":[],\"kind\":null,\"name\":\"notifications\"},{\"default\":\"bottom-right\",\"kind\":null,\"name\":\"position\"},{\"default\":0,\"kind\":null,\"name\":\"_clear\"},{\"default\":[{\"background\":\"#ffc107\",\"icon\":{\"className\":\"fas fa-exclamation-triangle\",\"color\":\"white\",\"tagName\":\"i\"},\"type\":\"warning\"},{\"background\":\"#007bff\",\"icon\":{\"className\":\"fas fa-info-circle\",\"color\":\"white\",\"tagName\":\"i\"},\"type\":\"info\"}],\"kind\":null,\"name\":\"types\"}]},{\"extends\":null,\"module\":null,\"name\":\"Notification\",\"overrides\":[],\"properties\":[{\"default\":null,\"kind\":null,\"name\":\"background\"},{\"default\":3000,\"kind\":null,\"name\":\"duration\"},{\"default\":null,\"kind\":null,\"name\":\"icon\"},{\"default\":\"\",\"kind\":null,\"name\":\"message\"},{\"default\":null,\"kind\":null,\"name\":\"notification_type\"},{\"default\":false,\"kind\":null,\"name\":\"_destroyed\"}]},{\"extends\":null,\"module\":null,\"name\":\"TemplateActions1\",\"overrides\":[],\"properties\":[{\"default\":0,\"kind\":null,\"name\":\"open_modal\"},{\"default\":0,\"kind\":null,\"name\":\"close_modal\"}]},{\"extends\":null,\"module\":null,\"name\":\"MaterialTemplateActions1\",\"overrides\":[],\"properties\":[{\"default\":0,\"kind\":null,\"name\":\"open_modal\"},{\"default\":0,\"kind\":null,\"name\":\"close_modal\"}]}],\"roots\":{\"references\":[{\"attributes\":{\"margin\":[5,10,5,10],\"max_length\":5000,\"title\":\"Forest name\",\"value\":\"KNF2\"},\"id\":\"6194\",\"type\":\"TextInput\"},{\"attributes\":{\"children\":[{\"id\":\"6192\"},{\"id\":\"6199\"}],\"margin\":[0,0,0,0],\"name\":\"Row09911\"},\"id\":\"6191\",\"type\":\"Row\"},{\"attributes\":{\"margin\":[5,10,5,10],\"name\":\"\",\"text\":\"<b>Forest</b>\"},\"id\":\"6166\",\"type\":\"Div\"},{\"attributes\":{\"margin\":[5,10,5,10],\"placeholder\":\"0\",\"step\":200.0,\"title\":\"Forested area hectares\",\"value\":15371,\"value_throttled\":15371},\"id\":\"6195\",\"type\":\"Spinner\"},{\"attributes\":{\"margin\":[5,10,5,10],\"placeholder\":\"0\",\"step\":400.0,\"title\":\"Tons carbon per year\",\"value\":40045.9,\"value_throttled\":40045.9},\"id\":\"6197\",\"type\":\"Spinner\"},{\"attributes\":{},\"id\":\"6203\",\"type\":\"StringEditor\"},{\"attributes\":{\"editor\":{\"id\":\"6181\"},\"field\":\"Value\",\"formatter\":{\"id\":\"6180\"},\"title\":\"Value\"},\"id\":\"6182\",\"type\":\"TableColumn\"},{\"attributes\":{\"margin\":[5,10,5,10],\"placeholder\":\"0\",\"step\":1000.0,\"title\":\"Total centree count\",\"value\":101675,\"value_throttled\":101675},\"id\":\"6169\",\"type\":\"Spinner\"},{\"attributes\":{\"source\":{\"id\":\"6200\"}},\"id\":\"6214\",\"type\":\"CDSView\"},{\"attributes\":{},\"id\":\"6181\",\"type\":\"StringEditor\"},{\"attributes\":{\"margin\":[5,10,5,10],\"max_length\":5000,\"title\":\"Forest name\",\"value\":\"KNF1\"},\"id\":\"6167\",\"type\":\"TextInput\"},{\"attributes\":{\"columns\":[{\"id\":\"6177\"},{\"id\":\"6182\"}],\"height\":700,\"name\":\"ParamMethod09776\",\"reorderable\":false,\"source\":{\"id\":\"6173\"},\"view\":{\"id\":\"6187\"},\"width\":700},\"id\":\"6185\",\"type\":\"DataTable\"},{\"attributes\":{\"margin\":[5,10,5,10],\"placeholder\":\"0\",\"step\":40000.0,\"title\":\"Extractive tenure purchase\",\"value\":3873819.6,\"value_throttled\":3873819.6},\"id\":\"6198\",\"type\":\"Spinner\"},{\"attributes\":{\"margin\":[5,10,5,10],\"placeholder\":\"0\",\"step\":70.0,\"title\":\"Forested area hectares\",\"value\":7478,\"value_throttled\":7478},\"id\":\"6168\",\"type\":\"Spinner\"},{\"attributes\":{},\"id\":\"6175\",\"type\":\"StringFormatter\"},{\"attributes\":{},\"id\":\"6202\",\"type\":\"StringFormatter\"},{\"attributes\":{\"columns\":[{\"id\":\"6204\"},{\"id\":\"6209\"}],\"height\":700,\"name\":\"ParamMethod09858\",\"reorderable\":false,\"source\":{\"id\":\"6200\"},\"view\":{\"id\":\"6214\"},\"width\":700},\"id\":\"6212\",\"type\":\"DataTable\"},{\"attributes\":{},\"id\":\"6208\",\"type\":\"StringEditor\"},{\"attributes\":{},\"id\":\"6207\",\"type\":\"StringFormatter\"},{\"attributes\":{\"margin\":[5,10,5,10],\"placeholder\":\"0\",\"step\":200.0,\"title\":\"Tons carbon per year\",\"value\":21867.58,\"value_throttled\":21867.58},\"id\":\"6170\",\"type\":\"Spinner\"},{\"attributes\":{},\"id\":\"6188\",\"type\":\"UnionRenderers\"},{\"attributes\":{\"margin\":[5,10,5,10],\"placeholder\":\"0\",\"step\":20000.0,\"title\":\"Extractive tenure purchase\",\"value\":1884615.38,\"value_throttled\":1884615.38},\"id\":\"6171\",\"type\":\"Spinner\"},{\"attributes\":{\"editor\":{\"id\":\"6208\"},\"field\":\"Value\",\"formatter\":{\"id\":\"6207\"},\"title\":\"Value\"},\"id\":\"6209\",\"type\":\"TableColumn\"},{\"attributes\":{},\"id\":\"6176\",\"type\":\"StringEditor\"},{\"attributes\":{\"children\":[{\"id\":\"6185\"}],\"margin\":[0,0,0,0],\"name\":\"Row09780\"},\"id\":\"6172\",\"type\":\"Row\"},{\"attributes\":{\"children\":[{\"id\":\"6212\"}],\"margin\":[0,0,0,0],\"name\":\"Row09862\"},\"id\":\"6199\",\"type\":\"Row\"},{\"attributes\":{},\"id\":\"6174\",\"type\":\"Selection\"},{\"attributes\":{\"child\":{\"id\":\"6191\"},\"name\":\"Row09911\",\"title\":\"Row09911\"},\"id\":\"6217\",\"type\":\"Panel\"},{\"attributes\":{},\"id\":\"6201\",\"type\":\"Selection\"},{\"attributes\":{},\"id\":\"6215\",\"type\":\"UnionRenderers\"},{\"attributes\":{\"child\":{\"id\":\"6164\"},\"name\":\"Row09829\",\"title\":\"Row09829\"},\"id\":\"6190\",\"type\":\"Panel\"},{\"attributes\":{\"data\":{\"Field\":[\"acres_protected\",\"due_dilligence_cost\",\"subtotal\",\"insurance_pool\",\"total_protection_cost\",\"centree_count_per_hectare\",\"protection_cost_per_hectare\",\"centree_mint_fee_per_hectare\",\"total_minting_charge\",\"total_cost_per_hectare\",\"total_cost_per_centree\",\"total_production_cost_including_minting\",\"sale_value\",\"cost_per_hectare\",\"cost_per_acre\",\"centree_price\",\"gross_return\",\"centree_commission\",\"landowner_share\",\"centree_commission_per_hectare\",\"centree_commission_of_sale\",\"landowner_share_of_sale\",\"total_centree_revenue\",\"total_centree_revenue_per_asset_value\"],\"Value\":[\"18,470.66\",\"59,824.0\",\"2,119,439.38\",\"211,943.94\",\"2,331,383.32\",\"13.6\",\"311.77\",\"21.82\",\"163,196.83\",\"333.59\",\"24.53\",\"2,494,580.15\",\"3,118,225.19\",\"416.99\",\"154.44\",\"30.67\",\"623,645.04\",\"249,458.02\",\"374,187.02\",\"33.36\",\"0.08\",\"0.12\",\"412,654.85\",\"0.13\"]},\"selected\":{\"id\":\"6174\"},\"selection_policy\":{\"id\":\"6188\"}},\"id\":\"6173\",\"type\":\"ColumnDataSource\"},{\"attributes\":{\"data\":{\"Field\":[\"acres_protected\",\"due_dilligence_cost\",\"subtotal\",\"insurance_pool\",\"total_protection_cost\",\"centree_count_per_hectare\",\"protection_cost_per_hectare\",\"centree_mint_fee_per_hectare\",\"total_minting_charge\",\"total_cost_per_hectare\",\"total_cost_per_centree\",\"total_production_cost_including_minting\",\"sale_value\",\"cost_per_hectare\",\"cost_per_acre\",\"centree_price\",\"gross_return\",\"centree_commission\",\"landowner_share\",\"centree_commission_per_hectare\",\"centree_commission_of_sale\",\"landowner_share_of_sale\",\"total_centree_revenue\",\"total_centree_revenue_per_asset_value\"],\"Value\":[\"37,966.37\",\"122,968.0\",\"4,171,787.6\",\"417,178.76\",\"4,588,966.36\",\"51.13\",\"298.55\",\"20.9\",\"321,227.65\",\"319.45\",\"6.25\",\"4,910,194.01\",\"6,137,742.51\",\"399.31\",\"147.89\",\"7.81\",\"1,227,548.5\",\"491,019.4\",\"736,529.1\",\"31.94\",\"0.08\",\"0.12\",\"812,247.05\",\"0.13\"]},\"selected\":{\"id\":\"6201\"},\"selection_policy\":{\"id\":\"6215\"}},\"id\":\"6200\",\"type\":\"ColumnDataSource\"},{\"attributes\":{\"editor\":{\"id\":\"6176\"},\"field\":\"Field\",\"formatter\":{\"id\":\"6175\"},\"title\":\"Field\"},\"id\":\"6177\",\"type\":\"TableColumn\"},{\"attributes\":{\"margin\":[5,10,5,10],\"placeholder\":\"0\",\"step\":8000.0,\"title\":\"Total centree count\",\"value\":785944,\"value_throttled\":785944},\"id\":\"6196\",\"type\":\"Spinner\"},{\"attributes\":{\"margin\":[5,10,5,10],\"name\":\"\",\"text\":\"<b>Forest</b>\"},\"id\":\"6193\",\"type\":\"Div\"},{\"attributes\":{\"margin\":[0,0,0,0],\"tabs\":[{\"id\":\"6190\"},{\"id\":\"6217\"}]},\"id\":\"6163\",\"type\":\"panel.models.tabs.Tabs\"},{\"attributes\":{},\"id\":\"6180\",\"type\":\"StringFormatter\"},{\"attributes\":{\"children\":[{\"id\":\"6165\"},{\"id\":\"6172\"}],\"margin\":[0,0,0,0],\"name\":\"Row09829\"},\"id\":\"6164\",\"type\":\"Row\"},{\"attributes\":{\"client_comm_id\":\"af052675a0464a2a92c1aa6b0035682f\",\"comm_id\":\"2a4b124f18364f94a9f8c023c04834d5\",\"plot_id\":\"6163\"},\"id\":\"6230\",\"type\":\"panel.models.comm_manager.CommManager\"},{\"attributes\":{\"editor\":{\"id\":\"6203\"},\"field\":\"Field\",\"formatter\":{\"id\":\"6202\"},\"title\":\"Field\"},\"id\":\"6204\",\"type\":\"TableColumn\"},{\"attributes\":{\"children\":[{\"id\":\"6193\"},{\"id\":\"6194\"},{\"id\":\"6195\"},{\"id\":\"6196\"},{\"id\":\"6197\"},{\"id\":\"6198\"}],\"margin\":[5,5,5,5],\"min_width\":300,\"name\":\"Forest\",\"width\":300},\"id\":\"6192\",\"type\":\"Column\"},{\"attributes\":{\"source\":{\"id\":\"6173\"}},\"id\":\"6187\",\"type\":\"CDSView\"},{\"attributes\":{\"children\":[{\"id\":\"6166\"},{\"id\":\"6167\"},{\"id\":\"6168\"},{\"id\":\"6169\"},{\"id\":\"6170\"},{\"id\":\"6171\"}],\"margin\":[5,5,5,5],\"min_width\":300,\"name\":\"Forest\",\"width\":300},\"id\":\"6165\",\"type\":\"Column\"}],\"root_ids\":[\"6163\",\"6230\"]},\"title\":\"Bokeh Application\",\"version\":\"2.4.3\"}};\n",
       "    var render_items = [{\"docid\":\"51ca7e20-9b0c-47b9-8c40-e6253e804145\",\"root_ids\":[\"6163\"],\"roots\":{\"6163\":\"384403b6-ab9f-40ce-a122-433e19bc566d\"}}];\n",
       "    root.Bokeh.embed.embed_items_notebook(docs_json, render_items);\n",
       "    for (const render_item of render_items) {\n",
       "      for (const root_id of render_item.root_ids) {\n",
       "\tconst id_el = document.getElementById(root_id)\n",
       "\tif (id_el.children.length && (id_el.children[0].className === 'bk-root')) {\n",
       "\t  const root_el = id_el.children[0]\n",
       "\t  root_el.id = root_el.id + '-rendered'\n",
       "\t}\n",
       "      }\n",
       "    }\n",
       "  }\n",
       "  if (root.Bokeh !== undefined && root.Bokeh.Panel !== undefined) {\n",
       "    embed_document(root);\n",
       "  } else {\n",
       "    var attempts = 0;\n",
       "    var timer = setInterval(function(root) {\n",
       "      if (root.Bokeh !== undefined && root.Bokeh.Panel !== undefined) {\n",
       "        clearInterval(timer);\n",
       "        embed_document(root);\n",
       "      } else if (document.readyState == \"complete\") {\n",
       "        attempts++;\n",
       "        if (attempts > 200) {\n",
       "          clearInterval(timer);\n",
       "          console.log(\"Bokeh: ERROR: Unable to run BokehJS code because BokehJS library is missing\");\n",
       "        }\n",
       "      }\n",
       "    }, 25, root)\n",
       "  }\n",
       "})(window);</script>"
      ],
      "text/plain": [
       "Tabs\n",
       "    [0] Row\n",
       "        [0] Column(margin=5, name='Forest', width=300)\n",
       "            [0] StaticText(value='<b>Forest</b>')\n",
       "            [1] TextInput(name='Forest name', value='KNF1')\n",
       "            [2] FloatInput(name='Forested area hectares', step=70.0, value=7478)\n",
       "            [3] FloatInput(name='Total centree count', step=1000.0, value=101675)\n",
       "            [4] FloatInput(name='Tons carbon per year', step=200.0, value=21867.58)\n",
       "            [5] FloatInput(name='Extractive tenure p..., step=20000.0, value=1884615.38)\n",
       "        [1] ParamMethod(method, _pane=HoloViews)\n",
       "    [1] Row\n",
       "        [0] Column(margin=5, name='Forest', width=300)\n",
       "            [0] StaticText(value='<b>Forest</b>')\n",
       "            [1] TextInput(name='Forest name', value='KNF2')\n",
       "            [2] FloatInput(name='Forested area hectares', step=200.0, value=15371)\n",
       "            [3] FloatInput(name='Total centree count', step=8000.0, value=785944)\n",
       "            [4] FloatInput(name='Tons carbon per year', step=400.0, value=40045.9)\n",
       "            [5] FloatInput(name='Extractive tenure p..., step=40000.0, value=3873819.6)\n",
       "        [1] ParamMethod(method, _pane=HoloViews)"
      ]
     },
     "execution_count": 32,
     "metadata": {
      "application/vnd.holoviews_exec.v0+json": {
       "id": "6163"
      }
     },
     "output_type": "execute_result"
    }
   ],
   "source": [
    "pn.Tabs(*apps[:2])"
   ]
  },
  {
   "cell_type": "code",
   "execution_count": null,
   "id": "4f4c3650-20a4-4ea5-a833-2e2217a313bc",
   "metadata": {},
   "outputs": [],
   "source": []
  }
 ],
 "metadata": {
  "kernelspec": {
   "display_name": "Python 3 (ipykernel)",
   "language": "python",
   "name": "python3"
  },
  "language_info": {
   "codemirror_mode": {
    "name": "ipython",
    "version": 3
   },
   "file_extension": ".py",
   "mimetype": "text/x-python",
   "name": "python",
   "nbconvert_exporter": "python",
   "pygments_lexer": "ipython3",
   "version": "3.10.6"
  }
 },
 "nbformat": 4,
 "nbformat_minor": 5
}
